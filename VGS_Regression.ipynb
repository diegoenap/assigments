{
 "cells": [
  {
   "cell_type": "code",
   "execution_count": 2,
   "metadata": {},
   "outputs": [],
   "source": [
    "# Import necessary libraries.\n",
    "import findspark\n",
    "findspark.init('/home/ubuntu/spark-2.1.1-bin-hadoop2.7')\n",
    "import pyspark\n",
    "from pyspark.sql import SparkSession\n",
    "spark = SparkSession.builder.appName('regression').getOrCreate()\n",
    "\n",
    "from pyspark.sql.functions import monotonically_increasing_id\n",
    "from pyspark.sql.functions import col\n",
    "from pyspark.ml.feature import VectorAssembler\n",
    "\n",
    "import warnings\n",
    "warnings.filterwarnings('ignore')\n",
    "\n",
    "import matplotlib.pyplot as plt\n",
    "import numpy as np\n",
    "\n",
    "plt.rcParams['figure.figsize'] = 8, 5\n",
    "plt.rcParams['image.cmap'] = 'viridis'\n",
    "import pandas as pd"
   ]
  },
  {
   "cell_type": "code",
   "execution_count": 3,
   "metadata": {},
   "outputs": [],
   "source": [
    "# Create dataFrame_Initial from VideoGamesSales.csv file.\n",
    "dataFrame_Initial = spark.read.csv('../Datasets/VideoGamesSales.csv', header=True, inferSchema=True)"
   ]
  },
  {
   "cell_type": "code",
   "execution_count": 4,
   "metadata": {},
   "outputs": [
    {
     "name": "stdout",
     "output_type": "stream",
     "text": [
      "Total data points: 16719\n"
     ]
    }
   ],
   "source": [
    "# Data point count for dataFrame_Initial.\n",
    "print(\"Total data points:\", dataFrame_Initial.count())"
   ]
  },
  {
   "cell_type": "code",
   "execution_count": 5,
   "metadata": {},
   "outputs": [
    {
     "name": "stdout",
     "output_type": "stream",
     "text": [
      "root\n",
      " |-- Name: string (nullable = true)\n",
      " |-- Platform: string (nullable = true)\n",
      " |-- Year_of_Release: string (nullable = true)\n",
      " |-- Genre: string (nullable = true)\n",
      " |-- Publisher: string (nullable = true)\n",
      " |-- NA_Sales: double (nullable = true)\n",
      " |-- EU_Sales: double (nullable = true)\n",
      " |-- JP_Sales: double (nullable = true)\n",
      " |-- Other_Sales: double (nullable = true)\n",
      " |-- Global_Sales: double (nullable = true)\n",
      " |-- Critic_Score: integer (nullable = true)\n",
      " |-- Critic_Count: integer (nullable = true)\n",
      " |-- User_Score: string (nullable = true)\n",
      " |-- User_Count: integer (nullable = true)\n",
      " |-- Developer: string (nullable = true)\n",
      " |-- Rating: string (nullable = true)\n",
      "\n"
     ]
    }
   ],
   "source": [
    "# Schema table for dataFrame_Initial.\n",
    "dataFrame_Initial.printSchema()"
   ]
  },
  {
   "cell_type": "code",
   "execution_count": 6,
   "metadata": {},
   "outputs": [
    {
     "name": "stdout",
     "output_type": "stream",
     "text": [
      "+-------+------------------+\n",
      "|summary|   Year_of_Release|\n",
      "+-------+------------------+\n",
      "|  count|             16719|\n",
      "|   mean|2006.4873556231003|\n",
      "| stddev|5.8789947683491475|\n",
      "|    min|              1980|\n",
      "|    max|               N/A|\n",
      "+-------+------------------+\n",
      "\n"
     ]
    }
   ],
   "source": [
    "# General statistics for 'Year_of_Release'\n",
    "dataFrame_Initial.select('Year_of_Release').describe().show()"
   ]
  },
  {
   "cell_type": "code",
   "execution_count": 7,
   "metadata": {},
   "outputs": [
    {
     "data": {
      "text/plain": [
       "14120"
      ]
     },
     "execution_count": 7,
     "metadata": {},
     "output_type": "execute_result"
    }
   ],
   "source": [
    "dataFrame_Initial.filter(\"Year_of_Release > 2000 AND Year_of_Release < 2017\").select('Year_of_Release').count()"
   ]
  },
  {
   "cell_type": "code",
   "execution_count": 8,
   "metadata": {},
   "outputs": [
    {
     "data": {
      "text/plain": [
       "[Row(Name='Alter Ego', Platform='PC', Year_of_Release='1985', Genre='Simulation', Publisher='Activision', NA_Sales=0.0, EU_Sales=0.03, JP_Sales=0.0, Other_Sales=0.01, Global_Sales=0.03, Critic_Score=59, Critic_Count=9, User_Score='5.8', User_Count=19, Developer='Viva Media, Viva Media, LLC', Rating='T'),\n",
       " Row(Name='SimCity', Platform='PC', Year_of_Release='1988', Genre='Simulation', Publisher='Maxis', NA_Sales=0.0, EU_Sales=0.02, JP_Sales=0.0, Other_Sales=0.01, Global_Sales=0.03, Critic_Score=64, Critic_Count=75, User_Score='2.2', User_Count=4572, Developer='Maxis', Rating='E10+'),\n",
       " Row(Name='Doom', Platform='PC', Year_of_Release='1992', Genre='Shooter', Publisher='id Software', NA_Sales=0.02, EU_Sales=0.0, JP_Sales=0.0, Other_Sales=0.0, Global_Sales=0.03, Critic_Score=85, Critic_Count=44, User_Score='8.2', User_Count=1796, Developer='id Software', Rating='M'),\n",
       " Row(Name='Battle Arena Toshinden', Platform='PS', Year_of_Release='1994', Genre='Fighting', Publisher='Sony Computer Entertainment', NA_Sales=0.39, EU_Sales=0.26, JP_Sales=0.53, Other_Sales=0.08, Global_Sales=1.27, Critic_Score=69, Critic_Count=4, User_Score='6.3', User_Count=4, Developer='Tamsoft', Rating='T'),\n",
       " Row(Name='Super Puzzle Fighter II Turbo', Platform='PS', Year_of_Release='1996', Genre='Puzzle', Publisher='Virgin Interactive', NA_Sales=0.08, EU_Sales=0.05, JP_Sales=0.0, Other_Sales=0.01, Global_Sales=0.14, Critic_Score=83, Critic_Count=9, User_Score='7.4', User_Count=5, Developer='Capcom', Rating='E')]"
      ]
     },
     "execution_count": 8,
     "metadata": {},
     "output_type": "execute_result"
    }
   ],
   "source": [
    "# Filter dataFrame_Initial to remove empty values.\n",
    "dataFrame_Filtered = dataFrame_Initial.na.drop()\n",
    "\n",
    "# Filter dataFrame_Filtered by 'Year_of_Release'\n",
    "dataFrame_Filtered = dataFrame_Filtered.orderBy('Year_of_Release')\n",
    "\n",
    "# Check dataFrame has been filtered. \n",
    "dataFrame_Filtered.head(5)"
   ]
  },
  {
   "cell_type": "code",
   "execution_count": 9,
   "metadata": {},
   "outputs": [
    {
     "name": "stdout",
     "output_type": "stream",
     "text": [
      "Total data points: 6947\n"
     ]
    }
   ],
   "source": [
    "# Data point count for dataFrame_Filtered.\n",
    "print(\"Total data points:\", dataFrame_Filtered.count())"
   ]
  },
  {
   "cell_type": "code",
   "execution_count": 10,
   "metadata": {},
   "outputs": [],
   "source": [
    "# Add key column, 'ID' to dataFrame.\n",
    "dataFrame_wKey = dataFrame_Filtered.select('*').withColumn('ID', monotonically_increasing_id())"
   ]
  },
  {
   "cell_type": "code",
   "execution_count": 11,
   "metadata": {},
   "outputs": [],
   "source": [
    "# Set column types to accurately reflect data.\n",
    "dataFrame_wKey = dataFrame_wKey.withColumn('User_Score', dataFrame_wKey['User_Score'].cast('float'))\n",
    "dataFrame_wKey = dataFrame_wKey.withColumn('Year_of_Release', dataFrame_wKey['Year_of_Release'].cast('int'))"
   ]
  },
  {
   "cell_type": "code",
   "execution_count": 12,
   "metadata": {},
   "outputs": [
    {
     "name": "stdout",
     "output_type": "stream",
     "text": [
      "root\n",
      " |-- Name: string (nullable = true)\n",
      " |-- Platform: string (nullable = true)\n",
      " |-- Year_of_Release: integer (nullable = true)\n",
      " |-- Genre: string (nullable = true)\n",
      " |-- Publisher: string (nullable = true)\n",
      " |-- NA_Sales: double (nullable = true)\n",
      " |-- EU_Sales: double (nullable = true)\n",
      " |-- JP_Sales: double (nullable = true)\n",
      " |-- Other_Sales: double (nullable = true)\n",
      " |-- Global_Sales: double (nullable = true)\n",
      " |-- Critic_Score: integer (nullable = true)\n",
      " |-- Critic_Count: integer (nullable = true)\n",
      " |-- User_Score: float (nullable = true)\n",
      " |-- User_Count: integer (nullable = true)\n",
      " |-- Developer: string (nullable = true)\n",
      " |-- Rating: string (nullable = true)\n",
      " |-- ID: long (nullable = false)\n",
      "\n"
     ]
    }
   ],
   "source": [
    "# Schema table with columns set to correct data type.\n",
    "dataFrame_wKey.printSchema()"
   ]
  },
  {
   "cell_type": "code",
   "execution_count": 13,
   "metadata": {},
   "outputs": [],
   "source": [
    "# Create list of columns deemed useful.\n",
    "columns_Useful = ['ID', 'Name', 'Platform', 'Year_of_Release', 'Genre', \n",
    "               'Global_Sales', 'Critic_Score', 'Critic_Count',\n",
    "               'User_Score', 'User_Count']"
   ]
  },
  {
   "cell_type": "code",
   "execution_count": 14,
   "metadata": {},
   "outputs": [],
   "source": [
    "# Create new dataframe which contains only useful columns.\n",
    "dataFrame_Useful = dataFrame_wKey[columns_Useful]"
   ]
  },
  {
   "cell_type": "code",
   "execution_count": 15,
   "metadata": {},
   "outputs": [
    {
     "data": {
      "text/plain": [
       "[Row(ID=0, Name='Alter Ego', Platform='PC', Year_of_Release=1985, Genre='Simulation', Global_Sales=0.03, Critic_Score=59, Critic_Count=9, User_Score=5.800000190734863, User_Count=19),\n",
       " Row(ID=1, Name='SimCity', Platform='PC', Year_of_Release=1988, Genre='Simulation', Global_Sales=0.03, Critic_Score=64, Critic_Count=75, User_Score=2.200000047683716, User_Count=4572),\n",
       " Row(ID=2, Name='Doom', Platform='PC', Year_of_Release=1992, Genre='Shooter', Global_Sales=0.03, Critic_Score=85, Critic_Count=44, User_Score=8.199999809265137, User_Count=1796),\n",
       " Row(ID=3, Name='Battle Arena Toshinden', Platform='PS', Year_of_Release=1994, Genre='Fighting', Global_Sales=1.27, Critic_Score=69, Critic_Count=4, User_Score=6.300000190734863, User_Count=4),\n",
       " Row(ID=4, Name='Tekken 2', Platform='PS', Year_of_Release=1996, Genre='Fighting', Global_Sales=5.74, Critic_Score=89, Critic_Count=8, User_Score=8.899999618530273, User_Count=102)]"
      ]
     },
     "execution_count": 15,
     "metadata": {},
     "output_type": "execute_result"
    }
   ],
   "source": [
    "# Show first 5 rows of dataFrame_Useful\n",
    "dataFrame_Useful.head(5)"
   ]
  },
  {
   "cell_type": "code",
   "execution_count": 16,
   "metadata": {},
   "outputs": [],
   "source": [
    "pd_df_Useful = dataFrame_Useful.describe().toPandas().transpose()"
   ]
  },
  {
   "cell_type": "code",
   "execution_count": 17,
   "metadata": {},
   "outputs": [
    {
     "name": "stdout",
     "output_type": "stream",
     "text": [
      "root\n",
      " |-- ID: long (nullable = false)\n",
      " |-- Name: string (nullable = true)\n",
      " |-- Platform: string (nullable = true)\n",
      " |-- Year_of_Release: integer (nullable = true)\n",
      " |-- Genre: string (nullable = true)\n",
      " |-- Global_Sales: double (nullable = true)\n",
      " |-- Critic_Score: integer (nullable = true)\n",
      " |-- Critic_Count: integer (nullable = true)\n",
      " |-- User_Score: float (nullable = true)\n",
      " |-- User_Count: integer (nullable = true)\n",
      " |-- Features: vector (nullable = true)\n",
      "\n"
     ]
    }
   ],
   "source": [
    "# Create list of columns for input.\n",
    "input_Columns = ['ID', 'Year_of_Release', 'Critic_Score', 'User_Score']\n",
    "\n",
    "vector_Assembler = VectorAssembler(inputCols = input_Columns, outputCol = 'Features')\n",
    "\n",
    "# Transform the data.\n",
    "vector_Output = vector_Assembler.transform(dataFrame_Useful)\n",
    "\n",
    "# Schema table with Features column added.\n",
    "vector_Output.printSchema()"
   ]
  },
  {
   "cell_type": "code",
   "execution_count": null,
   "metadata": {},
   "outputs": [],
   "source": [
    "# Create new dataframe with only Features and GlobalSales columns\n",
    "vector_output = vector_Output.select(['Features','Global_Sales'])\n",
    "\n",
    "# dataFrame_Features now has only 2 columns\n",
    "print(vector_output.head(5))"
   ]
  },
  {
   "cell_type": "code",
   "execution_count": null,
   "metadata": {},
   "outputs": [],
   "source": [
    "# Split data by amounts stated above\n",
    "data_train,data_test = vector_output.randomSplit([0.7,0.3])\n",
    "\n",
    "# Show data_train\n",
    "data_train.show()\n",
    "\n",
    "# Show data_test\n",
    "data_test.show()\n"
   ]
  },
  {
   "cell_type": "code",
   "execution_count": null,
   "metadata": {},
   "outputs": [],
   "source": [
    "from pyspark.ml.regression import LinearRegression\n",
    "\n",
    "regression = LinearRegression(featuresCol='Features', labelCol='Global_Sales')\n",
    "\n",
    "# Fit the training data.\n",
    "regression_Model = regression.fit(data_train)\n",
    "\n",
    "# Print the coefficients and intercept.\n",
    "print(\"Liner Regression Coefficients: \" + str(regression_Model.coefficients))\n",
    "print(\"Linear Regression Intercept: \" + str(regression_Model.intercept))\n",
    "\n",
    "# Summarise the model\n",
    "summary = regression_Model.summary\n",
    "\n",
    "# Print RMSE and R2\n",
    "print(\"Linear Regression RMSE on training data: \" + str(summary.rootMeanSquaredError))\n",
    "print(\"Linear Regression R2 on training data: \" + str(summary.r2))"
   ]
  },
  {
   "cell_type": "code",
   "execution_count": 22,
   "metadata": {},
   "outputs": [
    {
     "ename": "NameError",
     "evalue": "name 'regression_Model' is not defined",
     "output_type": "error",
     "traceback": [
      "\u001b[0;31m---------------------------------------------------------------------------\u001b[0m",
      "\u001b[0;31mNameError\u001b[0m                                 Traceback (most recent call last)",
      "\u001b[0;32m<ipython-input-22-073d89e9d015>\u001b[0m in \u001b[0;36m<module>\u001b[0;34m()\u001b[0m\n\u001b[1;32m      1\u001b[0m \u001b[0;31m# Visualize the coefficients.\u001b[0m\u001b[0;34m\u001b[0m\u001b[0;34m\u001b[0m\u001b[0m\n\u001b[0;32m----> 2\u001b[0;31m \u001b[0mbeta\u001b[0m \u001b[0;34m=\u001b[0m \u001b[0mnp\u001b[0m\u001b[0;34m.\u001b[0m\u001b[0msort\u001b[0m\u001b[0;34m(\u001b[0m\u001b[0mregression_Model\u001b[0m\u001b[0;34m.\u001b[0m\u001b[0mcoefficient\u001b[0m\u001b[0;34m)\u001b[0m\u001b[0;34m\u001b[0m\u001b[0m\n\u001b[0m\u001b[1;32m      3\u001b[0m \u001b[0;34m\u001b[0m\u001b[0m\n\u001b[1;32m      4\u001b[0m \u001b[0;31m# Initial plot of data.\u001b[0m\u001b[0;34m\u001b[0m\u001b[0;34m\u001b[0m\u001b[0m\n\u001b[1;32m      5\u001b[0m \u001b[0mplt\u001b[0m\u001b[0;34m.\u001b[0m\u001b[0mplot\u001b[0m\u001b[0;34m(\u001b[0m\u001b[0mbeta\u001b[0m\u001b[0;34m)\u001b[0m\u001b[0;34m\u001b[0m\u001b[0m\n",
      "\u001b[0;31mNameError\u001b[0m: name 'regression_Model' is not defined"
     ]
    }
   ],
   "source": [
    "# Visualize the coefficients.\n",
    "beta = np.sort(regression_Model.coefficient)\n",
    "\n",
    "# Initial plot of data.\n",
    "plt.plot(beta)\n",
    "\n",
    "# Add a label to y-axis of plot.\n",
    "plt.ylabel('Beta Coefficients')"
   ]
  },
  {
   "cell_type": "code",
   "execution_count": null,
   "metadata": {},
   "outputs": [],
   "source": [
    "results_Test = regression_Model.evaluate(data_Test)\n",
    "\n",
    "# Print RMSE and R2\n",
    "print(\"Linear Regression RMSE on test data: \" + str(results_test.rootMeanSquaredError))\n",
    "print(\"Linear Regression R2 on test data: \" + str(results_Test.r2))"
   ]
  }
 ],
 "metadata": {
  "kernelspec": {
   "display_name": "Python 3",
   "language": "python",
   "name": "python3"
  },
  "language_info": {
   "codemirror_mode": {
    "name": "ipython",
    "version": 3
   },
   "file_extension": ".py",
   "mimetype": "text/x-python",
   "name": "python",
   "nbconvert_exporter": "python",
   "pygments_lexer": "ipython3",
   "version": "3.5.2"
  }
 },
 "nbformat": 4,
 "nbformat_minor": 2
}
