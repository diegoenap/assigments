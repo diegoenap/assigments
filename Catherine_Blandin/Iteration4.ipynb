{
 "cells": [
  {
   "cell_type": "code",
   "execution_count": 2,
   "metadata": {
    "scrolled": true
   },
   "outputs": [],
   "source": [
    "#Import PySpark library\n",
    "\n",
    "import findspark\n",
    "findspark.init('/home/user/spark-2.1.1-bin-hadoop2.7')\n",
    "import pyspark\n",
    "from pyspark.sql import SparkSession\n",
    "spark = SparkSession.builder.appName('basics').getOrCreate()"
   ]
  },
  {
   "cell_type": "code",
   "execution_count": 3,
   "metadata": {},
   "outputs": [
    {
     "name": "stdout",
     "output_type": "stream",
     "text": [
      "+---+-----+------+-------------------+---------+-----------+-----------+------------+----------------------+-------------+-----------------+-------------+-----------------+-------+-----------+------------+------+--------+--------+---------+-------+-----+-------+------+--------+-----------+---+----+---------+--------+-------+--------+\n",
      "| ID|  Age|Gender|          Education|  Country|  Ethnicity|Neuroticism|Extraversion|Openness to experience|Agreeableness|Conscientiousness|Impulsiveness|Sensation seeking|Alcohol|Amphetamine|Amyl nitrate|Benzos|Caffeine|Cannabis|Chocolate|Cocaine|Crack|Ecstacy|Heroin|Ketamine|Legal highs|LSD|Meth|Mushrooms|Nicotine|Semeron|Volatile|\n",
      "+---+-----+------+-------------------+---------+-----------+-----------+------------+----------------------+-------------+-----------------+-------------+-----------------+-------+-----------+------------+------+--------+--------+---------+-------+-----+-------+------+--------+-----------+---+----+---------+--------+-------+--------+\n",
      "|  1|35-44|Female|Certificate/diploma|       UK|White/Asian|         39|          36|                    42|           37|               42|     -0.21712|         -1.18084|    CL5|        CL2|         CL0|   CL2|     CL6|     CL0|      CL5|    CL0|  CL0|    CL0|   CL0|     CL0|        CL0|CL0| CL0|      CL0|     CL2|    CL0|     CL0|\n",
      "|  2|25-34|  Male|   Doctorate degree|       UK|      White|         29|          52|                    55|           48|               41|     -0.71126|         -0.21575|    CL5|        CL2|         CL2|   CL0|     CL6|     CL4|      CL6|    CL3|  CL0|    CL4|   CL0|     CL2|        CL0|CL2| CL3|      CL0|     CL4|    CL0|     CL0|\n",
      "|  3|35-44|  Male|Certificate/diploma|       UK|      White|         31|          45|                    40|           32|               34|     -1.37983|          0.40148|    CL6|        CL0|         CL0|   CL0|     CL6|     CL3|      CL4|    CL0|  CL0|    CL0|   CL0|     CL0|        CL0|CL0| CL0|      CL1|     CL0|    CL0|     CL0|\n",
      "|  4|18-24|Female|     Masters degree|       UK|      White|         34|          34|                    46|           47|               46|     -1.37983|         -1.18084|    CL4|        CL0|         CL0|   CL3|     CL5|     CL2|      CL4|    CL2|  CL0|    CL0|   CL0|     CL2|        CL0|CL0| CL0|      CL0|     CL2|    CL0|     CL0|\n",
      "|  5|35-44|Female|   Doctorate degree|       UK|      White|         43|          28|                    43|           41|               50|     -0.21712|         -0.21575|    CL4|        CL1|         CL1|   CL0|     CL6|     CL3|      CL6|    CL0|  CL0|    CL1|   CL0|     CL0|        CL1|CL0| CL0|      CL2|     CL2|    CL0|     CL0|\n",
      "|  6|  65+|Female|  Left school at 18|   Canada|      White|         29|          38|                    35|           55|               52|     -1.37983|         -1.54858|    CL2|        CL0|         CL0|   CL0|     CL6|     CL0|      CL4|    CL0|  CL0|    CL0|   CL0|     CL0|        CL0|CL0| CL0|      CL0|     CL6|    CL0|     CL0|\n",
      "|  7|45-54|  Male|     Masters degree|      USA|      White|         31|          32|                    43|           41|               48|     -0.21712|          0.07987|    CL6|        CL0|         CL0|   CL0|     CL6|     CL1|      CL5|    CL0|  CL0|    CL0|   CL0|     CL0|        CL0|CL0| CL0|      CL0|     CL6|    CL0|     CL0|\n",
      "|  8|35-44|  Male|  Left school at 16|       UK|      White|         24|          52|                    40|           41|               52|      0.19268|         -0.52593|    CL5|        CL0|         CL0|   CL0|     CL6|     CL0|      CL4|    CL0|  CL0|    CL0|   CL0|     CL0|        CL0|CL0| CL0|      CL0|     CL0|    CL0|     CL0|\n",
      "|  9|35-44|Female|Certificate/diploma|   Canada|      White|         42|          55|                    39|           48|               49|     -1.37983|         -1.54858|    CL4|        CL0|         CL0|   CL0|     CL6|     CL0|      CL6|    CL0|  CL0|    CL0|   CL0|     CL0|        CL0|CL0| CL0|      CL0|     CL6|    CL0|     CL0|\n",
      "| 10|55-64|  Male|     Masters degree|       UK|      White|         33|          40|                    36|           47|               43|     -1.37983|         -0.84637|    CL6|        CL1|         CL0|   CL1|     CL6|     CL1|      CL6|    CL0|  CL0|    CL0|   CL0|     CL0|        CL0|CL0| CL0|      CL0|     CL6|    CL0|     CL0|\n",
      "| 11|25-34|Female|  University degree|       UK|      White|         26|          45|                    38|           38|               53|      0.19268|          0.07987|    CL5|        CL0|         CL1|   CL0|     CL6|     CL2|      CL5|    CL2|  CL0|    CL0|   CL0|     CL0|        CL0|CL0| CL0|      CL0|     CL2|    CL0|     CL1|\n",
      "| 12|45-54|  Male|       Some college|    Other|      White|         24|          40|                    47|           30|               38|      0.52975|           1.2247|    CL5|        CL1|         CL0|   CL0|     CL6|     CL4|      CL5|    CL2|  CL0|    CL3|   CL0|     CL0|        CL0|CL1| CL0|      CL2|     CL6|    CL0|     CL0|\n",
      "| 13|55-64|Female|  University degree|       UK|      White|         56|          41|                    49|           32|               36|      1.29221|          0.07987|    CL5|        CL1|         CL0|   CL4|     CL6|     CL3|      CL5|    CL1|  CL0|    CL0|   CL0|     CL0|        CL0|CL1| CL1|      CL1|     CL6|    CL0|     CL0|\n",
      "| 14|55-64|Female|Certificate/diploma|   Canada|      White|         28|          45|                    46|           49|               59|     -0.71126|         -0.84637|    CL1|        CL0|         CL0|   CL0|     CL5|     CL0|      CL0|    CL0|  CL0|    CL0|   CL0|     CL0|        CL0|CL0| CL0|      CL0|     CL1|    CL0|     CL0|\n",
      "| 15|55-64|Female|Certificate/diploma|       UK|      White|         27|          49|                    49|           39|               52|      1.29221|           0.7654|    CL6|        CL0|         CL0|   CL0|     CL6|     CL0|      CL6|    CL0|  CL0|    CL0|   CL0|     CL0|        CL0|CL0| CL0|      CL0|     CL6|    CL0|     CL0|\n",
      "| 16|55-64|  Male|  University degree|       UK|      White|         19|          29|                    35|           36|               49|     -0.71126|         -0.52593|    CL5|        CL2|         CL2|   CL0|     CL6|     CL1|      CL5|    CL2|  CL0|    CL1|   CL0|     CL0|        CL0|CL0| CL0|      CL0|     CL0|    CL0|     CL0|\n",
      "| 17|35-44|Female|       Some college|       UK|      White|         22|          34|                    34|           45|               47|     -0.21712|         -2.07848|    CL6|        CL0|         CL0|   CL1|     CL6|     CL3|      CL5|    CL0|  CL0|    CL0|   CL0|     CL0|        CL0|CL0| CL0|      CL0|     CL6|    CL0|     CL0|\n",
      "| 18|45-54|  Male|  Left school at 16|       UK|      White|         41|          31|                    44|           40|               31|     -1.37983|         -0.84637|    CL6|        CL1|         CL1|   CL0|     CL6|     CL6|      CL4|    CL1|  CL0|    CL1|   CL0|     CL2|        CL0|CL1| CL0|      CL1|     CL6|    CL0|     CL0|\n",
      "| 19|55-64|  Male|  University degree|Australia|      White|         49|          39|                    45|           30|               30|     -0.71126|         -0.21575|    CL6|        CL2|         CL0|   CL2|     CL6|     CL3|      CL6|    CL2|  CL0|    CL2|   CL0|     CL0|        CL2|CL1| CL0|      CL1|     CL0|    CL0|     CL0|\n",
      "| 20|35-44|  Male|Certificate/diploma|       UK|      White|         32|          27|                    29|           30|               47|     -1.37983|         -2.07848|    CL4|        CL1|         CL0|   CL0|     CL6|     CL1|      CL6|    CL0|  CL0|    CL1|   CL0|     CL0|        CL0|CL0| CL6|      CL0|     CL1|    CL0|     CL0|\n",
      "+---+-----+------+-------------------+---------+-----------+-----------+------------+----------------------+-------------+-----------------+-------------+-----------------+-------+-----------+------------+------+--------+--------+---------+-------+-----+-------+------+--------+-----------+---+----+---------+--------+-------+--------+\n",
      "only showing top 20 rows\n",
      "\n"
     ]
    }
   ],
   "source": [
    "#Import dataset\n",
    "\n",
    "drugdata = spark.read.csv('drugdata_names_dirtied.csv',header=True,inferSchema=True)\n",
    "\n",
    "# View data.\n",
    "\n",
    "drugdata.show()"
   ]
  },
  {
   "cell_type": "code",
   "execution_count": 4,
   "metadata": {},
   "outputs": [
    {
     "name": "stdout",
     "output_type": "stream",
     "text": [
      "root\n",
      " |-- ID: integer (nullable = true)\n",
      " |-- Age: string (nullable = true)\n",
      " |-- Gender: string (nullable = true)\n",
      " |-- Education: string (nullable = true)\n",
      " |-- Country: string (nullable = true)\n",
      " |-- Ethnicity: string (nullable = true)\n",
      " |-- Neuroticism: integer (nullable = true)\n",
      " |-- Extraversion: integer (nullable = true)\n",
      " |-- Openness to experience: integer (nullable = true)\n",
      " |-- Agreeableness: integer (nullable = true)\n",
      " |-- Conscientiousness: integer (nullable = true)\n",
      " |-- Impulsiveness: double (nullable = true)\n",
      " |-- Sensation seeking: double (nullable = true)\n",
      " |-- Alcohol: string (nullable = true)\n",
      " |-- Amphetamine: string (nullable = true)\n",
      " |-- Amyl nitrate: string (nullable = true)\n",
      " |-- Benzos: string (nullable = true)\n",
      " |-- Caffeine: string (nullable = true)\n",
      " |-- Cannabis: string (nullable = true)\n",
      " |-- Chocolate: string (nullable = true)\n",
      " |-- Cocaine: string (nullable = true)\n",
      " |-- Crack: string (nullable = true)\n",
      " |-- Ecstacy: string (nullable = true)\n",
      " |-- Heroin: string (nullable = true)\n",
      " |-- Ketamine: string (nullable = true)\n",
      " |-- Legal highs: string (nullable = true)\n",
      " |-- LSD: string (nullable = true)\n",
      " |-- Meth: string (nullable = true)\n",
      " |-- Mushrooms: string (nullable = true)\n",
      " |-- Nicotine: string (nullable = true)\n",
      " |-- Semeron: string (nullable = true)\n",
      " |-- Volatile: string (nullable = true)\n",
      "\n"
     ]
    }
   ],
   "source": [
    "# View information about the data.\n",
    "\n",
    "drugdata.printSchema()"
   ]
  },
  {
   "cell_type": "code",
   "execution_count": 5,
   "metadata": {},
   "outputs": [
    {
     "name": "stdout",
     "output_type": "stream",
     "text": [
      "+-------+-----------------+-----+------+-------------------+---------+-----------+-----------------+-----------------+----------------------+-----------------+-----------------+--------------------+--------------------+-------+-----------+------------+------+--------+--------+---------+-------+-----+-------+------+--------+-----------+----+----+---------+--------+-------+--------+\n",
      "|summary|               ID|  Age|Gender|          Education|  Country|  Ethnicity|      Neuroticism|     Extraversion|Openness to experience|    Agreeableness|Conscientiousness|       Impulsiveness|   Sensation seeking|Alcohol|Amphetamine|Amyl nitrate|Benzos|Caffeine|Cannabis|Chocolate|Cocaine|Crack|Ecstacy|Heroin|Ketamine|Legal highs| LSD|Meth|Mushrooms|Nicotine|Semeron|Volatile|\n",
      "+-------+-----------------+-----+------+-------------------+---------+-----------+-----------------+-----------------+----------------------+-----------------+-----------------+--------------------+--------------------+-------+-----------+------------+------+--------+--------+---------+-------+-----+-------+------+--------+-----------+----+----+---------+--------+-------+--------+\n",
      "|  count|             1885| 1884|  1883|               1885|     1885|       1884|             1885|             1885|                  1885|             1884|             1885|                1885|                1885|   1885|       1885|        1885|  1885|    1885|    1885|     1885|   1884| 1884|   1885|  1885|    1884|       1885|1885|1885|     1884|    1885|   1885|    1885|\n",
      "|   mean|945.2949602122015| null|  null|               null|     null|       null|35.92148541114059|39.57612732095491|    45.762334217506634|42.86518046709129|41.43713527851459|0.007216063660478157|-0.00329166578249348|   null|       null|        null|  null|    null|    null|     null|   null| null|   null|  null|    null|       null|null|null|     null|    null|   null|    null|\n",
      "| stddev|545.1676410988994| null|  null|               null|     null|       null| 9.13586931801127| 6.77176939880375|    6.5796413521926596|6.439627542667767| 6.96662503659267|  0.9544345111747228|  0.9637011589526331|   null|       null|        null|  null|    null|    null|     null|   null| null|   null|  null|    null|       null|null|null|     null|    null|   null|    null|\n",
      "|    min|                1|18-24|Female|Certificate/diploma|Australia|      Asian|               12|               16|                    24|               12|               17|            -2.55524|            -2.07848|    CL0|        CL0|         CL0|   CL0|     CL0|     CL0|      CL0|    CL0|  CL0|    CL0|   CL0|     CL0|        CL0| CL0| CL0|      CL0|     CL0|    CL0|     CL0|\n",
      "|    max|             1888|  65+|  Male|  University degree|      USA|White/Black|               60|               59|                    60|               60|               59|             2.90161|             1.92173|    CL6|        CL6|         CL6|   CL6|     CL6|     CL6|      CL6|    CL6|  CL6|    CL6|   CL6|     CL6|        CL6| CL6| CL6|      CL6|     CL6|    CL4|     CL6|\n",
      "+-------+-----------------+-----+------+-------------------+---------+-----------+-----------------+-----------------+----------------------+-----------------+-----------------+--------------------+--------------------+-------+-----------+------------+------+--------+--------+---------+-------+-----+-------+------+--------+-----------+----+----+---------+--------+-------+--------+\n",
      "\n"
     ]
    }
   ],
   "source": [
    "# View counts, average values, minimums, maximums, standard deviation. Because most of my columns are strings, \n",
    "# this isn't as useful as it would be for some data types, but there is some useful information.\n",
    "\n",
    "drugdata.describe().show()"
   ]
  },
  {
   "cell_type": "code",
   "execution_count": 6,
   "metadata": {},
   "outputs": [
    {
     "name": "stdout",
     "output_type": "stream",
     "text": [
      "+-------+-----------------+-----------------+----------------------+-----------------+\n",
      "|summary|      Neuroticism|     Extraversion|Openness to experience|Conscientiousness|\n",
      "+-------+-----------------+-----------------+----------------------+-----------------+\n",
      "|  count|             1885|             1885|                  1885|             1885|\n",
      "|   mean|35.92148541114059|39.57612732095491|    45.762334217506634|41.43713527851459|\n",
      "| stddev| 9.13586931801127| 6.77176939880375|    6.5796413521926596| 6.96662503659267|\n",
      "|    min|               12|               16|                    24|               17|\n",
      "|    max|               60|               59|                    60|               59|\n",
      "+-------+-----------------+-----------------+----------------------+-----------------+\n",
      "\n",
      "+-------+-----------------+--------------------+--------------------+\n",
      "|summary|    Agreeableness|       Impulsiveness|   Sensation seeking|\n",
      "+-------+-----------------+--------------------+--------------------+\n",
      "|  count|             1884|                1885|                1885|\n",
      "|   mean|42.86518046709129|0.007216063660478157|-0.00329166578249348|\n",
      "| stddev|6.439627542667767|  0.9544345111747228|  0.9637011589526331|\n",
      "|    min|               12|            -2.55524|            -2.07848|\n",
      "|    max|               60|             2.90161|             1.92173|\n",
      "+-------+-----------------+--------------------+--------------------+\n",
      "\n"
     ]
    }
   ],
   "source": [
    "# We could just look at the numerical data to make it easier to read. I've done two separate tables because\n",
    "# it's too wide otherwise, and becomes hard to read.\n",
    "\n",
    "drugdata.select('Neuroticism','Extraversion','Openness to experience','Conscientiousness').describe().show()\n",
    "drugdata.select('Agreeableness','Impulsiveness','Sensation seeking').describe().show()"
   ]
  },
  {
   "cell_type": "code",
   "execution_count": 7,
   "metadata": {},
   "outputs": [
    {
     "name": "stdout",
     "output_type": "stream",
     "text": [
      "+-----+-----+\n",
      "|  Age|count|\n",
      "+-----+-----+\n",
      "| null|    1|\n",
      "|18-24|  643|\n",
      "|25-34|  481|\n",
      "|35-44|  356|\n",
      "|45-54|  294|\n",
      "|55-64|   92|\n",
      "|  65+|   18|\n",
      "+-----+-----+\n",
      "\n",
      "+------+-----+\n",
      "|Gender|count|\n",
      "+------+-----+\n",
      "|  null|    2|\n",
      "|Female|  942|\n",
      "|  Male|  941|\n",
      "+------+-----+\n",
      "\n",
      "+--------------------+-----+\n",
      "|           Education|count|\n",
      "+--------------------+-----+\n",
      "| Certificate/diploma|  270|\n",
      "|    Doctorate degree|   89|\n",
      "|   Left school at 16|   99|\n",
      "|   Left school at 17|   30|\n",
      "|   Left school at 18|  100|\n",
      "|Left school befor...|   28|\n",
      "|      Masters degree|  283|\n",
      "|        Some college|  506|\n",
      "|   University degree|  480|\n",
      "+--------------------+-----+\n",
      "\n",
      "+-----------+-----+\n",
      "|    Country|count|\n",
      "+-----------+-----+\n",
      "|  Australia|   54|\n",
      "|     Canada|   87|\n",
      "|    Ireland|   20|\n",
      "|New Zealand|    5|\n",
      "|      Other|  118|\n",
      "|         UK| 1044|\n",
      "|        USA|  557|\n",
      "+-----------+-----+\n",
      "\n",
      "+-----------+-----+\n",
      "|  Ethnicity|count|\n",
      "+-----------+-----+\n",
      "|       null|    1|\n",
      "|      Asian|   26|\n",
      "|      Black|   33|\n",
      "|Black/Asian|    3|\n",
      "|      Other|   63|\n",
      "|      White| 1719|\n",
      "|White/Asian|   20|\n",
      "|White/Black|   20|\n",
      "+-----------+-----+\n",
      "\n"
     ]
    }
   ],
   "source": [
    "# It would be a good idea to explore the data in greate'r depth. A quick look at the table suggested that some\n",
    "# attributes had a particular value that was highly overrepresented. Let's see.\n",
    "\n",
    "drugdata.groupBy('Age').count().orderBy('Age').show()\n",
    "drugdata.groupBy('Gender').count().orderBy('Gender').show()\n",
    "drugdata.groupBy('Education').count().orderBy('Education').show()\n",
    "drugdata.groupBy('Country').count().orderBy('Country').show()\n",
    "drugdata.groupBy('Ethnicity').count().orderBy('Ethnicity').show()"
   ]
  },
  {
   "cell_type": "code",
   "execution_count": 8,
   "metadata": {},
   "outputs": [
    {
     "name": "stdout",
     "output_type": "stream",
     "text": [
      "Total data points: 1885\n",
      "Total data points: 1876\n"
     ]
    }
   ],
   "source": [
    "# Several columns have a count less than the total number of rows, indicating that there are missing values.\n",
    "# I can see how many values are missing by getting a row count for the original dataset, then dropping all rows with\n",
    "# missing values and getting a row count for the resulting table.\n",
    "\n",
    "print(\"Total data points:\", drugdata.count())\n",
    "dropped_data = drugdata.na.drop()\n",
    "print(\"Total data points:\", dropped_data.count())"
   ]
  },
  {
   "cell_type": "code",
   "execution_count": 9,
   "metadata": {},
   "outputs": [
    {
     "name": "stdout",
     "output_type": "stream",
     "text": [
      "Total data points (Neuroticism): 1885\n",
      "Total data points (Extraversion): 1885\n",
      "Total data points (Openness to experience): 1885\n",
      "Total data points (Agreeableness): 1884\n",
      "Total data points (Conscientiousness): 1885\n",
      "Total data points (Impulsiveness): 1885\n",
      "Total data points (Sensation seeking): 1885\n"
     ]
    }
   ],
   "source": [
    "# There are 9 rows containing missing values. How I respond to these missing values will depend on the data type.\n",
    "# First I check whether any numerical values are missing.\n",
    "\n",
    "missing_field_data = drugdata.na.drop(subset=\"Neuroticism\")\n",
    "print(\"Total data points (Neuroticism):\", missing_field_data.count())\n",
    "\n",
    "missing_field_data = drugdata.na.drop(subset=\"Extraversion\")\n",
    "print(\"Total data points (Extraversion):\", missing_field_data.count())\n",
    "\n",
    "missing_field_data = drugdata.na.drop(subset=\"Openness to experience\")\n",
    "print(\"Total data points (Openness to experience):\", missing_field_data.count())\n",
    "\n",
    "missing_field_data = drugdata.na.drop(subset=\"Agreeableness\")\n",
    "print(\"Total data points (Agreeableness):\", missing_field_data.count())\n",
    "\n",
    "missing_field_data = drugdata.na.drop(subset=\"Conscientiousness\")\n",
    "print(\"Total data points (Conscientiousness):\", missing_field_data.count())\n",
    "\n",
    "missing_field_data = drugdata.na.drop(subset=\"Impulsiveness\")\n",
    "print(\"Total data points (Impulsiveness):\", missing_field_data.count())\n",
    "\n",
    "missing_field_data = drugdata.na.drop(subset=\"Sensation seeking\")\n",
    "print(\"Total data points (Sensation seeking):\", missing_field_data.count())"
   ]
  },
  {
   "cell_type": "code",
   "execution_count": 10,
   "metadata": {},
   "outputs": [
    {
     "name": "stdout",
     "output_type": "stream",
     "text": [
      "42.86518046709129\n",
      "Total data points (Agreeableness): 1885\n"
     ]
    }
   ],
   "source": [
    "# Only Agreeableness is missing a value, so I'll only work on that column for now.\n",
    "# I replace the missing value in Agreeableness with the mean value of the column.\n",
    "\n",
    "# Import necessary function\n",
    "from pyspark.sql.functions import mean\n",
    "\n",
    "# Extract mean value\n",
    "mean_agreeableness = drugdata.select(mean('Agreeableness')).collect()\n",
    "mean_agreeableness = mean_agreeableness[0]\n",
    "mean_agreeableness = mean_agreeableness[0]\n",
    "\n",
    "# Print mean value for checking purposes\n",
    "print(mean_agreeableness)\n",
    "\n",
    "# Replace missing value with mean value\n",
    "drugdata = drugdata.na.fill(mean_agreeableness, subset=['Agreeableness'])\n",
    "\n",
    "# Test that there are now no missing values\n",
    "missing_field_data = drugdata.na.drop(subset=\"Agreeableness\")\n",
    "print(\"Total data points (Agreeableness):\", missing_field_data.count())"
   ]
  },
  {
   "cell_type": "code",
   "execution_count": 11,
   "metadata": {},
   "outputs": [
    {
     "name": "stdout",
     "output_type": "stream",
     "text": [
      "Total data points: 1881\n"
     ]
    }
   ],
   "source": [
    "# Because drug use is the focus of this data mining task, records that are missing drug use information are seriously\n",
    "# compromised in terms of usefulness and can be deleted.\n",
    "\n",
    "drugdata = drugdata.na.drop(subset='Alcohol')\n",
    "drugdata = drugdata.na.drop(subset='Amphetamine')\n",
    "drugdata = drugdata.na.drop(subset='Amyl nitrate')\n",
    "drugdata = drugdata.na.drop(subset='Benzos')\n",
    "drugdata = drugdata.na.drop(subset='Caffeine')\n",
    "drugdata = drugdata.na.drop(subset='Cannabis')\n",
    "drugdata = drugdata.na.drop(subset='Chocolate')\n",
    "drugdata = drugdata.na.drop(subset='Cocaine')\n",
    "drugdata = drugdata.na.drop(subset='Crack')\n",
    "drugdata = drugdata.na.drop(subset='Ecstacy')\n",
    "drugdata = drugdata.na.drop(subset='Heroin')\n",
    "drugdata = drugdata.na.drop(subset='Ketamine')\n",
    "drugdata = drugdata.na.drop(subset='Legal highs')\n",
    "drugdata = drugdata.na.drop(subset='LSD')\n",
    "drugdata = drugdata.na.drop(subset='Meth')\n",
    "drugdata = drugdata.na.drop(subset='Mushrooms')\n",
    "drugdata = drugdata.na.drop(subset='Nicotine')\n",
    "drugdata = drugdata.na.drop(subset='Semeron')\n",
    "drugdata = drugdata.na.drop(subset='Volatile')\n",
    "print(\"Total data points:\", drugdata.count())"
   ]
  },
  {
   "cell_type": "code",
   "execution_count": 12,
   "metadata": {},
   "outputs": [
    {
     "name": "stdout",
     "output_type": "stream",
     "text": [
      "Total data points: 1881\n"
     ]
    }
   ],
   "source": [
    "# We still have missing values, but they are not worth deleting entire records over.\n",
    "\n",
    "# We know any remaining missing values are in one of the first few columns, so we can just replace any missing values\n",
    "# in those columns.\n",
    "drugdata = drugdata.na.fill('Unknown', subset=['Age','Gender','Education','Country','Ethnicity'])\n",
    "\n",
    "# We can return a count to make sure there are no more missing values.\n",
    "print(\"Total data points:\", drugdata.na.drop().count())"
   ]
  },
  {
   "cell_type": "code",
   "execution_count": 13,
   "metadata": {},
   "outputs": [
    {
     "name": "stdout",
     "output_type": "stream",
     "text": [
      "Total data points: 1873\n"
     ]
    }
   ],
   "source": [
    "# Even though there are no more missing values, more can be done to enhance the quality of this dataset.\n",
    "\n",
    "# Semeron is a fictitious drug, so any respondent who claims to have used Semeron is unreliable. \n",
    "# We can filter these records out.\n",
    "drugdata = drugdata.filter(\"Semeron = 'CL0'\")\n",
    "\n",
    "print(\"Total data points:\", drugdata.count())"
   ]
  },
  {
   "cell_type": "code",
   "execution_count": 14,
   "metadata": {},
   "outputs": [
    {
     "name": "stdout",
     "output_type": "stream",
     "text": [
      "+-----+------+-------------------+---------+-----------+-----------+------------+----------------------+-------------+-----------------+-------------+-----------------+-------+-----------+------------+------+--------+-------+-----+-------+------+--------+-----------+---+----+---------+--------+--------+\n",
      "|  Age|Gender|          Education|  Country|  Ethnicity|Neuroticism|Extraversion|Openness to experience|Agreeableness|Conscientiousness|Impulsiveness|Sensation seeking|Alcohol|Amphetamine|Amyl nitrate|Benzos|Cannabis|Cocaine|Crack|Ecstacy|Heroin|Ketamine|Legal highs|LSD|Meth|Mushrooms|Nicotine|Volatile|\n",
      "+-----+------+-------------------+---------+-----------+-----------+------------+----------------------+-------------+-----------------+-------------+-----------------+-------+-----------+------------+------+--------+-------+-----+-------+------+--------+-----------+---+----+---------+--------+--------+\n",
      "|35-44|Female|Certificate/diploma|       UK|White/Asian|         39|          36|                    42|           37|               42|     -0.21712|         -1.18084|    CL5|        CL2|         CL0|   CL2|     CL0|    CL0|  CL0|    CL0|   CL0|     CL0|        CL0|CL0| CL0|      CL0|     CL2|     CL0|\n",
      "|25-34|  Male|   Doctorate degree|       UK|      White|         29|          52|                    55|           48|               41|     -0.71126|         -0.21575|    CL5|        CL2|         CL2|   CL0|     CL4|    CL3|  CL0|    CL4|   CL0|     CL2|        CL0|CL2| CL3|      CL0|     CL4|     CL0|\n",
      "|35-44|  Male|Certificate/diploma|       UK|      White|         31|          45|                    40|           32|               34|     -1.37983|          0.40148|    CL6|        CL0|         CL0|   CL0|     CL3|    CL0|  CL0|    CL0|   CL0|     CL0|        CL0|CL0| CL0|      CL1|     CL0|     CL0|\n",
      "|18-24|Female|     Masters degree|       UK|      White|         34|          34|                    46|           47|               46|     -1.37983|         -1.18084|    CL4|        CL0|         CL0|   CL3|     CL2|    CL2|  CL0|    CL0|   CL0|     CL2|        CL0|CL0| CL0|      CL0|     CL2|     CL0|\n",
      "|35-44|Female|   Doctorate degree|       UK|      White|         43|          28|                    43|           41|               50|     -0.21712|         -0.21575|    CL4|        CL1|         CL1|   CL0|     CL3|    CL0|  CL0|    CL1|   CL0|     CL0|        CL1|CL0| CL0|      CL2|     CL2|     CL0|\n",
      "|  65+|Female|  Left school at 18|   Canada|      White|         29|          38|                    35|           55|               52|     -1.37983|         -1.54858|    CL2|        CL0|         CL0|   CL0|     CL0|    CL0|  CL0|    CL0|   CL0|     CL0|        CL0|CL0| CL0|      CL0|     CL6|     CL0|\n",
      "|45-54|  Male|     Masters degree|      USA|      White|         31|          32|                    43|           41|               48|     -0.21712|          0.07987|    CL6|        CL0|         CL0|   CL0|     CL1|    CL0|  CL0|    CL0|   CL0|     CL0|        CL0|CL0| CL0|      CL0|     CL6|     CL0|\n",
      "|35-44|  Male|  Left school at 16|       UK|      White|         24|          52|                    40|           41|               52|      0.19268|         -0.52593|    CL5|        CL0|         CL0|   CL0|     CL0|    CL0|  CL0|    CL0|   CL0|     CL0|        CL0|CL0| CL0|      CL0|     CL0|     CL0|\n",
      "|35-44|Female|Certificate/diploma|   Canada|      White|         42|          55|                    39|           48|               49|     -1.37983|         -1.54858|    CL4|        CL0|         CL0|   CL0|     CL0|    CL0|  CL0|    CL0|   CL0|     CL0|        CL0|CL0| CL0|      CL0|     CL6|     CL0|\n",
      "|55-64|  Male|     Masters degree|       UK|      White|         33|          40|                    36|           47|               43|     -1.37983|         -0.84637|    CL6|        CL1|         CL0|   CL1|     CL1|    CL0|  CL0|    CL0|   CL0|     CL0|        CL0|CL0| CL0|      CL0|     CL6|     CL0|\n",
      "|25-34|Female|  University degree|       UK|      White|         26|          45|                    38|           38|               53|      0.19268|          0.07987|    CL5|        CL0|         CL1|   CL0|     CL2|    CL2|  CL0|    CL0|   CL0|     CL0|        CL0|CL0| CL0|      CL0|     CL2|     CL1|\n",
      "|45-54|  Male|       Some college|    Other|      White|         24|          40|                    47|           30|               38|      0.52975|           1.2247|    CL5|        CL1|         CL0|   CL0|     CL4|    CL2|  CL0|    CL3|   CL0|     CL0|        CL0|CL1| CL0|      CL2|     CL6|     CL0|\n",
      "|55-64|Female|  University degree|       UK|      White|         56|          41|                    49|           32|               36|      1.29221|          0.07987|    CL5|        CL1|         CL0|   CL4|     CL3|    CL1|  CL0|    CL0|   CL0|     CL0|        CL0|CL1| CL1|      CL1|     CL6|     CL0|\n",
      "|55-64|Female|Certificate/diploma|   Canada|      White|         28|          45|                    46|           49|               59|     -0.71126|         -0.84637|    CL1|        CL0|         CL0|   CL0|     CL0|    CL0|  CL0|    CL0|   CL0|     CL0|        CL0|CL0| CL0|      CL0|     CL1|     CL0|\n",
      "|55-64|Female|Certificate/diploma|       UK|      White|         27|          49|                    49|           39|               52|      1.29221|           0.7654|    CL6|        CL0|         CL0|   CL0|     CL0|    CL0|  CL0|    CL0|   CL0|     CL0|        CL0|CL0| CL0|      CL0|     CL6|     CL0|\n",
      "|55-64|  Male|  University degree|       UK|      White|         19|          29|                    35|           36|               49|     -0.71126|         -0.52593|    CL5|        CL2|         CL2|   CL0|     CL1|    CL2|  CL0|    CL1|   CL0|     CL0|        CL0|CL0| CL0|      CL0|     CL0|     CL0|\n",
      "|35-44|Female|       Some college|       UK|      White|         22|          34|                    34|           45|               47|     -0.21712|         -2.07848|    CL6|        CL0|         CL0|   CL1|     CL3|    CL0|  CL0|    CL0|   CL0|     CL0|        CL0|CL0| CL0|      CL0|     CL6|     CL0|\n",
      "|45-54|  Male|  Left school at 16|       UK|      White|         41|          31|                    44|           40|               31|     -1.37983|         -0.84637|    CL6|        CL1|         CL1|   CL0|     CL6|    CL1|  CL0|    CL1|   CL0|     CL2|        CL0|CL1| CL0|      CL1|     CL6|     CL0|\n",
      "|55-64|  Male|  University degree|Australia|      White|         49|          39|                    45|           30|               30|     -0.71126|         -0.21575|    CL6|        CL2|         CL0|   CL2|     CL3|    CL2|  CL0|    CL2|   CL0|     CL0|        CL2|CL1| CL0|      CL1|     CL0|     CL0|\n",
      "|35-44|  Male|Certificate/diploma|       UK|      White|         32|          27|                    29|           30|               47|     -1.37983|         -2.07848|    CL4|        CL1|         CL0|   CL0|     CL1|    CL0|  CL0|    CL1|   CL0|     CL0|        CL0|CL0| CL6|      CL0|     CL1|     CL0|\n",
      "+-----+------+-------------------+---------+-----------+-----------+------------+----------------------+-------------+-----------------+-------------+-----------------+-------+-----------+------------+------+--------+-------+-----+-------+------+--------+-----------+---+----+---------+--------+--------+\n",
      "only showing top 20 rows\n",
      "\n"
     ]
    }
   ],
   "source": [
    "# We don't want every column. Semeron is now redundant, and caffeine and chocolate are not very useful either.\n",
    "\n",
    "drugdata = drugdata.select('Age','Gender','Education','Country','Ethnicity',\n",
    "                           'Neuroticism','Extraversion','Openness to experience',\n",
    "                           'Agreeableness','Conscientiousness','Impulsiveness',\n",
    "                           'Sensation seeking','Alcohol','Amphetamine','Amyl nitrate',\n",
    "                           'Benzos','Cannabis','Cocaine','Crack','Ecstacy','Heroin',\n",
    "                           'Ketamine','Legal highs','LSD','Meth','Mushrooms','Nicotine','Volatile')\n",
    "drugdata.show()"
   ]
  },
  {
   "cell_type": "code",
   "execution_count": 15,
   "metadata": {},
   "outputs": [
    {
     "name": "stdout",
     "output_type": "stream",
     "text": [
      "+------+-----------+------------+-----------+-------------+-----------------+-------------+-----------------+\n",
      "|Heroin|Neuroticism|Extraversion|Openness...|Agreeableness|Conscientiousness|Impulsiveness|Sensation seeking|\n",
      "+------+-----------+------------+-----------+-------------+-----------------+-------------+-----------------+\n",
      "|   CL0|      35.26|       39.80|      45.31|        43.27|            41.93|        -0.07|            -0.09|\n",
      "|   CL1|      38.26|       37.72|      47.28|        42.13|            39.01|         0.17|             0.19|\n",
      "|   CL2|      39.16|       39.00|      49.32|        41.08|            38.87|         0.52|             0.53|\n",
      "|   CL3|      39.97|       39.11|      48.59|        40.42|            39.42|         0.49|             0.54|\n",
      "|   CL4|      39.88|       37.25|      47.46|        38.38|            37.08|         0.72|             0.85|\n",
      "|   CL5|      42.44|       37.06|      47.31|        37.81|            36.12|         0.79|             0.73|\n",
      "|   CL6|      45.54|       34.77|      47.38|        36.85|            37.15|         0.47|             0.47|\n",
      "+------+-----------+------------+-----------+-------------+-----------------+-------------+-----------------+\n",
      "\n"
     ]
    }
   ],
   "source": [
    "# Let's look at the distribution of personality traits by drug use status for some of our target drugs.\n",
    "\n",
    "from pyspark.sql.functions import format_number, col\n",
    "\n",
    "\n",
    "# Personality data by heroin use status.\n",
    "heroin_stats = drugdata.groupBy('Heroin').mean()\n",
    "heroin_stats = heroin_stats.select('Heroin',\n",
    "                                   format_number('avg(Neuroticism)',2),\n",
    "                                   format_number('avg(Extraversion)',2),\n",
    "                                   format_number('avg(Openness to experience)',2),\n",
    "                                   format_number('avg(Agreeableness)',2),\n",
    "                                   format_number('avg(Conscientiousness)',2),\n",
    "                                   format_number('avg(Impulsiveness)',2),\n",
    "                                   format_number('avg(Sensation seeking)',2))\n",
    "heroin_stats = heroin_stats.select('Heroin',\n",
    "                                   col('format_number(avg(Neuroticism), 2)').alias('Neuroticism'),\n",
    "                                   col('format_number(avg(Extraversion), 2)').alias('Extraversion'),\n",
    "                                   col('format_number(avg(Openness to experience), 2)').alias('Openness...'),\n",
    "                                   col('format_number(avg(Agreeableness), 2)').alias('Agreeableness'),\n",
    "                                   col('format_number(avg(Conscientiousness), 2)').alias('Conscientiousness'),\n",
    "                                   col('format_number(avg(Impulsiveness), 2)').alias('Impulsiveness'),\n",
    "                                   col('format_number(avg(Sensation seeking), 2)').alias('Sensation seeking'))\n",
    "heroin_stats.orderBy('Heroin').show()"
   ]
  },
  {
   "cell_type": "code",
   "execution_count": 16,
   "metadata": {},
   "outputs": [
    {
     "data": {
      "text/plain": [
       "<matplotlib.axes._subplots.AxesSubplot at 0x7fe2d86e2438>"
      ]
     },
     "execution_count": 16,
     "metadata": {},
     "output_type": "execute_result"
    }
   ],
   "source": [
    "# We can see that some traits seem to correlate with heroin use. Let's visualize them.\n",
    "\n",
    "drugdata.toPandas().boxplot(column='Neuroticism', by = 'Heroin')\n",
    "drugdata.toPandas().boxplot(column='Agreeableness', by = 'Heroin')\n",
    "drugdata.toPandas().boxplot(column='Sensation seeking', by = 'Heroin')"
   ]
  },
  {
   "cell_type": "code",
   "execution_count": 17,
   "metadata": {},
   "outputs": [
    {
     "name": "stdout",
     "output_type": "stream",
     "text": [
      "+-------+-----------+------------+-----------+-------------+-----------------+-------------+-----------------+\n",
      "|Cocaine|Neuroticism|Extraversion|Openness...|Agreeableness|Conscientiousness|Impulsiveness|Sensation seeking|\n",
      "+-------+-----------+------------+-----------+-------------+-----------------+-------------+-----------------+\n",
      "|    CL0|      34.84|       39.69|      44.52|        43.88|            42.69|        -0.20|            -0.26|\n",
      "|    CL1|      35.98|       38.01|      46.40|        42.69|            41.11|        -0.00|            -0.17|\n",
      "|    CL2|      36.97|       39.11|      47.23|        42.23|            40.29|         0.18|             0.22|\n",
      "|    CL3|      37.49|       40.03|      47.74|        41.29|            39.05|         0.40|             0.48|\n",
      "|    CL4|      38.42|       40.15|      47.88|        40.78|            39.59|         0.45|             0.58|\n",
      "|    CL5|      38.45|       41.33|      47.17|        39.50|            38.02|         0.52|             0.69|\n",
      "|    CL6|      39.32|       39.84|      45.32|        37.74|            41.32|         0.34|             0.82|\n",
      "+-------+-----------+------------+-----------+-------------+-----------------+-------------+-----------------+\n",
      "\n"
     ]
    }
   ],
   "source": [
    "# Personality data by cocaine use status.\n",
    "cocaine_stats = drugdata.groupBy('Cocaine').mean()\n",
    "cocaine_stats = cocaine_stats.select('Cocaine',\n",
    "                                   format_number('avg(Neuroticism)',2),\n",
    "                                   format_number('avg(Extraversion)',2),\n",
    "                                   format_number('avg(Openness to experience)',2),\n",
    "                                   format_number('avg(Agreeableness)',2),\n",
    "                                   format_number('avg(Conscientiousness)',2),\n",
    "                                   format_number('avg(Impulsiveness)',2),\n",
    "                                   format_number('avg(Sensation seeking)',2))\n",
    "cocaine_stats = cocaine_stats.select('Cocaine',\n",
    "                                   col('format_number(avg(Neuroticism), 2)').alias('Neuroticism'),\n",
    "                                   col('format_number(avg(Extraversion), 2)').alias('Extraversion'),\n",
    "                                   col('format_number(avg(Openness to experience), 2)').alias('Openness...'),\n",
    "                                   col('format_number(avg(Agreeableness), 2)').alias('Agreeableness'),\n",
    "                                   col('format_number(avg(Conscientiousness), 2)').alias('Conscientiousness'),\n",
    "                                   col('format_number(avg(Impulsiveness), 2)').alias('Impulsiveness'),\n",
    "                                   col('format_number(avg(Sensation seeking), 2)').alias('Sensation seeking'))\n",
    "cocaine_stats.orderBy('Cocaine').show()"
   ]
  },
  {
   "cell_type": "code",
   "execution_count": 18,
   "metadata": {},
   "outputs": [
    {
     "data": {
      "text/plain": [
       "<matplotlib.axes._subplots.AxesSubplot at 0x7fe2d85955c0>"
      ]
     },
     "execution_count": 18,
     "metadata": {},
     "output_type": "execute_result"
    },
    {
     "data": {
      "image/png": "[encoded data removed]",
      "text/plain": [
       "<Figure size 432x288 with 1 Axes>"
      ]
     },
     "metadata": {},
     "output_type": "display_data"
    },
    {
     "data": {
      "image/png": "[encoded data removed]",
      "text/plain": [
       "<Figure size 432x288 with 1 Axes>"
      ]
     },
     "metadata": {},
     "output_type": "display_data"
    },
    {
     "data": {
      "image/png": "[encoded data removed]",
      "text/plain": [
       "<Figure size 432x288 with 1 Axes>"
      ]
     },
     "metadata": {},
     "output_type": "display_data"
    },
    {
     "data": {
      "image/png": "[encoded data removed]",
      "text/plain": [
       "<Figure size 432x288 with 1 Axes>"
      ]
     },
     "metadata": {},
     "output_type": "display_data"
    }
   ],
   "source": [
    "# Again, some traits seem to correlate with cocaine use status. It will be interesting to visualize them.\n",
    "\n",
    "drugdata.toPandas().boxplot(column='Neuroticism', by = 'Cocaine')\n",
    "drugdata.toPandas().boxplot(column='Agreeableness', by = 'Cocaine')\n",
    "drugdata.toPandas().boxplot(column='Impulsiveness', by = 'Cocaine')\n",
    "drugdata.toPandas().boxplot(column='Sensation seeking', by = 'Cocaine')"
   ]
  },
  {
   "cell_type": "code",
   "execution_count": 19,
   "metadata": {},
   "outputs": [
    {
     "name": "stdout",
     "output_type": "stream",
     "text": [
      "+--------+-----------+------------+-----------+-------------+-----------------+-------------+-----------------+\n",
      "|Cannabis|Neuroticism|Extraversion|Openness...|Agreeableness|Conscientiousness|Impulsiveness|Sensation seeking|\n",
      "+--------+-----------+------------+-----------+-------------+-----------------+-------------+-----------------+\n",
      "|     CL0|      34.16|       40.23|      41.89|        44.61|            44.62|        -0.45|            -0.65|\n",
      "|     CL1|      33.72|       39.58|      43.53|        44.06|            43.28|        -0.29|            -0.39|\n",
      "|     CL2|      36.59|       39.26|      44.41|        42.22|            42.08|        -0.04|            -0.21|\n",
      "|     CL3|      38.26|       38.55|      46.55|        42.28|            39.67|         0.12|             0.20|\n",
      "|     CL4|      37.07|       39.28|      47.64|        41.75|            39.03|         0.38|             0.43|\n",
      "|     CL5|      36.51|       39.68|      48.60|        42.78|            39.86|         0.25|             0.46|\n",
      "|     CL6|      36.42|       39.65|      48.92|        41.80|            39.55|         0.31|             0.45|\n",
      "+--------+-----------+------------+-----------+-------------+-----------------+-------------+-----------------+\n",
      "\n"
     ]
    }
   ],
   "source": [
    "# Personality data by cannabis use status.\n",
    "cannabis_stats = drugdata.groupBy('Cannabis').mean()\n",
    "cannabis_stats = cannabis_stats.select('Cannabis',\n",
    "                                   format_number('avg(Neuroticism)',2),\n",
    "                                   format_number('avg(Extraversion)',2),\n",
    "                                   format_number('avg(Openness to experience)',2),\n",
    "                                   format_number('avg(Agreeableness)',2),\n",
    "                                   format_number('avg(Conscientiousness)',2),\n",
    "                                   format_number('avg(Impulsiveness)',2),\n",
    "                                   format_number('avg(Sensation seeking)',2))\n",
    "cannabis_stats = cannabis_stats.select('Cannabis',\n",
    "                                   col('format_number(avg(Neuroticism), 2)').alias('Neuroticism'),\n",
    "                                   col('format_number(avg(Extraversion), 2)').alias('Extraversion'),\n",
    "                                   col('format_number(avg(Openness to experience), 2)').alias('Openness...'),\n",
    "                                   col('format_number(avg(Agreeableness), 2)').alias('Agreeableness'),\n",
    "                                   col('format_number(avg(Conscientiousness), 2)').alias('Conscientiousness'),\n",
    "                                   col('format_number(avg(Impulsiveness), 2)').alias('Impulsiveness'),\n",
    "                                   col('format_number(avg(Sensation seeking), 2)').alias('Sensation seeking'))\n",
    "cannabis_stats.orderBy('Cannabis').show()"
   ]
  },
  {
   "cell_type": "code",
   "execution_count": 20,
   "metadata": {},
   "outputs": [
    {
     "data": {
      "text/plain": [
       "<matplotlib.axes._subplots.AxesSubplot at 0x7fe2d85a82b0>"
      ]
     },
     "execution_count": 20,
     "metadata": {},
     "output_type": "execute_result"
    },
    {
     "data": {
      "image/png": "[encoded data removed]",
      "text/plain": [
       "<Figure size 432x288 with 1 Axes>"
      ]
     },
     "metadata": {},
     "output_type": "display_data"
    },
    {
     "data": {
      "image/png": "[encoded data removed]",
      "text/plain": [
       "<Figure size 432x288 with 1 Axes>"
      ]
     },
     "metadata": {},
     "output_type": "display_data"
    },
    {
     "data": {
      "image/png": "[encoded data removed]",
      "text/plain": [
       "<Figure size 432x288 with 1 Axes>"
      ]
     },
     "metadata": {},
     "output_type": "display_data"
    },
    {
     "data": {
      "image/png": "[encoded data removed]",
      "text/plain": [
       "<Figure size 432x288 with 1 Axes>"
      ]
     },
     "metadata": {},
     "output_type": "display_data"
    }
   ],
   "source": [
    "# Visualize certain correlations by cannabis use status\n",
    "\n",
    "drugdata.toPandas().boxplot(column='Openness to experience', by = 'Cannabis')\n",
    "drugdata.toPandas().boxplot(column='Conscientiousness', by = 'Cannabis')\n",
    "drugdata.toPandas().boxplot(column='Impulsiveness', by = 'Cannabis')\n",
    "drugdata.toPandas().boxplot(column='Sensation seeking', by = 'Cannabis')"
   ]
  },
  {
   "cell_type": "code",
   "execution_count": 21,
   "metadata": {},
   "outputs": [
    {
     "name": "stdout",
     "output_type": "stream",
     "text": [
      "+----+-----------+------------+-----------+-------------+-----------------+-------------+-----------------+\n",
      "|Meth|Neuroticism|Extraversion|Openness...|Agreeableness|Conscientiousness|Impulsiveness|Sensation seeking|\n",
      "+----+-----------+------------+-----------+-------------+-----------------+-------------+-----------------+\n",
      "| CL0|      34.95|       40.00|      44.97|        43.44|            42.25|        -0.10|            -0.14|\n",
      "| CL1|      37.82|       38.62|      47.10|        41.67|            39.90|         0.22|             0.11|\n",
      "| CL2|      37.84|       38.69|      48.41|        42.33|            39.28|         0.32|             0.31|\n",
      "| CL3|      38.61|       38.65|      48.96|        40.89|            39.10|         0.35|             0.45|\n",
      "| CL4|      39.04|       40.06|      49.28|        40.70|            37.76|         0.45|             0.69|\n",
      "| CL5|      39.40|       36.75|      48.21|        39.71|            37.77|         0.45|             0.56|\n",
      "| CL6|      41.19|       36.12|      46.19|        40.67|            38.93|         0.28|             0.24|\n",
      "+----+-----------+------------+-----------+-------------+-----------------+-------------+-----------------+\n",
      "\n"
     ]
    }
   ],
   "source": [
    "# Personality data by meth use status.\n",
    "meth_stats = drugdata.groupBy('Meth').mean()\n",
    "meth_stats = meth_stats.select('Meth',\n",
    "                                   format_number('avg(Neuroticism)',2),\n",
    "                                   format_number('avg(Extraversion)',2),\n",
    "                                   format_number('avg(Openness to experience)',2),\n",
    "                                   format_number('avg(Agreeableness)',2),\n",
    "                                   format_number('avg(Conscientiousness)',2),\n",
    "                                   format_number('avg(Impulsiveness)',2),\n",
    "                                   format_number('avg(Sensation seeking)',2))\n",
    "meth_stats = meth_stats.select('Meth',\n",
    "                                   col('format_number(avg(Neuroticism), 2)').alias('Neuroticism'),\n",
    "                                   col('format_number(avg(Extraversion), 2)').alias('Extraversion'),\n",
    "                                   col('format_number(avg(Openness to experience), 2)').alias('Openness...'),\n",
    "                                   col('format_number(avg(Agreeableness), 2)').alias('Agreeableness'),\n",
    "                                   col('format_number(avg(Conscientiousness), 2)').alias('Conscientiousness'),\n",
    "                                   col('format_number(avg(Impulsiveness), 2)').alias('Impulsiveness'),\n",
    "                                   col('format_number(avg(Sensation seeking), 2)').alias('Sensation seeking'))\n",
    "meth_stats.orderBy('Meth').show()"
   ]
  },
  {
   "cell_type": "code",
   "execution_count": 22,
   "metadata": {},
   "outputs": [
    {
     "data": {
      "text/plain": [
       "<matplotlib.axes._subplots.AxesSubplot at 0x7fe30908ed68>"
      ]
     },
     "execution_count": 22,
     "metadata": {},
     "output_type": "execute_result"
    },
    {
     "data": {
      "image/png": "[encoded data removed]",
      "text/plain": [
       "<Figure size 432x288 with 1 Axes>"
      ]
     },
     "metadata": {},
     "output_type": "display_data"
    },
    {
     "data": {
      "image/png": "[encoded data removed]",
      "text/plain": [
       "<Figure size 432x288 with 1 Axes>"
      ]
     },
     "metadata": {},
     "output_type": "display_data"
    },
    {
     "data": {
      "image/png": "[encoded data removed]",
      "text/plain": [
       "<Figure size 432x288 with 1 Axes>"
      ]
     },
     "metadata": {},
     "output_type": "display_data"
    },
    {
     "data": {
      "image/png": "[encoded data removed]",
      "text/plain": [
       "<Figure size 432x288 with 1 Axes>"
      ]
     },
     "metadata": {},
     "output_type": "display_data"
    }
   ],
   "source": [
    "drugdata.toPandas().boxplot(column='Neuroticism', by = 'Meth')\n",
    "drugdata.toPandas().boxplot(column='Extraversion', by = 'Meth')\n",
    "drugdata.toPandas().boxplot(column='Conscientiousness', by = 'Meth')\n",
    "drugdata.toPandas().boxplot(column='Impulsiveness', by = 'Meth')"
   ]
  },
  {
   "cell_type": "code",
   "execution_count": 23,
   "metadata": {
    "scrolled": true
   },
   "outputs": [
    {
     "name": "stdout",
     "output_type": "stream",
     "text": [
      "+--------+-----------+------------+-----------+-------------+-----------------+-------------+-----------------+\n",
      "|Nicotine|Neuroticism|Extraversion|Openness...|Agreeableness|Conscientiousness|Impulsiveness|Sensation seeking|\n",
      "+--------+-----------+------------+-----------+-------------+-----------------+-------------+-----------------+\n",
      "|     CL0|      34.38|       40.00|      43.74|        44.19|            43.46|        -0.34|            -0.46|\n",
      "|     CL1|      33.93|       39.06|      43.97|        43.40|            43.45|        -0.15|            -0.31|\n",
      "|     CL2|      35.55|       39.96|      45.22|        42.86|            42.71|        -0.10|            -0.15|\n",
      "|     CL3|      37.19|       38.85|      47.19|        42.34|            41.06|         0.04|             0.25|\n",
      "|     CL4|      35.71|       39.73|      48.32|        42.01|            39.64|         0.18|             0.30|\n",
      "|     CL5|      36.31|       40.69|      47.57|        42.33|            40.27|         0.15|             0.35|\n",
      "|     CL6|      37.29|       39.20|      46.55|        42.23|            39.69|         0.26|             0.24|\n",
      "+--------+-----------+------------+-----------+-------------+-----------------+-------------+-----------------+\n",
      "\n"
     ]
    }
   ],
   "source": [
    "# Personality data by nicotine use status.\n",
    "nicotine_stats = drugdata.groupBy('Nicotine').mean()\n",
    "nicotine_stats = nicotine_stats.select('Nicotine',\n",
    "                                   format_number('avg(Neuroticism)',2),\n",
    "                                   format_number('avg(Extraversion)',2),\n",
    "                                   format_number('avg(Openness to experience)',2),\n",
    "                                   format_number('avg(Agreeableness)',2),\n",
    "                                   format_number('avg(Conscientiousness)',2),\n",
    "                                   format_number('avg(Impulsiveness)',2),\n",
    "                                   format_number('avg(Sensation seeking)',2))\n",
    "nicotine_stats = nicotine_stats.select('Nicotine',\n",
    "                                   col('format_number(avg(Neuroticism), 2)').alias('Neuroticism'),\n",
    "                                   col('format_number(avg(Extraversion), 2)').alias('Extraversion'),\n",
    "                                   col('format_number(avg(Openness to experience), 2)').alias('Openness...'),\n",
    "                                   col('format_number(avg(Agreeableness), 2)').alias('Agreeableness'),\n",
    "                                   col('format_number(avg(Conscientiousness), 2)').alias('Conscientiousness'),\n",
    "                                   col('format_number(avg(Impulsiveness), 2)').alias('Impulsiveness'),\n",
    "                                   col('format_number(avg(Sensation seeking), 2)').alias('Sensation seeking'))\n",
    "nicotine_stats.orderBy('Nicotine').show()"
   ]
  },
  {
   "cell_type": "code",
   "execution_count": 24,
   "metadata": {},
   "outputs": [
    {
     "data": {
      "text/plain": [
       "<matplotlib.axes._subplots.AxesSubplot at 0x7fe2d85f66d8>"
      ]
     },
     "execution_count": 24,
     "metadata": {},
     "output_type": "execute_result"
    },
    {
     "data": {
      "image/png": "[encoded data removed]",
      "text/plain": [
       "<Figure size 432x288 with 1 Axes>"
      ]
     },
     "metadata": {},
     "output_type": "display_data"
    },
    {
     "data": {
      "image/png": "[encoded data removed]",
      "text/plain": [
       "<Figure size 432x288 with 1 Axes>"
      ]
     },
     "metadata": {},
     "output_type": "display_data"
    },
    {
     "data": {
      "image/png": "[encoded data removed]",
      "text/plain": [
       "<Figure size 432x288 with 1 Axes>"
      ]
     },
     "metadata": {},
     "output_type": "display_data"
    },
    {
     "data": {
      "image/png": "[encoded data removed]",
      "text/plain": [
       "<Figure size 432x288 with 1 Axes>"
      ]
     },
     "metadata": {},
     "output_type": "display_data"
    }
   ],
   "source": [
    "drugdata.toPandas().boxplot(column='Neuroticism', by = 'Nicotine')\n",
    "drugdata.toPandas().boxplot(column='Conscientiousness', by = 'Nicotine')\n",
    "drugdata.toPandas().boxplot(column='Impulsiveness', by = 'Nicotine')\n",
    "drugdata.toPandas().boxplot(column='Sensation seeking', by = 'Nicotine')"
   ]
  },
  {
   "cell_type": "code",
   "execution_count": 25,
   "metadata": {},
   "outputs": [
    {
     "name": "stdout",
     "output_type": "stream",
     "text": [
      "+------+-----------+------------+-----------+-------------+-----------------+-------------+-----------------+\n",
      "|Benzos|Neuroticism|Extraversion|Openness...|Agreeableness|Conscientiousness|Impulsiveness|Sensation seeking|\n",
      "+------+-----------+------------+-----------+-------------+-----------------+-------------+-----------------+\n",
      "|   CL0|      33.93|       40.14|      44.43|        43.74|            42.75|        -0.18|            -0.20|\n",
      "|   CL1|      36.19|       39.01|      45.58|        42.74|            41.14|         0.04|            -0.21|\n",
      "|   CL2|      36.53|       39.07|      46.96|        42.85|            40.69|         0.06|             0.02|\n",
      "|   CL3|      37.42|       39.59|      47.98|        41.98|            39.89|         0.23|             0.35|\n",
      "|   CL4|      39.08|       40.13|      48.03|        40.80|            39.25|         0.42|             0.53|\n",
      "|   CL5|      40.75|       36.86|      46.99|        41.23|            38.39|         0.49|             0.39|\n",
      "|   CL6|      42.95|       37.07|      47.38|        40.16|            39.14|         0.29|             0.30|\n",
      "+------+-----------+------------+-----------+-------------+-----------------+-------------+-----------------+\n",
      "\n"
     ]
    }
   ],
   "source": [
    "# Personality data by benzodiazepine use status.\n",
    "benzo_stats = drugdata.groupBy('Benzos').mean()\n",
    "benzo_stats = benzo_stats.select('Benzos',\n",
    "                                   format_number('avg(Neuroticism)',2),\n",
    "                                   format_number('avg(Extraversion)',2),\n",
    "                                   format_number('avg(Openness to experience)',2),\n",
    "                                   format_number('avg(Agreeableness)',2),\n",
    "                                   format_number('avg(Conscientiousness)',2),\n",
    "                                   format_number('avg(Impulsiveness)',2),\n",
    "                                   format_number('avg(Sensation seeking)',2))\n",
    "benzo_stats = benzo_stats.select('Benzos',\n",
    "                                   col('format_number(avg(Neuroticism), 2)').alias('Neuroticism'),\n",
    "                                   col('format_number(avg(Extraversion), 2)').alias('Extraversion'),\n",
    "                                   col('format_number(avg(Openness to experience), 2)').alias('Openness...'),\n",
    "                                   col('format_number(avg(Agreeableness), 2)').alias('Agreeableness'),\n",
    "                                   col('format_number(avg(Conscientiousness), 2)').alias('Conscientiousness'),\n",
    "                                   col('format_number(avg(Impulsiveness), 2)').alias('Impulsiveness'),\n",
    "                                   col('format_number(avg(Sensation seeking), 2)').alias('Sensation seeking'))\n",
    "benzo_stats.orderBy('Benzos').show()"
   ]
  },
  {
   "cell_type": "code",
   "execution_count": 26,
   "metadata": {},
   "outputs": [
    {
     "data": {
      "text/plain": [
       "<matplotlib.axes._subplots.AxesSubplot at 0x7fe2d7f58dd8>"
      ]
     },
     "execution_count": 26,
     "metadata": {},
     "output_type": "execute_result"
    },
    {
     "data": {
      "image/png": "[encoded data removed]",
      "text/plain": [
       "<Figure size 432x288 with 1 Axes>"
      ]
     },
     "metadata": {},
     "output_type": "display_data"
    },
    {
     "data": {
      "image/png": "[encoded data removed]",
      "text/plain": [
       "<Figure size 432x288 with 1 Axes>"
      ]
     },
     "metadata": {},
     "output_type": "display_data"
    },
    {
     "data": {
      "image/png": "[encoded data removed]",
      "text/plain": [
       "<Figure size 432x288 with 1 Axes>"
      ]
     },
     "metadata": {},
     "output_type": "display_data"
    },
    {
     "data": {
      "image/png": "[encoded data removed]",
      "text/plain": [
       "<Figure size 432x288 with 1 Axes>"
      ]
     },
     "metadata": {},
     "output_type": "display_data"
    }
   ],
   "source": [
    "drugdata.toPandas().boxplot(column='Neuroticism', by = 'Benzos')\n",
    "drugdata.toPandas().boxplot(column='Extraversion', by = 'Benzos')\n",
    "drugdata.toPandas().boxplot(column='Conscientiousness', by = 'Benzos')\n",
    "drugdata.toPandas().boxplot(column='Impulsiveness', by = 'Benzos')"
   ]
  },
  {
   "cell_type": "code",
   "execution_count": 27,
   "metadata": {},
   "outputs": [
    {
     "name": "stdout",
     "output_type": "stream",
     "text": [
      "+-----------+-----------+------------+-----------+-------------+-----------------+-------------+-----------------+\n",
      "|Amphetamine|Neuroticism|Extraversion|Openness...|Agreeableness|Conscientiousness|Impulsiveness|Sensation seeking|\n",
      "+-----------+-----------+------------+-----------+-------------+-----------------+-------------+-----------------+\n",
      "|        CL0|      34.96|       39.88|      44.22|        43.68|            42.82|        -0.23|            -0.30|\n",
      "|        CL1|      35.45|       39.01|      46.24|        42.47|            41.81|        -0.00|            -0.09|\n",
      "|        CL2|      36.21|       39.56|      46.88|        42.92|            40.69|         0.11|             0.26|\n",
      "|        CL3|      37.66|       39.47|      48.94|        41.97|            39.29|         0.40|             0.59|\n",
      "|        CL4|      38.39|       39.74|      47.82|        40.39|            37.59|         0.50|             0.72|\n",
      "|        CL5|      38.93|       39.27|      49.22|        41.08|            37.85|         0.58|             0.50|\n",
      "|        CL6|      38.37|       38.15|      46.81|        40.56|            38.26|         0.56|             0.38|\n",
      "+-----------+-----------+------------+-----------+-------------+-----------------+-------------+-----------------+\n",
      "\n"
     ]
    }
   ],
   "source": [
    "# Personality data by amphetamine use status.\n",
    "amphetamine_stats = drugdata.groupBy('Amphetamine').mean()\n",
    "amphetamine_stats = amphetamine_stats.select('Amphetamine',\n",
    "                                   format_number('avg(Neuroticism)',2),\n",
    "                                   format_number('avg(Extraversion)',2),\n",
    "                                   format_number('avg(Openness to experience)',2),\n",
    "                                   format_number('avg(Agreeableness)',2),\n",
    "                                   format_number('avg(Conscientiousness)',2),\n",
    "                                   format_number('avg(Impulsiveness)',2),\n",
    "                                   format_number('avg(Sensation seeking)',2))\n",
    "amphetamine_stats = amphetamine_stats.select('Amphetamine',\n",
    "                                   col('format_number(avg(Neuroticism), 2)').alias('Neuroticism'),\n",
    "                                   col('format_number(avg(Extraversion), 2)').alias('Extraversion'),\n",
    "                                   col('format_number(avg(Openness to experience), 2)').alias('Openness...'),\n",
    "                                   col('format_number(avg(Agreeableness), 2)').alias('Agreeableness'),\n",
    "                                   col('format_number(avg(Conscientiousness), 2)').alias('Conscientiousness'),\n",
    "                                   col('format_number(avg(Impulsiveness), 2)').alias('Impulsiveness'),\n",
    "                                   col('format_number(avg(Sensation seeking), 2)').alias('Sensation seeking'))\n",
    "amphetamine_stats.orderBy('Amphetamine').show()"
   ]
  },
  {
   "cell_type": "code",
   "execution_count": 28,
   "metadata": {},
   "outputs": [
    {
     "data": {
      "text/plain": [
       "<matplotlib.axes._subplots.AxesSubplot at 0x7fe2db0fb160>"
      ]
     },
     "execution_count": 28,
     "metadata": {},
     "output_type": "execute_result"
    },
    {
     "data": {
      "image/png": "[encoded data removed]",
      "text/plain": [
       "<Figure size 432x288 with 1 Axes>"
      ]
     },
     "metadata": {},
     "output_type": "display_data"
    },
    {
     "data": {
      "image/png": "[encoded data removed]",
      "text/plain": [
       "<Figure size 432x288 with 1 Axes>"
      ]
     },
     "metadata": {},
     "output_type": "display_data"
    },
    {
     "data": {
      "image/png": "[encoded data removed]",
      "text/plain": [
       "<Figure size 432x288 with 1 Axes>"
      ]
     },
     "metadata": {},
     "output_type": "display_data"
    },
    {
     "data": {
      "image/png": "[encoded data removed]",
      "text/plain": [
       "<Figure size 432x288 with 1 Axes>"
      ]
     },
     "metadata": {},
     "output_type": "display_data"
    },
    {
     "data": {
      "image/png": "[encoded data removed]",
      "text/plain": [
       "<Figure size 432x288 with 1 Axes>"
      ]
     },
     "metadata": {},
     "output_type": "display_data"
    }
   ],
   "source": [
    "drugdata.toPandas().boxplot(column='Neuroticism', by = 'Amphetamine')\n",
    "drugdata.toPandas().boxplot(column='Agreeableness', by = 'Amphetamine')\n",
    "drugdata.toPandas().boxplot(column='Conscientiousness', by = 'Amphetamine')\n",
    "drugdata.toPandas().boxplot(column='Impulsiveness', by = 'Amphetamine')\n",
    "drugdata.toPandas().boxplot(column='Sensation seeking', by = 'Amphetamine')"
   ]
  },
  {
   "cell_type": "code",
   "execution_count": 29,
   "metadata": {},
   "outputs": [],
   "source": [
    "# That is some interesting preliminary information. Now to do some machine learning.\n",
    "\n",
    "# Import relevant libraries.\n",
    "import pandas as pd\n",
    "import numpy as np\n",
    "import matplotlib.pyplot as plt\n",
    "from pyspark.ml.classification import LogisticRegression"
   ]
  },
  {
   "cell_type": "code",
   "execution_count": 30,
   "metadata": {},
   "outputs": [
    {
     "name": "stdout",
     "output_type": "stream",
     "text": [
      "root\n",
      " |-- Age: string (nullable = false)\n",
      " |-- Gender: string (nullable = false)\n",
      " |-- Education: string (nullable = false)\n",
      " |-- Neuroticism: integer (nullable = true)\n",
      " |-- Extraversion: integer (nullable = true)\n",
      " |-- Openness to experience: integer (nullable = true)\n",
      " |-- Agreeableness: integer (nullable = true)\n",
      " |-- Conscientiousness: integer (nullable = true)\n",
      " |-- Impulsiveness: double (nullable = true)\n",
      " |-- Sensation seeking: double (nullable = true)\n",
      " |-- Alcohol: string (nullable = true)\n",
      " |-- Amphetamine: string (nullable = true)\n",
      " |-- Benzos: string (nullable = true)\n",
      " |-- Cannabis: string (nullable = true)\n",
      " |-- Cocaine: string (nullable = true)\n",
      " |-- Crack: string (nullable = true)\n",
      " |-- Ecstacy: string (nullable = true)\n",
      " |-- Heroin: string (nullable = true)\n",
      " |-- Meth: string (nullable = true)\n",
      " |-- Nicotine: string (nullable = true)\n",
      "\n"
     ]
    }
   ],
   "source": [
    "# Reduce dimensionality of table. We've already got rid of some of the truly irrelevant information,\n",
    "# but there's also good reason to doubt the predictive power of Ethnicity and Country, given their distribution.\n",
    "# We can also get rid of a few more drugs that seem to be less relevant.\n",
    "\n",
    "drugdata = drugdata.select('Age','Gender','Education','Neuroticism','Extraversion','Openness to experience','Agreeableness',\n",
    "                           'Conscientiousness','Impulsiveness','Sensation seeking','Alcohol','Amphetamine','Benzos',\n",
    "                           'Cannabis','Cocaine','Crack','Ecstacy','Heroin','Meth','Nicotine')\n",
    "\n",
    "drugdata.printSchema()"
   ]
  },
  {
   "cell_type": "code",
   "execution_count": 31,
   "metadata": {},
   "outputs": [
    {
     "data": {
      "text/plain": [
       "<matplotlib.axes._subplots.AxesSubplot at 0x7fe2eaf6f240>"
      ]
     },
     "execution_count": 31,
     "metadata": {},
     "output_type": "execute_result"
    },
    {
     "data": {
      "image/png": "[encoded data removed]",
      "text/plain": [
       "<Figure size 432x288 with 1 Axes>"
      ]
     },
     "metadata": {},
     "output_type": "display_data"
    }
   ],
   "source": [
    "# My first target variable is cocaine. I want to get some idea of class distribution.\n",
    "\n",
    "drugdata.toPandas().groupby('Cocaine').size().plot(kind='bar')"
   ]
  },
  {
   "cell_type": "code",
   "execution_count": 32,
   "metadata": {},
   "outputs": [
    {
     "name": "stdout",
     "output_type": "stream",
     "text": [
      "+--------+\n",
      "| Cocaine|\n",
      "+--------+\n",
      "|Non-user|\n",
      "|    User|\n",
      "|Non-user|\n",
      "|Non-user|\n",
      "|Non-user|\n",
      "|Non-user|\n",
      "|Non-user|\n",
      "|Non-user|\n",
      "|Non-user|\n",
      "|Non-user|\n",
      "|Non-user|\n",
      "|Non-user|\n",
      "|Non-user|\n",
      "|Non-user|\n",
      "|Non-user|\n",
      "|Non-user|\n",
      "|Non-user|\n",
      "|Non-user|\n",
      "|Non-user|\n",
      "|Non-user|\n",
      "+--------+\n",
      "only showing top 20 rows\n",
      "\n"
     ]
    }
   ],
   "source": [
    "# I'll use cocaine as my target variable. I want to do binomial regression, so I need to make it into a binary feature.\n",
    "cocaine_dataset = drugdata.replace(['CL0','CL1','CL2'],'Non-user','Cocaine')\n",
    "cocaine_dataset = cocaine_dataset.replace(['CL3','CL4','CL5','CL6'],'User','Cocaine')\n",
    "\n",
    "# Let's make sure it worked.\n",
    "cocaine_dataset.select('Cocaine').show()"
   ]
  },
  {
   "cell_type": "code",
   "execution_count": 33,
   "metadata": {},
   "outputs": [],
   "source": [
    "# Much of the information is in string form, so we need to convert it in order to work with it.\n",
    "# Code adapted from tutorial examples.\n",
    "from pyspark.ml.feature import (VectorAssembler,VectorIndexer,OneHotEncoder,StringIndexer)\n",
    "\n",
    "# I'll use cocaine as my target feature for this iteration, so its output is given the label 'label'.\n",
    "age_indexer = StringIndexer(inputCol='Age',outputCol='ageIndex')\n",
    "gender_indexer = StringIndexer(inputCol='Gender',outputCol='genderIndex')\n",
    "education_indexer = StringIndexer(inputCol='Education',outputCol='educationIndex')\n",
    "alcohol_indexer = StringIndexer(inputCol='Alcohol',outputCol='alcoholIndex')\n",
    "amphetamine_indexer = StringIndexer(inputCol='Amphetamine',outputCol='amphetamineIndex')\n",
    "benzos_indexer = StringIndexer(inputCol='Benzos',outputCol='benzosIndex')\n",
    "cannabis_indexer = StringIndexer(inputCol='Cannabis',outputCol='cannabisIndex')\n",
    "cocaine_indexer = StringIndexer(inputCol='Cocaine',outputCol='label')\n",
    "crack_indexer = StringIndexer(inputCol='Crack',outputCol='crackIndex')\n",
    "ecstacy_indexer = StringIndexer(inputCol='Ecstacy',outputCol='ecstacyIndex')\n",
    "heroin_indexer = StringIndexer(inputCol='Heroin',outputCol='heroinIndex')\n",
    "meth_indexer = StringIndexer(inputCol='Meth',outputCol='methIndex')\n",
    "nicotine_indexer = StringIndexer(inputCol='Nicotine',outputCol='nicotineIndex')\n",
    "\n",
    "\n",
    "age_encoder = OneHotEncoder(inputCol='ageIndex',outputCol='ageVec')\n",
    "gender_encoder = OneHotEncoder(inputCol='genderIndex',outputCol='genderVec')\n",
    "education_encoder = OneHotEncoder(inputCol='educationIndex',outputCol='educationVec')\n",
    "alcohol_encoder = OneHotEncoder(inputCol='alcoholIndex',outputCol='alcoholVec')\n",
    "amphetamine_encoder = OneHotEncoder(inputCol='amphetamineIndex',outputCol='amphetamineVec')\n",
    "benzos_encoder = OneHotEncoder(inputCol='benzosIndex',outputCol='benzosVec')\n",
    "cannabis_encoder = OneHotEncoder(inputCol='cannabisIndex',outputCol='cannabisVec')\n",
    "crack_encoder = OneHotEncoder(inputCol='crackIndex',outputCol='crackVec')\n",
    "ecstacy_encoder = OneHotEncoder(inputCol='ecstacyIndex',outputCol='ecstacyVec')\n",
    "heroin_encoder = OneHotEncoder(inputCol='heroinIndex',outputCol='heroinVec')\n",
    "meth_encoder = OneHotEncoder(inputCol='methIndex',outputCol='methVec')\n",
    "nicotine_encoder = OneHotEncoder(inputCol='nicotineIndex',outputCol='nicotineVec')\n",
    "\n",
    "assembler = VectorAssembler(inputCols=['ageVec','genderVec','educationVec','alcoholVec','amphetamineVec','benzosVec',\n",
    "                                      'cannabisVec','crackVec','ecstacyVec','heroinVec','methVec','nicotineVec','Neuroticism',\n",
    "                                      'Extraversion','Openness to experience','Agreeableness','Conscientiousness',\n",
    "                                      'Impulsiveness','Sensation seeking'], outputCol=\"features\")"
   ]
  },
  {
   "cell_type": "code",
   "execution_count": 34,
   "metadata": {},
   "outputs": [],
   "source": [
    "# Now that everything has been set up, I'll set up a pipeline to call the indexer, encoder and assembler.\n",
    "# Code adapted from tutorial examples.\n",
    "\n",
    "from pyspark.ml import Pipeline\n",
    "\n",
    "pipeline = Pipeline(stages=[age_indexer, gender_indexer, education_indexer, alcohol_indexer, amphetamine_indexer,\n",
    "                            benzos_indexer, cannabis_indexer, cocaine_indexer, crack_indexer, ecstacy_indexer,\n",
    "                            heroin_indexer, meth_indexer, nicotine_indexer, age_encoder, gender_encoder, education_encoder,\n",
    "                            alcohol_encoder, amphetamine_encoder, benzos_encoder, cannabis_encoder, crack_encoder,\n",
    "                            ecstacy_encoder, heroin_encoder, meth_encoder, nicotine_encoder, assembler])\n",
    "\n",
    "pipeline_model = pipeline.fit(cocaine_dataset)\n",
    "\n",
    "# Incorporate results into a new DataFrame.\n",
    "pipe_df = pipeline_model.transform(cocaine_dataset)\n",
    "\n",
    "# Remove all variables other than features and label. \n",
    "pipe_df = pipe_df.select('label', 'features')"
   ]
  },
  {
   "cell_type": "code",
   "execution_count": 35,
   "metadata": {},
   "outputs": [
    {
     "name": "stdout",
     "output_type": "stream",
     "text": [
      "Training Dataset Count: 1302\n",
      "Test Dataset Count: 571\n"
     ]
    }
   ],
   "source": [
    "# Split data and train a logistic regression model, then test on the testing set.\n",
    "\n",
    "train_data, test_data = pipe_df.randomSplit([0.7,0.3])\n",
    "print(\"Training Dataset Count: \" + str(train_data.count()))\n",
    "print(\"Test Dataset Count: \" + str(test_data.count()))\n",
    "\n",
    "lr_model = LogisticRegression(featuresCol='features',labelCol='label')\n",
    "lr_model = lr_model.fit(train_data)\n",
    "results = lr_model.transform(test_data)"
   ]
  },
  {
   "cell_type": "code",
   "execution_count": 36,
   "metadata": {},
   "outputs": [
    {
     "name": "stdout",
     "output_type": "stream",
     "text": [
      "True Positives: 69\n",
      "True Negatives: 412\n",
      "False Positives: 34\n",
      "False Negatives: 56\n",
      "Total: 571\n"
     ]
    },
    {
     "data": {
      "image/png": "[encoded data removed]",
      "text/plain": [
       "<Figure size 432x288 with 1 Axes>"
      ]
     },
     "metadata": {},
     "output_type": "display_data"
    },
    {
     "name": "stdout",
     "output_type": "stream",
     "text": [
      "Area Under the Curve: 0.948078474451177\n"
     ]
    }
   ],
   "source": [
    "# Visualize and evaluate the results. \n",
    "# Code adapted from https://gist.github.com/ispmarin/05feacd8be5e2901cf2b35453a148060 and tutorial examples.\n",
    "\n",
    "# Generate a confusion matrix.\n",
    "tp = results[(results.label == 1.0) & (results.prediction == 1.0)].count()\n",
    "tn = results[(results.label == 0.0) & (results.prediction == 0.0)].count()\n",
    "fp = results[(results.label == 0.0) & (results.prediction == 1.0)].count()\n",
    "fn = results[(results.label == 1.0) & (results.prediction == 0.0)].count()\n",
    "print(\"True Positives:\", tp)\n",
    "print(\"True Negatives:\", tn)\n",
    "print(\"False Positives:\", fp)\n",
    "print(\"False Negatives:\", fn)\n",
    "print(\"Total: \" + str(results.count()))\n",
    "\n",
    "# Plot the ROC.\n",
    "training_summary = lr_model.summary\n",
    "\n",
    "# Convert the DataFrame to a Pandas DataFrame.\n",
    "ROC = training_summary.roc.toPandas()\n",
    "\n",
    "# Plot the true positive and false positive rates.\n",
    "plt.plot(ROC['FPR'],ROC['TPR'])\n",
    "\n",
    "# Define the labels.\n",
    "plt.ylabel('True Positive Rate')\n",
    "plt.xlabel('False Positive Rate')\n",
    "plt.title('ROC Curve')\n",
    "plt.show()\n",
    "\n",
    "# Print the AUC statistic. \n",
    "print('Area Under the Curve: ' + str(training_summary.areaUnderROC))"
   ]
  },
  {
   "cell_type": "code",
   "execution_count": 37,
   "metadata": {},
   "outputs": [
    {
     "name": "stdout",
     "output_type": "stream",
     "text": [
      "Recall: 0.552\n",
      "Precision: 0.6699029126213593\n"
     ]
    },
    {
     "data": {
      "image/png": "[encoded data removed]",
      "text/plain": [
       "<Figure size 432x288 with 1 Axes>"
      ]
     },
     "metadata": {},
     "output_type": "display_data"
    }
   ],
   "source": [
    "# Code adapted from https://gist.github.com/ispmarin/05feacd8be5e2901cf2b35453a148060 and tutorial examples.\n",
    "\n",
    "# Show precision & recall.\n",
    "\n",
    "r = float(tp)/(tp + fn)\n",
    "print(\"Recall:\", r)\n",
    "\n",
    "p = float(tp) / (tp + fp)\n",
    "print(\"Precision:\", p)\n",
    "\n",
    "pr = training_summary.pr.toPandas()\n",
    "\n",
    "# Plot model recall and precision.\n",
    "plt.plot(pr['recall'],pr['precision'])\n",
    "\n",
    "# Define the labels and show the graph. \n",
    "plt.ylabel('Precision')\n",
    "plt.xlabel('Recall')\n",
    "plt.show()"
   ]
  },
  {
   "cell_type": "code",
   "execution_count": 38,
   "metadata": {},
   "outputs": [
    {
     "data": {
      "text/plain": [
       "<matplotlib.axes._subplots.AxesSubplot at 0x7fe2db083400>"
      ]
     },
     "execution_count": 38,
     "metadata": {},
     "output_type": "execute_result"
    },
    {
     "data": {
      "image/png": "[encoded data removed]",
      "text/plain": [
       "<Figure size 432x288 with 1 Axes>"
      ]
     },
     "metadata": {},
     "output_type": "display_data"
    }
   ],
   "source": [
    "# I'll repeat the above modelling for other target variables.\n",
    "\n",
    "drugdata.toPandas().groupby('Cannabis').size().plot(kind='bar')"
   ]
  },
  {
   "cell_type": "code",
   "execution_count": 39,
   "metadata": {},
   "outputs": [
    {
     "name": "stdout",
     "output_type": "stream",
     "text": [
      "+--------+\n",
      "|Cannabis|\n",
      "+--------+\n",
      "|Non-user|\n",
      "|    User|\n",
      "|    User|\n",
      "|Non-user|\n",
      "|    User|\n",
      "|Non-user|\n",
      "|Non-user|\n",
      "|Non-user|\n",
      "|Non-user|\n",
      "|Non-user|\n",
      "|Non-user|\n",
      "|    User|\n",
      "|    User|\n",
      "|Non-user|\n",
      "|Non-user|\n",
      "|Non-user|\n",
      "|    User|\n",
      "|    User|\n",
      "|    User|\n",
      "|Non-user|\n",
      "+--------+\n",
      "only showing top 20 rows\n",
      "\n"
     ]
    }
   ],
   "source": [
    "# I go through the process of preparing the dataset again, this time using cannabis as my target variable.\n",
    "cannabis_dataset = drugdata.replace(['CL0','CL1','CL2'],'Non-user','Cannabis')\n",
    "cannabis_dataset = cannabis_dataset.replace(['CL3','CL4','CL5','CL6'],'User','Cannabis')\n",
    "\n",
    "cannabis_dataset.select('Cannabis').show()\n",
    "\n",
    "age_indexer = StringIndexer(inputCol='Age',outputCol='ageIndex')\n",
    "gender_indexer = StringIndexer(inputCol='Gender',outputCol='genderIndex')\n",
    "education_indexer = StringIndexer(inputCol='Education',outputCol='educationIndex')\n",
    "alcohol_indexer = StringIndexer(inputCol='Alcohol',outputCol='alcoholIndex')\n",
    "amphetamine_indexer = StringIndexer(inputCol='Amphetamine',outputCol='amphetamineIndex')\n",
    "benzos_indexer = StringIndexer(inputCol='Benzos',outputCol='benzosIndex')\n",
    "cannabis_indexer = StringIndexer(inputCol='Cannabis',outputCol='label')\n",
    "cocaine_indexer = StringIndexer(inputCol='Cocaine',outputCol='cocaineIndex')\n",
    "crack_indexer = StringIndexer(inputCol='Crack',outputCol='crackIndex')\n",
    "ecstacy_indexer = StringIndexer(inputCol='Ecstacy',outputCol='ecstacyIndex')\n",
    "heroin_indexer = StringIndexer(inputCol='Heroin',outputCol='heroinIndex')\n",
    "meth_indexer = StringIndexer(inputCol='Meth',outputCol='methIndex')\n",
    "nicotine_indexer = StringIndexer(inputCol='Nicotine',outputCol='nicotineIndex')\n",
    "\n",
    "\n",
    "age_encoder = OneHotEncoder(inputCol='ageIndex',outputCol='ageVec')\n",
    "gender_encoder = OneHotEncoder(inputCol='genderIndex',outputCol='genderVec')\n",
    "education_encoder = OneHotEncoder(inputCol='educationIndex',outputCol='educationVec')\n",
    "alcohol_encoder = OneHotEncoder(inputCol='alcoholIndex',outputCol='alcoholVec')\n",
    "amphetamine_encoder = OneHotEncoder(inputCol='amphetamineIndex',outputCol='amphetamineVec')\n",
    "benzos_encoder = OneHotEncoder(inputCol='benzosIndex',outputCol='benzosVec')\n",
    "cocaine_encoder = OneHotEncoder(inputCol='cocaineIndex',outputCol='cocaineVec')\n",
    "crack_encoder = OneHotEncoder(inputCol='crackIndex',outputCol='crackVec')\n",
    "ecstacy_encoder = OneHotEncoder(inputCol='ecstacyIndex',outputCol='ecstacyVec')\n",
    "heroin_encoder = OneHotEncoder(inputCol='heroinIndex',outputCol='heroinVec')\n",
    "meth_encoder = OneHotEncoder(inputCol='methIndex',outputCol='methVec')\n",
    "nicotine_encoder = OneHotEncoder(inputCol='nicotineIndex',outputCol='nicotineVec')\n",
    "\n",
    "assembler = VectorAssembler(inputCols=['ageVec','genderVec','educationVec','alcoholVec','amphetamineVec','benzosVec',\n",
    "                                      'cocaineVec','crackVec','ecstacyVec','heroinVec','methVec','nicotineVec','Neuroticism',\n",
    "                                      'Extraversion','Openness to experience','Agreeableness','Conscientiousness',\n",
    "                                      'Impulsiveness','Sensation seeking'], outputCol=\"features\")\n",
    "\n",
    "pipeline = Pipeline(stages=[age_indexer, gender_indexer, education_indexer, alcohol_indexer, amphetamine_indexer,\n",
    "                            benzos_indexer, cannabis_indexer, cocaine_indexer, crack_indexer, ecstacy_indexer,\n",
    "                            heroin_indexer, meth_indexer, nicotine_indexer, age_encoder, gender_encoder, education_encoder,\n",
    "                            alcohol_encoder, amphetamine_encoder, benzos_encoder, cocaine_encoder, crack_encoder,\n",
    "                            ecstacy_encoder, heroin_encoder, meth_encoder, nicotine_encoder, assembler])\n",
    "\n",
    "pipeline_model = pipeline.fit(cannabis_dataset)\n",
    "\n",
    "# Incorporate results into a new DataFrame.\n",
    "pipe_df = pipeline_model.transform(cannabis_dataset)\n",
    "\n",
    "# Remove all variables other than features and label. \n",
    "pipe_df = pipe_df.select('label', 'features')"
   ]
  },
  {
   "cell_type": "code",
   "execution_count": 40,
   "metadata": {},
   "outputs": [
    {
     "name": "stdout",
     "output_type": "stream",
     "text": [
      "Training Dataset Count: 1350\n",
      "Test Dataset Count: 523\n"
     ]
    }
   ],
   "source": [
    "# Split the data, train the model and classify the test set.\n",
    "\n",
    "train_data, test_data = pipe_df.randomSplit([0.7,0.3])\n",
    "print(\"Training Dataset Count: \" + str(train_data.count()))\n",
    "print(\"Test Dataset Count: \" + str(test_data.count()))\n",
    "lr_model = LogisticRegression(featuresCol='features',labelCol='label')\n",
    "lr_model = lr_model.fit(train_data)\n",
    "results = lr_model.transform(test_data)"
   ]
  },
  {
   "cell_type": "code",
   "execution_count": 41,
   "metadata": {},
   "outputs": [
    {
     "name": "stdout",
     "output_type": "stream",
     "text": [
      "True Positives: 217\n",
      "True Negatives: 239\n",
      "False Positives: 27\n",
      "False Negatives: 40\n",
      "Total: 523\n"
     ]
    },
    {
     "data": {
      "image/png": "[encoded data removed]",
      "text/plain": [
       "<Figure size 432x288 with 1 Axes>"
      ]
     },
     "metadata": {},
     "output_type": "display_data"
    },
    {
     "name": "stdout",
     "output_type": "stream",
     "text": [
      "Area Under the Curve: 0.9403527886091355\n",
      "Recall: 0.8443579766536965\n",
      "Precision: 0.889344262295082\n"
     ]
    },
    {
     "data": {
      "image/png": "[encoded data removed]",
      "text/plain": [
       "<Figure size 432x288 with 1 Axes>"
      ]
     },
     "metadata": {},
     "output_type": "display_data"
    }
   ],
   "source": [
    "# Visualize and evaluate the results. \n",
    "# Code adapted from https://gist.github.com/ispmarin/05feacd8be5e2901cf2b35453a148060 and tutorial examples.\n",
    "\n",
    "# Generate a confusion matrix.\n",
    "tp = results[(results.label == 1.0) & (results.prediction == 1.0)].count()\n",
    "tn = results[(results.label == 0.0) & (results.prediction == 0.0)].count()\n",
    "fp = results[(results.label == 0.0) & (results.prediction == 1.0)].count()\n",
    "fn = results[(results.label == 1.0) & (results.prediction == 0.0)].count()\n",
    "print(\"True Positives:\", tp)\n",
    "print(\"True Negatives:\", tn)\n",
    "print(\"False Positives:\", fp)\n",
    "print(\"False Negatives:\", fn)\n",
    "print(\"Total: \" + str(results.count()))\n",
    "\n",
    "# Plot the ROC.\n",
    "training_summary = lr_model.summary\n",
    "\n",
    "# Convert the DataFrame to a Pandas DataFrame.\n",
    "ROC = training_summary.roc.toPandas()\n",
    "\n",
    "# Plot the true positive and false positive rates.\n",
    "plt.plot(ROC['FPR'],ROC['TPR'])\n",
    "\n",
    "# Define the labels.\n",
    "plt.ylabel('True Positive Rate')\n",
    "plt.xlabel('False Positive Rate')\n",
    "plt.title('ROC Curve')\n",
    "plt.show()\n",
    "\n",
    "# Print the AUC statistic. \n",
    "print('Area Under the Curve: ' + str(training_summary.areaUnderROC))\n",
    "\n",
    "# Show precision & recall.\n",
    "r = float(tp)/(tp + fn)\n",
    "print(\"Recall:\", r)\n",
    "\n",
    "p = float(tp) / (tp + fp)\n",
    "print(\"Precision:\", p)\n",
    "\n",
    "pr = training_summary.pr.toPandas()\n",
    "\n",
    "# Plot model recall and precision.\n",
    "plt.plot(pr['recall'],pr['precision'])\n",
    "\n",
    "# Define the labels and show the graph. \n",
    "plt.ylabel('Precision')\n",
    "plt.xlabel('Recall')\n",
    "plt.show()"
   ]
  },
  {
   "cell_type": "code",
   "execution_count": 42,
   "metadata": {},
   "outputs": [
    {
     "data": {
      "text/plain": [
       "<matplotlib.axes._subplots.AxesSubplot at 0x7fe2daf91a90>"
      ]
     },
     "execution_count": 42,
     "metadata": {},
     "output_type": "execute_result"
    },
    {
     "data": {
      "image/png": "[encoded data removed]",
      "text/plain": [
       "<Figure size 432x288 with 1 Axes>"
      ]
     },
     "metadata": {},
     "output_type": "display_data"
    }
   ],
   "source": [
    "# Repeat for other target variables.\n",
    "\n",
    "drugdata.toPandas().groupby('Nicotine').size().plot(kind='bar')"
   ]
  },
  {
   "cell_type": "code",
   "execution_count": 43,
   "metadata": {},
   "outputs": [
    {
     "name": "stdout",
     "output_type": "stream",
     "text": [
      "+--------+\n",
      "|Nicotine|\n",
      "+--------+\n",
      "|Non-user|\n",
      "|    User|\n",
      "|Non-user|\n",
      "|Non-user|\n",
      "|Non-user|\n",
      "|    User|\n",
      "|    User|\n",
      "|Non-user|\n",
      "|    User|\n",
      "|    User|\n",
      "|Non-user|\n",
      "|    User|\n",
      "|    User|\n",
      "|Non-user|\n",
      "|    User|\n",
      "|Non-user|\n",
      "|    User|\n",
      "|    User|\n",
      "|Non-user|\n",
      "|Non-user|\n",
      "+--------+\n",
      "only showing top 20 rows\n",
      "\n"
     ]
    }
   ],
   "source": [
    "# I go through the process of preparing the dataset again, this time using nicotine as my target variable.\n",
    "nicotine_dataset = drugdata.replace(['CL0','CL1','CL2'],'Non-user','Nicotine')\n",
    "nicotine_dataset = nicotine_dataset.replace(['CL3','CL4','CL5','CL6'],'User','Nicotine')\n",
    "\n",
    "nicotine_dataset.select('Nicotine').show()\n",
    "\n",
    "age_indexer = StringIndexer(inputCol='Age',outputCol='ageIndex')\n",
    "gender_indexer = StringIndexer(inputCol='Gender',outputCol='genderIndex')\n",
    "education_indexer = StringIndexer(inputCol='Education',outputCol='educationIndex')\n",
    "alcohol_indexer = StringIndexer(inputCol='Alcohol',outputCol='alcoholIndex')\n",
    "amphetamine_indexer = StringIndexer(inputCol='Amphetamine',outputCol='amphetamineIndex')\n",
    "benzos_indexer = StringIndexer(inputCol='Benzos',outputCol='benzosIndex')\n",
    "cannabis_indexer = StringIndexer(inputCol='Cannabis',outputCol='cannabisIndex')\n",
    "cocaine_indexer = StringIndexer(inputCol='Cocaine',outputCol='cocaineIndex')\n",
    "crack_indexer = StringIndexer(inputCol='Crack',outputCol='crackIndex')\n",
    "ecstacy_indexer = StringIndexer(inputCol='Ecstacy',outputCol='ecstacyIndex')\n",
    "heroin_indexer = StringIndexer(inputCol='Heroin',outputCol='heroinIndex')\n",
    "meth_indexer = StringIndexer(inputCol='Meth',outputCol='methIndex')\n",
    "nicotine_indexer = StringIndexer(inputCol='Nicotine',outputCol='label')\n",
    "\n",
    "\n",
    "age_encoder = OneHotEncoder(inputCol='ageIndex',outputCol='ageVec')\n",
    "gender_encoder = OneHotEncoder(inputCol='genderIndex',outputCol='genderVec')\n",
    "education_encoder = OneHotEncoder(inputCol='educationIndex',outputCol='educationVec')\n",
    "alcohol_encoder = OneHotEncoder(inputCol='alcoholIndex',outputCol='alcoholVec')\n",
    "amphetamine_encoder = OneHotEncoder(inputCol='amphetamineIndex',outputCol='amphetamineVec')\n",
    "benzos_encoder = OneHotEncoder(inputCol='benzosIndex',outputCol='benzosVec')\n",
    "cannabis_encoder = OneHotEncoder(inputCol='cannabisIndex',outputCol='cannabisVec')\n",
    "cocaine_encoder = OneHotEncoder(inputCol='cocaineIndex',outputCol='cocaineVec')\n",
    "crack_encoder = OneHotEncoder(inputCol='crackIndex',outputCol='crackVec')\n",
    "ecstacy_encoder = OneHotEncoder(inputCol='ecstacyIndex',outputCol='ecstacyVec')\n",
    "heroin_encoder = OneHotEncoder(inputCol='heroinIndex',outputCol='heroinVec')\n",
    "meth_encoder = OneHotEncoder(inputCol='methIndex',outputCol='methVec')\n",
    "\n",
    "assembler = VectorAssembler(inputCols=['ageVec','genderVec','educationVec','alcoholVec','amphetamineVec','benzosVec',\n",
    "                                       'cannabisVec','cocaineVec','crackVec','ecstacyVec','heroinVec','methVec',\n",
    "                                       'Neuroticism','Extraversion','Openness to experience','Agreeableness',\n",
    "                                       'Conscientiousness','Impulsiveness','Sensation seeking'], outputCol=\"features\")\n",
    "\n",
    "pipeline = Pipeline(stages=[age_indexer, gender_indexer, education_indexer, alcohol_indexer, amphetamine_indexer,\n",
    "                            benzos_indexer, cannabis_indexer, cocaine_indexer, crack_indexer, ecstacy_indexer,\n",
    "                            heroin_indexer, meth_indexer, nicotine_indexer, age_encoder, gender_encoder, education_encoder,\n",
    "                            alcohol_encoder, amphetamine_encoder, benzos_encoder, cannabis_encoder, cocaine_encoder, crack_encoder,\n",
    "                            ecstacy_encoder, heroin_encoder, meth_encoder, assembler])\n",
    "\n",
    "pipeline_model = pipeline.fit(nicotine_dataset)\n",
    "\n",
    "# Incorporate results into a new DataFrame.\n",
    "pipe_df = pipeline_model.transform(nicotine_dataset)\n",
    "\n",
    "# Remove all variables other than features and label. \n",
    "pipe_df = pipe_df.select('label', 'features')"
   ]
  },
  {
   "cell_type": "code",
   "execution_count": 44,
   "metadata": {},
   "outputs": [
    {
     "name": "stdout",
     "output_type": "stream",
     "text": [
      "Training Dataset Count: 1337\n",
      "Test Dataset Count: 536\n"
     ]
    }
   ],
   "source": [
    "# Split the data, train the model and classify the test set.\n",
    "\n",
    "train_data, test_data = pipe_df.randomSplit([0.7,0.3])\n",
    "print(\"Training Dataset Count: \" + str(train_data.count()))\n",
    "print(\"Test Dataset Count: \" + str(test_data.count()))\n",
    "lr_model = LogisticRegression(featuresCol='features',labelCol='label')\n",
    "lr_model = lr_model.fit(train_data)\n",
    "results = lr_model.transform(test_data)"
   ]
  },
  {
   "cell_type": "code",
   "execution_count": 45,
   "metadata": {},
   "outputs": [
    {
     "name": "stdout",
     "output_type": "stream",
     "text": [
      "True Positives: 163\n",
      "True Negatives: 250\n",
      "False Positives: 58\n",
      "False Negatives: 65\n",
      "Total: 536\n"
     ]
    },
    {
     "data": {
      "image/png": "[encoded data removed]",
      "text/plain": [
       "<Figure size 432x288 with 1 Axes>"
      ]
     },
     "metadata": {},
     "output_type": "display_data"
    },
    {
     "name": "stdout",
     "output_type": "stream",
     "text": [
      "Area Under the Curve: 0.8530906702303563\n",
      "Recall: 0.7149122807017544\n",
      "Precision: 0.7375565610859729\n"
     ]
    },
    {
     "data": {
      "image/png": "[encoded data removed]",
      "text/plain": [
       "<Figure size 432x288 with 1 Axes>"
      ]
     },
     "metadata": {},
     "output_type": "display_data"
    }
   ],
   "source": [
    "# Visualize and evaluate the results. \n",
    "# Code adapted from https://gist.github.com/ispmarin/05feacd8be5e2901cf2b35453a148060 and tutorial examples.\n",
    "\n",
    "# Generate a confusion matrix.\n",
    "tp = results[(results.label == 1.0) & (results.prediction == 1.0)].count()\n",
    "tn = results[(results.label == 0.0) & (results.prediction == 0.0)].count()\n",
    "fp = results[(results.label == 0.0) & (results.prediction == 1.0)].count()\n",
    "fn = results[(results.label == 1.0) & (results.prediction == 0.0)].count()\n",
    "print(\"True Positives:\", tp)\n",
    "print(\"True Negatives:\", tn)\n",
    "print(\"False Positives:\", fp)\n",
    "print(\"False Negatives:\", fn)\n",
    "print(\"Total: \" + str(results.count()))\n",
    "\n",
    "# Plot the ROC.\n",
    "training_summary = lr_model.summary\n",
    "\n",
    "# Convert the DataFrame to a Pandas DataFrame.\n",
    "ROC = training_summary.roc.toPandas()\n",
    "\n",
    "# Plot the true positive and false positive rates.\n",
    "plt.plot(ROC['FPR'],ROC['TPR'])\n",
    "\n",
    "# Define the labels.\n",
    "plt.ylabel('True Positive Rate')\n",
    "plt.xlabel('False Positive Rate')\n",
    "plt.title('ROC Curve')\n",
    "plt.show()\n",
    "\n",
    "# Print the AUC statistic. \n",
    "print('Area Under the Curve: ' + str(training_summary.areaUnderROC))\n",
    "\n",
    "# Show precision & recall.\n",
    "r = float(tp)/(tp + fn)\n",
    "print(\"Recall:\", r)\n",
    "\n",
    "p = float(tp) / (tp + fp)\n",
    "print(\"Precision:\", p)\n",
    "\n",
    "pr = training_summary.pr.toPandas()\n",
    "\n",
    "# Plot model recall and precision.\n",
    "plt.plot(pr['recall'],pr['precision'])\n",
    "\n",
    "# Define the labels and show the graph. \n",
    "plt.ylabel('Precision')\n",
    "plt.xlabel('Recall')\n",
    "plt.show()"
   ]
  },
  {
   "cell_type": "code",
   "execution_count": 46,
   "metadata": {},
   "outputs": [
    {
     "data": {
      "text/plain": [
       "<matplotlib.axes._subplots.AxesSubplot at 0x7fe2db0d92b0>"
      ]
     },
     "execution_count": 46,
     "metadata": {},
     "output_type": "execute_result"
    },
    {
     "data": {
      "image/png": "[encoded data removed]",
      "text/plain": [
       "<Figure size 432x288 with 1 Axes>"
      ]
     },
     "metadata": {},
     "output_type": "display_data"
    }
   ],
   "source": [
    "# Repeat for other target variables, in this case heroin.\n",
    "\n",
    "drugdata.toPandas().groupby('Heroin').size().plot(kind='bar')"
   ]
  },
  {
   "cell_type": "code",
   "execution_count": 47,
   "metadata": {},
   "outputs": [
    {
     "name": "stdout",
     "output_type": "stream",
     "text": [
      "+--------+\n",
      "|  Heroin|\n",
      "+--------+\n",
      "|Non-user|\n",
      "|Non-user|\n",
      "|Non-user|\n",
      "|Non-user|\n",
      "|Non-user|\n",
      "|Non-user|\n",
      "|Non-user|\n",
      "|Non-user|\n",
      "|Non-user|\n",
      "|Non-user|\n",
      "|Non-user|\n",
      "|Non-user|\n",
      "|Non-user|\n",
      "|Non-user|\n",
      "|Non-user|\n",
      "|Non-user|\n",
      "|Non-user|\n",
      "|Non-user|\n",
      "|Non-user|\n",
      "|Non-user|\n",
      "+--------+\n",
      "only showing top 20 rows\n",
      "\n"
     ]
    }
   ],
   "source": [
    "heroin_dataset = drugdata.replace(['CL0','CL1','CL2'],'Non-user','Heroin')\n",
    "heroin_dataset = heroin_dataset.replace(['CL3','CL4','CL5','CL6'],'User','Heroin')\n",
    "\n",
    "heroin_dataset.select('Heroin').show()\n",
    "\n",
    "age_indexer = StringIndexer(inputCol='Age',outputCol='ageIndex')\n",
    "gender_indexer = StringIndexer(inputCol='Gender',outputCol='genderIndex')\n",
    "education_indexer = StringIndexer(inputCol='Education',outputCol='educationIndex')\n",
    "alcohol_indexer = StringIndexer(inputCol='Alcohol',outputCol='alcoholIndex')\n",
    "amphetamine_indexer = StringIndexer(inputCol='Amphetamine',outputCol='amphetamineIndex')\n",
    "benzos_indexer = StringIndexer(inputCol='Benzos',outputCol='benzosIndex')\n",
    "cannabis_indexer = StringIndexer(inputCol='Cannabis',outputCol='cannabisIndex')\n",
    "cocaine_indexer = StringIndexer(inputCol='Cocaine',outputCol='cocaineIndex')\n",
    "crack_indexer = StringIndexer(inputCol='Crack',outputCol='crackIndex')\n",
    "ecstacy_indexer = StringIndexer(inputCol='Ecstacy',outputCol='ecstacyIndex')\n",
    "heroin_indexer = StringIndexer(inputCol='Heroin',outputCol='label')\n",
    "meth_indexer = StringIndexer(inputCol='Meth',outputCol='methIndex')\n",
    "nicotine_indexer = StringIndexer(inputCol='Nicotine',outputCol='nicotineIndex')\n",
    "\n",
    "\n",
    "age_encoder = OneHotEncoder(inputCol='ageIndex',outputCol='ageVec')\n",
    "gender_encoder = OneHotEncoder(inputCol='genderIndex',outputCol='genderVec')\n",
    "education_encoder = OneHotEncoder(inputCol='educationIndex',outputCol='educationVec')\n",
    "alcohol_encoder = OneHotEncoder(inputCol='alcoholIndex',outputCol='alcoholVec')\n",
    "amphetamine_encoder = OneHotEncoder(inputCol='amphetamineIndex',outputCol='amphetamineVec')\n",
    "benzos_encoder = OneHotEncoder(inputCol='benzosIndex',outputCol='benzosVec')\n",
    "cannabis_encoder = OneHotEncoder(inputCol='cannabisIndex',outputCol='cannabisVec')\n",
    "cocaine_encoder = OneHotEncoder(inputCol='cocaineIndex',outputCol='cocaineVec')\n",
    "crack_encoder = OneHotEncoder(inputCol='crackIndex',outputCol='crackVec')\n",
    "ecstacy_encoder = OneHotEncoder(inputCol='ecstacyIndex',outputCol='ecstacyVec')\n",
    "meth_encoder = OneHotEncoder(inputCol='methIndex',outputCol='methVec')\n",
    "nicotine_encoder = OneHotEncoder(inputCol='nicotineIndex',outputCol='nicotineVec')\n",
    "\n",
    "assembler = VectorAssembler(inputCols=['ageVec','genderVec','educationVec','alcoholVec','amphetamineVec','benzosVec',\n",
    "                                       'cannabisVec','cocaineVec','crackVec','ecstacyVec','methVec','nicotineVec',\n",
    "                                       'Neuroticism','Extraversion','Openness to experience','Agreeableness',\n",
    "                                       'Conscientiousness','Impulsiveness','Sensation seeking'], outputCol=\"features\")\n",
    "\n",
    "pipeline = Pipeline(stages=[age_indexer, gender_indexer, education_indexer, alcohol_indexer, amphetamine_indexer,\n",
    "                            benzos_indexer, cannabis_indexer, cocaine_indexer, crack_indexer, ecstacy_indexer,\n",
    "                            heroin_indexer, meth_indexer, nicotine_indexer, age_encoder, gender_encoder, education_encoder,\n",
    "                            alcohol_encoder, amphetamine_encoder, benzos_encoder, cannabis_encoder, cocaine_encoder, crack_encoder,\n",
    "                            ecstacy_encoder, meth_encoder, nicotine_encoder, assembler])\n",
    "\n",
    "pipeline_model = pipeline.fit(heroin_dataset)\n",
    "\n",
    "# Incorporate results into a new DataFrame.\n",
    "pipe_df = pipeline_model.transform(heroin_dataset)\n",
    "\n",
    "# Remove all variables other than features and label. \n",
    "pipe_df = pipe_df.select('label', 'features')"
   ]
  },
  {
   "cell_type": "code",
   "execution_count": 48,
   "metadata": {},
   "outputs": [
    {
     "name": "stdout",
     "output_type": "stream",
     "text": [
      "Training Dataset Count: 1278\n",
      "Test Dataset Count: 595\n"
     ]
    }
   ],
   "source": [
    "# Split the data, train the model and classify the test set.\n",
    "\n",
    "train_data, test_data = pipe_df.randomSplit([0.7,0.3])\n",
    "print(\"Training Dataset Count: \" + str(train_data.count()))\n",
    "print(\"Test Dataset Count: \" + str(test_data.count()))\n",
    "lr_model = LogisticRegression(featuresCol='features',labelCol='label')\n",
    "lr_model = lr_model.fit(train_data)\n",
    "results = lr_model.transform(test_data)"
   ]
  },
  {
   "cell_type": "code",
   "execution_count": 49,
   "metadata": {},
   "outputs": [
    {
     "name": "stdout",
     "output_type": "stream",
     "text": [
      "True Positives: 16\n",
      "True Negatives: 534\n",
      "False Positives: 13\n",
      "False Negatives: 32\n",
      "Total: 595\n"
     ]
    },
    {
     "data": {
      "image/png": "[encoded data removed]",
      "text/plain": [
       "<Figure size 432x288 with 1 Axes>"
      ]
     },
     "metadata": {},
     "output_type": "display_data"
    },
    {
     "name": "stdout",
     "output_type": "stream",
     "text": [
      "Area Under the Curve: 0.9694861006221456\n",
      "Recall: 0.3333333333333333\n",
      "Precision: 0.5517241379310345\n"
     ]
    },
    {
     "data": {
      "image/png": "[encoded data removed]",
      "text/plain": [
       "<Figure size 432x288 with 1 Axes>"
      ]
     },
     "metadata": {},
     "output_type": "display_data"
    }
   ],
   "source": [
    "# Visualize and evaluate the results. \n",
    "# Code adapted from https://gist.github.com/ispmarin/05feacd8be5e2901cf2b35453a148060 and tutorial examples.\n",
    "\n",
    "# Generate a confusion matrix.\n",
    "tp = results[(results.label == 1.0) & (results.prediction == 1.0)].count()\n",
    "tn = results[(results.label == 0.0) & (results.prediction == 0.0)].count()\n",
    "fp = results[(results.label == 0.0) & (results.prediction == 1.0)].count()\n",
    "fn = results[(results.label == 1.0) & (results.prediction == 0.0)].count()\n",
    "print(\"True Positives:\", tp)\n",
    "print(\"True Negatives:\", tn)\n",
    "print(\"False Positives:\", fp)\n",
    "print(\"False Negatives:\", fn)\n",
    "print(\"Total: \" + str(results.count()))\n",
    "\n",
    "# Plot the ROC.\n",
    "training_summary = lr_model.summary\n",
    "\n",
    "# Convert the DataFrame to a Pandas DataFrame.\n",
    "ROC = training_summary.roc.toPandas()\n",
    "\n",
    "# Plot the true positive and false positive rates.\n",
    "plt.plot(ROC['FPR'],ROC['TPR'])\n",
    "\n",
    "# Define the labels.\n",
    "plt.ylabel('True Positive Rate')\n",
    "plt.xlabel('False Positive Rate')\n",
    "plt.title('ROC Curve')\n",
    "plt.show()\n",
    "\n",
    "# Print the AUC statistic. \n",
    "print('Area Under the Curve: ' + str(training_summary.areaUnderROC))\n",
    "\n",
    "# Show precision & recall.\n",
    "r = float(tp)/(tp + fn)\n",
    "print(\"Recall:\", r)\n",
    "\n",
    "p = float(tp) / (tp + fp)\n",
    "print(\"Precision:\", p)\n",
    "\n",
    "pr = training_summary.pr.toPandas()\n",
    "\n",
    "# Plot model recall and precision.\n",
    "plt.plot(pr['recall'],pr['precision'])\n",
    "\n",
    "# Define the labels and show the graph. \n",
    "plt.ylabel('Precision')\n",
    "plt.xlabel('Recall')\n",
    "plt.show()"
   ]
  },
  {
   "cell_type": "code",
   "execution_count": 50,
   "metadata": {},
   "outputs": [
    {
     "data": {
      "text/plain": [
       "<matplotlib.axes._subplots.AxesSubplot at 0x7fe2d87cd6a0>"
      ]
     },
     "execution_count": 50,
     "metadata": {},
     "output_type": "execute_result"
    },
    {
     "data": {
      "image/png": "[encoded data removed]",
      "text/plain": [
       "<Figure size 432x288 with 1 Axes>"
      ]
     },
     "metadata": {},
     "output_type": "display_data"
    }
   ],
   "source": [
    "# Repeat for other target variables, in this case amphetamine.\n",
    "\n",
    "drugdata.toPandas().groupby('Amphetamine').size().plot(kind='bar')"
   ]
  },
  {
   "cell_type": "code",
   "execution_count": 51,
   "metadata": {},
   "outputs": [
    {
     "name": "stdout",
     "output_type": "stream",
     "text": [
      "+-----------+\n",
      "|Amphetamine|\n",
      "+-----------+\n",
      "|   Non-user|\n",
      "|   Non-user|\n",
      "|   Non-user|\n",
      "|   Non-user|\n",
      "|   Non-user|\n",
      "|   Non-user|\n",
      "|   Non-user|\n",
      "|   Non-user|\n",
      "|   Non-user|\n",
      "|   Non-user|\n",
      "|   Non-user|\n",
      "|   Non-user|\n",
      "|   Non-user|\n",
      "|   Non-user|\n",
      "|   Non-user|\n",
      "|   Non-user|\n",
      "|   Non-user|\n",
      "|   Non-user|\n",
      "|   Non-user|\n",
      "|   Non-user|\n",
      "+-----------+\n",
      "only showing top 20 rows\n",
      "\n"
     ]
    }
   ],
   "source": [
    "amphetamine_dataset = drugdata.replace(['CL0','CL1','CL2'],'Non-user','Amphetamine')\n",
    "amphetamine_dataset = amphetamine_dataset.replace(['CL3','CL4','CL5','CL6'],'User','Amphetamine')\n",
    "\n",
    "amphetamine_dataset.select('Amphetamine').show()\n",
    "\n",
    "age_indexer = StringIndexer(inputCol='Age',outputCol='ageIndex')\n",
    "gender_indexer = StringIndexer(inputCol='Gender',outputCol='genderIndex')\n",
    "education_indexer = StringIndexer(inputCol='Education',outputCol='educationIndex')\n",
    "alcohol_indexer = StringIndexer(inputCol='Alcohol',outputCol='alcoholIndex')\n",
    "amphetamine_indexer = StringIndexer(inputCol='Amphetamine',outputCol='label')\n",
    "benzos_indexer = StringIndexer(inputCol='Benzos',outputCol='benzosIndex')\n",
    "cannabis_indexer = StringIndexer(inputCol='Cannabis',outputCol='cannabisIndex')\n",
    "cocaine_indexer = StringIndexer(inputCol='Cocaine',outputCol='cocaineIndex')\n",
    "crack_indexer = StringIndexer(inputCol='Crack',outputCol='crackIndex')\n",
    "ecstacy_indexer = StringIndexer(inputCol='Ecstacy',outputCol='ecstacyIndex')\n",
    "heroin_indexer = StringIndexer(inputCol='Heroin',outputCol='heroinIndex')\n",
    "meth_indexer = StringIndexer(inputCol='Meth',outputCol='methIndex')\n",
    "nicotine_indexer = StringIndexer(inputCol='Nicotine',outputCol='nicotineIndex')\n",
    "\n",
    "\n",
    "age_encoder = OneHotEncoder(inputCol='ageIndex',outputCol='ageVec')\n",
    "gender_encoder = OneHotEncoder(inputCol='genderIndex',outputCol='genderVec')\n",
    "education_encoder = OneHotEncoder(inputCol='educationIndex',outputCol='educationVec')\n",
    "alcohol_encoder = OneHotEncoder(inputCol='alcoholIndex',outputCol='alcoholVec')\n",
    "benzos_encoder = OneHotEncoder(inputCol='benzosIndex',outputCol='benzosVec')\n",
    "cannabis_encoder = OneHotEncoder(inputCol='cannabisIndex',outputCol='cannabisVec')\n",
    "cocaine_encoder = OneHotEncoder(inputCol='cocaineIndex',outputCol='cocaineVec')\n",
    "crack_encoder = OneHotEncoder(inputCol='crackIndex',outputCol='crackVec')\n",
    "ecstacy_encoder = OneHotEncoder(inputCol='ecstacyIndex',outputCol='ecstacyVec')\n",
    "heroin_encoder = OneHotEncoder(inputCol='heroinIndex',outputCol='heroinVec')\n",
    "meth_encoder = OneHotEncoder(inputCol='methIndex',outputCol='methVec')\n",
    "nicotine_encoder = OneHotEncoder(inputCol='nicotineIndex',outputCol='nicotineVec')\n",
    "\n",
    "assembler = VectorAssembler(inputCols=['ageVec','genderVec','educationVec','alcoholVec','benzosVec',\n",
    "                                       'cannabisVec','cocaineVec','crackVec','ecstacyVec','heroinVec','methVec','nicotineVec',\n",
    "                                       'Neuroticism','Extraversion','Openness to experience','Agreeableness',\n",
    "                                       'Conscientiousness','Impulsiveness','Sensation seeking'], outputCol=\"features\")\n",
    "\n",
    "pipeline = Pipeline(stages=[age_indexer, gender_indexer, education_indexer, alcohol_indexer, amphetamine_indexer,\n",
    "                            benzos_indexer, cannabis_indexer, cocaine_indexer, crack_indexer, ecstacy_indexer,\n",
    "                            heroin_indexer, meth_indexer, nicotine_indexer, age_encoder, gender_encoder, education_encoder,\n",
    "                            alcohol_encoder, benzos_encoder, cannabis_encoder, cocaine_encoder, crack_encoder,\n",
    "                            ecstacy_encoder, heroin_encoder, meth_encoder, nicotine_encoder, assembler])\n",
    "\n",
    "pipeline_model = pipeline.fit(amphetamine_dataset)\n",
    "\n",
    "# Incorporate results into a new DataFrame.\n",
    "pipe_df = pipeline_model.transform(amphetamine_dataset)\n",
    "\n",
    "# Remove all variables other than features and label. \n",
    "pipe_df = pipe_df.select('label', 'features')"
   ]
  },
  {
   "cell_type": "code",
   "execution_count": 52,
   "metadata": {},
   "outputs": [
    {
     "name": "stdout",
     "output_type": "stream",
     "text": [
      "Training Dataset Count: 1343\n",
      "Test Dataset Count: 530\n"
     ]
    }
   ],
   "source": [
    "# Split the data, train the model and classify the test set.\n",
    "\n",
    "train_data, test_data = pipe_df.randomSplit([0.7,0.3])\n",
    "print(\"Training Dataset Count: \" + str(train_data.count()))\n",
    "print(\"Test Dataset Count: \" + str(test_data.count()))\n",
    "lr_model = LogisticRegression(featuresCol='features',labelCol='label')\n",
    "lr_model = lr_model.fit(train_data)\n",
    "results = lr_model.transform(test_data)"
   ]
  },
  {
   "cell_type": "code",
   "execution_count": 53,
   "metadata": {},
   "outputs": [
    {
     "name": "stdout",
     "output_type": "stream",
     "text": [
      "True Positives: 65\n",
      "True Negatives: 379\n",
      "False Positives: 38\n",
      "False Negatives: 48\n",
      "Total: 530\n"
     ]
    },
    {
     "data": {
      "image/png": "[encoded data removed]",
      "text/plain": [
       "<Figure size 432x288 with 1 Axes>"
      ]
     },
     "metadata": {},
     "output_type": "display_data"
    },
    {
     "name": "stdout",
     "output_type": "stream",
     "text": [
      "Area Under the Curve: 0.9200092038656232\n",
      "Recall: 0.5752212389380531\n",
      "Precision: 0.6310679611650486\n"
     ]
    },
    {
     "data": {
      "image/png": "[encoded data removed]",
      "text/plain": [
       "<Figure size 432x288 with 1 Axes>"
      ]
     },
     "metadata": {},
     "output_type": "display_data"
    }
   ],
   "source": [
    "# Visualize and evaluate the results. \n",
    "# Code adapted from https://gist.github.com/ispmarin/05feacd8be5e2901cf2b35453a148060 and tutorial examples.\n",
    "\n",
    "# Generate a confusion matrix.\n",
    "tp = results[(results.label == 1.0) & (results.prediction == 1.0)].count()\n",
    "tn = results[(results.label == 0.0) & (results.prediction == 0.0)].count()\n",
    "fp = results[(results.label == 0.0) & (results.prediction == 1.0)].count()\n",
    "fn = results[(results.label == 1.0) & (results.prediction == 0.0)].count()\n",
    "print(\"True Positives:\", tp)\n",
    "print(\"True Negatives:\", tn)\n",
    "print(\"False Positives:\", fp)\n",
    "print(\"False Negatives:\", fn)\n",
    "print(\"Total: \" + str(results.count()))\n",
    "\n",
    "# Plot the ROC.\n",
    "training_summary = lr_model.summary\n",
    "\n",
    "# Convert the DataFrame to a Pandas DataFrame.\n",
    "ROC = training_summary.roc.toPandas()\n",
    "\n",
    "# Plot the true positive and false positive rates.\n",
    "plt.plot(ROC['FPR'],ROC['TPR'])\n",
    "\n",
    "# Define the labels.\n",
    "plt.ylabel('True Positive Rate')\n",
    "plt.xlabel('False Positive Rate')\n",
    "plt.title('ROC Curve')\n",
    "plt.show()\n",
    "\n",
    "# Print the AUC statistic. \n",
    "print('Area Under the Curve: ' + str(training_summary.areaUnderROC))\n",
    "\n",
    "# Show precision & recall.\n",
    "r = float(tp)/(tp + fn)\n",
    "print(\"Recall:\", r)\n",
    "\n",
    "p = float(tp) / (tp + fp)\n",
    "print(\"Precision:\", p)\n",
    "\n",
    "pr = training_summary.pr.toPandas()\n",
    "\n",
    "# Plot model recall and precision.\n",
    "plt.plot(pr['recall'],pr['precision'])\n",
    "\n",
    "# Define the labels and show the graph. \n",
    "plt.ylabel('Precision')\n",
    "plt.xlabel('Recall')\n",
    "plt.show()"
   ]
  },
  {
   "cell_type": "code",
   "execution_count": 54,
   "metadata": {},
   "outputs": [
    {
     "data": {
      "text/plain": [
       "<matplotlib.axes._subplots.AxesSubplot at 0x7fe2db0df240>"
      ]
     },
     "execution_count": 54,
     "metadata": {},
     "output_type": "execute_result"
    },
    {
     "data": {
      "image/png": "[encoded data removed]",
      "text/plain": [
       "<Figure size 432x288 with 1 Axes>"
      ]
     },
     "metadata": {},
     "output_type": "display_data"
    }
   ],
   "source": [
    "# Repeat for other target variables, in this case benzodiazepines.\n",
    "\n",
    "drugdata.toPandas().groupby('Benzos').size().plot(kind='bar')"
   ]
  },
  {
   "cell_type": "code",
   "execution_count": 55,
   "metadata": {},
   "outputs": [
    {
     "name": "stdout",
     "output_type": "stream",
     "text": [
      "+--------+\n",
      "|  Benzos|\n",
      "+--------+\n",
      "|Non-user|\n",
      "|Non-user|\n",
      "|Non-user|\n",
      "|    User|\n",
      "|Non-user|\n",
      "|Non-user|\n",
      "|Non-user|\n",
      "|Non-user|\n",
      "|Non-user|\n",
      "|Non-user|\n",
      "|Non-user|\n",
      "|Non-user|\n",
      "|    User|\n",
      "|Non-user|\n",
      "|Non-user|\n",
      "|Non-user|\n",
      "|Non-user|\n",
      "|Non-user|\n",
      "|Non-user|\n",
      "|Non-user|\n",
      "+--------+\n",
      "only showing top 20 rows\n",
      "\n"
     ]
    }
   ],
   "source": [
    "benzos_dataset = drugdata.replace(['CL0','CL1','CL2'],'Non-user','Benzos')\n",
    "benzos_dataset = benzos_dataset.replace(['CL3','CL4','CL5','CL6'],'User','Benzos')\n",
    "\n",
    "benzos_dataset.select('Benzos').show()\n",
    "\n",
    "age_indexer = StringIndexer(inputCol='Age',outputCol='ageIndex')\n",
    "gender_indexer = StringIndexer(inputCol='Gender',outputCol='genderIndex')\n",
    "education_indexer = StringIndexer(inputCol='Education',outputCol='educationIndex')\n",
    "alcohol_indexer = StringIndexer(inputCol='Alcohol',outputCol='alcoholIndex')\n",
    "amphetamine_indexer = StringIndexer(inputCol='Amphetamine',outputCol='amphetamineIndex')\n",
    "benzos_indexer = StringIndexer(inputCol='Benzos',outputCol='label')\n",
    "cannabis_indexer = StringIndexer(inputCol='Cannabis',outputCol='cannabisIndex')\n",
    "cocaine_indexer = StringIndexer(inputCol='Cocaine',outputCol='cocaineIndex')\n",
    "crack_indexer = StringIndexer(inputCol='Crack',outputCol='crackIndex')\n",
    "ecstacy_indexer = StringIndexer(inputCol='Ecstacy',outputCol='ecstacyIndex')\n",
    "heroin_indexer = StringIndexer(inputCol='Heroin',outputCol='heroinIndex')\n",
    "meth_indexer = StringIndexer(inputCol='Meth',outputCol='methIndex')\n",
    "nicotine_indexer = StringIndexer(inputCol='Nicotine',outputCol='nicotineIndex')\n",
    "\n",
    "\n",
    "age_encoder = OneHotEncoder(inputCol='ageIndex',outputCol='ageVec')\n",
    "gender_encoder = OneHotEncoder(inputCol='genderIndex',outputCol='genderVec')\n",
    "education_encoder = OneHotEncoder(inputCol='educationIndex',outputCol='educationVec')\n",
    "alcohol_encoder = OneHotEncoder(inputCol='alcoholIndex',outputCol='alcoholVec')\n",
    "amphetamine_encoder = OneHotEncoder(inputCol='amphetamineIndex',outputCol='amphetamineVec')\n",
    "cannabis_encoder = OneHotEncoder(inputCol='cannabisIndex',outputCol='cannabisVec')\n",
    "cocaine_encoder = OneHotEncoder(inputCol='cocaineIndex',outputCol='cocaineVec')\n",
    "crack_encoder = OneHotEncoder(inputCol='crackIndex',outputCol='crackVec')\n",
    "ecstacy_encoder = OneHotEncoder(inputCol='ecstacyIndex',outputCol='ecstacyVec')\n",
    "heroin_encoder = OneHotEncoder(inputCol='heroinIndex',outputCol='heroinVec')\n",
    "meth_encoder = OneHotEncoder(inputCol='methIndex',outputCol='methVec')\n",
    "nicotine_encoder = OneHotEncoder(inputCol='nicotineIndex',outputCol='nicotineVec')\n",
    "\n",
    "assembler = VectorAssembler(inputCols=['ageVec','genderVec','educationVec','alcoholVec','amphetamineVec',\n",
    "                                       'cannabisVec','cocaineVec','crackVec','ecstacyVec','heroinVec','methVec','nicotineVec',\n",
    "                                       'Neuroticism','Extraversion','Openness to experience','Agreeableness',\n",
    "                                       'Conscientiousness','Impulsiveness','Sensation seeking'], outputCol=\"features\")\n",
    "\n",
    "pipeline = Pipeline(stages=[age_indexer, gender_indexer, education_indexer, alcohol_indexer, amphetamine_indexer,\n",
    "                            benzos_indexer, cannabis_indexer, cocaine_indexer, crack_indexer, ecstacy_indexer,\n",
    "                            heroin_indexer, meth_indexer, nicotine_indexer, age_encoder, gender_encoder, education_encoder,\n",
    "                            alcohol_encoder, amphetamine_encoder, cannabis_encoder, cocaine_encoder, crack_encoder,\n",
    "                            ecstacy_encoder, heroin_encoder, meth_encoder, nicotine_encoder, assembler])\n",
    "\n",
    "pipeline_model = pipeline.fit(benzos_dataset)\n",
    "\n",
    "# Incorporate results into a new DataFrame.\n",
    "pipe_df = pipeline_model.transform(benzos_dataset)\n",
    "\n",
    "# Remove all variables other than features and label. \n",
    "pipe_df = pipe_df.select('label', 'features')"
   ]
  },
  {
   "cell_type": "code",
   "execution_count": 56,
   "metadata": {},
   "outputs": [
    {
     "name": "stdout",
     "output_type": "stream",
     "text": [
      "Training Dataset Count: 1312\n",
      "Test Dataset Count: 561\n"
     ]
    }
   ],
   "source": [
    "# Split the data, train the model and classify the test set.\n",
    "\n",
    "train_data, test_data = pipe_df.randomSplit([0.7,0.3])\n",
    "print(\"Training Dataset Count: \" + str(train_data.count()))\n",
    "print(\"Test Dataset Count: \" + str(test_data.count()))\n",
    "lr_model = LogisticRegression(featuresCol='features',labelCol='label')\n",
    "lr_model = lr_model.fit(train_data)\n",
    "results = lr_model.transform(test_data)"
   ]
  },
  {
   "cell_type": "code",
   "execution_count": 57,
   "metadata": {},
   "outputs": [
    {
     "name": "stdout",
     "output_type": "stream",
     "text": [
      "True Positives: 87\n",
      "True Negatives: 373\n",
      "False Positives: 40\n",
      "False Negatives: 61\n",
      "Total: 561\n"
     ]
    },
    {
     "data": {
      "image/png": "[encoded data removed]",
      "text/plain": [
       "<Figure size 432x288 with 1 Axes>"
      ]
     },
     "metadata": {},
     "output_type": "display_data"
    },
    {
     "name": "stdout",
     "output_type": "stream",
     "text": [
      "Area Under the Curve: 0.8649524292067781\n",
      "Recall: 0.5878378378378378\n",
      "Precision: 0.6850393700787402\n"
     ]
    },
    {
     "data": {
      "image/png": "[encoded data removed]",
      "text/plain": [
       "<Figure size 432x288 with 1 Axes>"
      ]
     },
     "metadata": {},
     "output_type": "display_data"
    }
   ],
   "source": [
    "# Visualize and evaluate the results. \n",
    "# Code adapted from https://gist.github.com/ispmarin/05feacd8be5e2901cf2b35453a148060 and tutorial examples.\n",
    "\n",
    "# Generate a confusion matrix.\n",
    "tp = results[(results.label == 1.0) & (results.prediction == 1.0)].count()\n",
    "tn = results[(results.label == 0.0) & (results.prediction == 0.0)].count()\n",
    "fp = results[(results.label == 0.0) & (results.prediction == 1.0)].count()\n",
    "fn = results[(results.label == 1.0) & (results.prediction == 0.0)].count()\n",
    "print(\"True Positives:\", tp)\n",
    "print(\"True Negatives:\", tn)\n",
    "print(\"False Positives:\", fp)\n",
    "print(\"False Negatives:\", fn)\n",
    "print(\"Total: \" + str(results.count()))\n",
    "\n",
    "# Plot the ROC.\n",
    "training_summary = lr_model.summary\n",
    "\n",
    "# Convert the DataFrame to a Pandas DataFrame.\n",
    "ROC = training_summary.roc.toPandas()\n",
    "\n",
    "# Plot the true positive and false positive rates.\n",
    "plt.plot(ROC['FPR'],ROC['TPR'])\n",
    "\n",
    "# Define the labels.\n",
    "plt.ylabel('True Positive Rate')\n",
    "plt.xlabel('False Positive Rate')\n",
    "plt.title('ROC Curve')\n",
    "plt.show()\n",
    "\n",
    "# Print the AUC statistic. \n",
    "print('Area Under the Curve: ' + str(training_summary.areaUnderROC))\n",
    "\n",
    "# Show precision & recall.\n",
    "r = float(tp)/(tp + fn)\n",
    "print(\"Recall:\", r)\n",
    "\n",
    "p = float(tp) / (tp + fp)\n",
    "print(\"Precision:\", p)\n",
    "\n",
    "pr = training_summary.pr.toPandas()\n",
    "\n",
    "# Plot model recall and precision.\n",
    "plt.plot(pr['recall'],pr['precision'])\n",
    "\n",
    "# Define the labels and show the graph. \n",
    "plt.ylabel('Precision')\n",
    "plt.xlabel('Recall')\n",
    "plt.show()"
   ]
  },
  {
   "cell_type": "code",
   "execution_count": 58,
   "metadata": {},
   "outputs": [
    {
     "data": {
      "text/plain": [
       "<matplotlib.axes._subplots.AxesSubplot at 0x7fe2d8196cc0>"
      ]
     },
     "execution_count": 58,
     "metadata": {},
     "output_type": "execute_result"
    },
    {
     "data": {
      "image/png": "[encoded data removed]",
      "text/plain": [
       "<Figure size 432x288 with 1 Axes>"
      ]
     },
     "metadata": {},
     "output_type": "display_data"
    }
   ],
   "source": [
    "# Repeat for other target variables, in this case methamphetamine.\n",
    "\n",
    "drugdata.toPandas().groupby('Meth').size().plot(kind='bar')"
   ]
  },
  {
   "cell_type": "code",
   "execution_count": 59,
   "metadata": {},
   "outputs": [
    {
     "name": "stdout",
     "output_type": "stream",
     "text": [
      "+--------+\n",
      "|    Meth|\n",
      "+--------+\n",
      "|Non-user|\n",
      "|    User|\n",
      "|Non-user|\n",
      "|Non-user|\n",
      "|Non-user|\n",
      "|Non-user|\n",
      "|Non-user|\n",
      "|Non-user|\n",
      "|Non-user|\n",
      "|Non-user|\n",
      "|Non-user|\n",
      "|Non-user|\n",
      "|Non-user|\n",
      "|Non-user|\n",
      "|Non-user|\n",
      "|Non-user|\n",
      "|Non-user|\n",
      "|Non-user|\n",
      "|Non-user|\n",
      "|    User|\n",
      "+--------+\n",
      "only showing top 20 rows\n",
      "\n"
     ]
    }
   ],
   "source": [
    "meth_dataset = drugdata.replace(['CL0','CL1','CL2'],'Non-user','Meth')\n",
    "meth_dataset = meth_dataset.replace(['CL3','CL4','CL5','CL6'],'User','Meth')\n",
    "\n",
    "meth_dataset.select('Meth').show()\n",
    "\n",
    "age_indexer = StringIndexer(inputCol='Age',outputCol='ageIndex')\n",
    "gender_indexer = StringIndexer(inputCol='Gender',outputCol='genderIndex')\n",
    "education_indexer = StringIndexer(inputCol='Education',outputCol='educationIndex')\n",
    "alcohol_indexer = StringIndexer(inputCol='Alcohol',outputCol='alcoholIndex')\n",
    "amphetamine_indexer = StringIndexer(inputCol='Amphetamine',outputCol='amphetamineIndex')\n",
    "benzos_indexer = StringIndexer(inputCol='Benzos',outputCol='benzosIndex')\n",
    "cannabis_indexer = StringIndexer(inputCol='Cannabis',outputCol='cannabisIndex')\n",
    "cocaine_indexer = StringIndexer(inputCol='Cocaine',outputCol='cocaineIndex')\n",
    "crack_indexer = StringIndexer(inputCol='Crack',outputCol='crackIndex')\n",
    "ecstacy_indexer = StringIndexer(inputCol='Ecstacy',outputCol='ecstacyIndex')\n",
    "heroin_indexer = StringIndexer(inputCol='Heroin',outputCol='heroinIndex')\n",
    "meth_indexer = StringIndexer(inputCol='Meth',outputCol='label')\n",
    "nicotine_indexer = StringIndexer(inputCol='Nicotine',outputCol='nicotineIndex')\n",
    "\n",
    "\n",
    "age_encoder = OneHotEncoder(inputCol='ageIndex',outputCol='ageVec')\n",
    "gender_encoder = OneHotEncoder(inputCol='genderIndex',outputCol='genderVec')\n",
    "education_encoder = OneHotEncoder(inputCol='educationIndex',outputCol='educationVec')\n",
    "alcohol_encoder = OneHotEncoder(inputCol='alcoholIndex',outputCol='alcoholVec')\n",
    "amphetamine_encoder = OneHotEncoder(inputCol='amphetamineIndex',outputCol='amphetamineVec')\n",
    "benzos_encoder = OneHotEncoder(inputCol='benzosIndex',outputCol='benzosVec')\n",
    "cannabis_encoder = OneHotEncoder(inputCol='cannabisIndex',outputCol='cannabisVec')\n",
    "cocaine_encoder = OneHotEncoder(inputCol='cocaineIndex',outputCol='cocaineVec')\n",
    "crack_encoder = OneHotEncoder(inputCol='crackIndex',outputCol='crackVec')\n",
    "ecstacy_encoder = OneHotEncoder(inputCol='ecstacyIndex',outputCol='ecstacyVec')\n",
    "heroin_encoder = OneHotEncoder(inputCol='heroinIndex',outputCol='heroinVec')\n",
    "nicotine_encoder = OneHotEncoder(inputCol='nicotineIndex',outputCol='nicotineVec')\n",
    "\n",
    "assembler = VectorAssembler(inputCols=['ageVec','genderVec','educationVec','alcoholVec','amphetamineVec','benzosVec',\n",
    "                                       'cannabisVec','cocaineVec','crackVec','ecstacyVec','heroinVec','nicotineVec',\n",
    "                                       'Neuroticism','Extraversion','Openness to experience','Agreeableness',\n",
    "                                       'Conscientiousness','Impulsiveness','Sensation seeking'], outputCol=\"features\")\n",
    "\n",
    "pipeline = Pipeline(stages=[age_indexer, gender_indexer, education_indexer, alcohol_indexer, amphetamine_indexer,\n",
    "                            benzos_indexer, cannabis_indexer, cocaine_indexer, crack_indexer, ecstacy_indexer,\n",
    "                            heroin_indexer, meth_indexer, nicotine_indexer, age_encoder, gender_encoder, education_encoder,\n",
    "                            alcohol_encoder, amphetamine_encoder, benzos_encoder, cannabis_encoder, cocaine_encoder, crack_encoder,\n",
    "                            ecstacy_encoder, heroin_encoder, nicotine_encoder, assembler])\n",
    "\n",
    "pipeline_model = pipeline.fit(meth_dataset)\n",
    "\n",
    "# Incorporate results into a new DataFrame.\n",
    "pipe_df = pipeline_model.transform(meth_dataset)\n",
    "\n",
    "# Remove all variables other than features and label. \n",
    "pipe_df = pipe_df.select('label', 'features')"
   ]
  },
  {
   "cell_type": "code",
   "execution_count": 60,
   "metadata": {},
   "outputs": [
    {
     "name": "stdout",
     "output_type": "stream",
     "text": [
      "Training Dataset Count: 1330\n",
      "Test Dataset Count: 543\n"
     ]
    }
   ],
   "source": [
    "# Split the data, train the model and classify the test set.\n",
    "\n",
    "train_data, test_data = pipe_df.randomSplit([0.7,0.3])\n",
    "print(\"Training Dataset Count: \" + str(train_data.count()))\n",
    "print(\"Test Dataset Count: \" + str(test_data.count()))\n",
    "lr_model = LogisticRegression(featuresCol='features',labelCol='label')\n",
    "lr_model = lr_model.fit(train_data)\n",
    "results = lr_model.transform(test_data)"
   ]
  },
  {
   "cell_type": "code",
   "execution_count": 61,
   "metadata": {},
   "outputs": [
    {
     "name": "stdout",
     "output_type": "stream",
     "text": [
      "True Positives: 34\n",
      "True Negatives: 429\n",
      "False Positives: 20\n",
      "False Negatives: 60\n",
      "Total: 543\n"
     ]
    },
    {
     "data": {
      "image/png": "[encoded data removed]",
      "text/plain": [
       "<Figure size 432x288 with 1 Axes>"
      ]
     },
     "metadata": {},
     "output_type": "display_data"
    },
    {
     "name": "stdout",
     "output_type": "stream",
     "text": [
      "Area Under the Curve: 0.9037030160165331\n",
      "Recall: 0.3617021276595745\n",
      "Precision: 0.6296296296296297\n"
     ]
    },
    {
     "data": {
      "image/png": "[encoded data removed]",
      "text/plain": [
       "<Figure size 432x288 with 1 Axes>"
      ]
     },
     "metadata": {},
     "output_type": "display_data"
    }
   ],
   "source": [
    "# Visualize and evaluate the results. \n",
    "# Code adapted from https://gist.github.com/ispmarin/05feacd8be5e2901cf2b35453a148060 and tutorial examples.\n",
    "\n",
    "# Generate a confusion matrix.\n",
    "tp = results[(results.label == 1.0) & (results.prediction == 1.0)].count()\n",
    "tn = results[(results.label == 0.0) & (results.prediction == 0.0)].count()\n",
    "fp = results[(results.label == 0.0) & (results.prediction == 1.0)].count()\n",
    "fn = results[(results.label == 1.0) & (results.prediction == 0.0)].count()\n",
    "print(\"True Positives:\", tp)\n",
    "print(\"True Negatives:\", tn)\n",
    "print(\"False Positives:\", fp)\n",
    "print(\"False Negatives:\", fn)\n",
    "print(\"Total: \" + str(results.count()))\n",
    "\n",
    "# Plot the ROC.\n",
    "training_summary = lr_model.summary\n",
    "\n",
    "# Convert the DataFrame to a Pandas DataFrame.\n",
    "ROC = training_summary.roc.toPandas()\n",
    "\n",
    "# Plot the true positive and false positive rates.\n",
    "plt.plot(ROC['FPR'],ROC['TPR'])\n",
    "\n",
    "# Define the labels.\n",
    "plt.ylabel('True Positive Rate')\n",
    "plt.xlabel('False Positive Rate')\n",
    "plt.title('ROC Curve')\n",
    "plt.show()\n",
    "\n",
    "# Print the AUC statistic. \n",
    "print('Area Under the Curve: ' + str(training_summary.areaUnderROC))\n",
    "\n",
    "# Show precision & recall.\n",
    "r = float(tp)/(tp + fn)\n",
    "print(\"Recall:\", r)\n",
    "\n",
    "p = float(tp) / (tp + fp)\n",
    "print(\"Precision:\", p)\n",
    "\n",
    "pr = training_summary.pr.toPandas()\n",
    "\n",
    "# Plot model recall and precision.\n",
    "plt.plot(pr['recall'],pr['precision'])\n",
    "\n",
    "# Define the labels and show the graph. \n",
    "plt.ylabel('Precision')\n",
    "plt.xlabel('Recall')\n",
    "plt.show()"
   ]
  },
  {
   "cell_type": "code",
   "execution_count": 62,
   "metadata": {},
   "outputs": [],
   "source": [
    "# On this iteration I will use the Decision Tree algorithm.\n",
    "\n",
    "# I'll use cocaine as my target feature for this iteration, so its output is given the label 'label'.\n",
    "age_indexer = StringIndexer(inputCol='Age',outputCol='ageIndex')\n",
    "gender_indexer = StringIndexer(inputCol='Gender',outputCol='genderIndex')\n",
    "education_indexer = StringIndexer(inputCol='Education',outputCol='educationIndex')\n",
    "alcohol_indexer = StringIndexer(inputCol='Alcohol',outputCol='alcoholIndex')\n",
    "amphetamine_indexer = StringIndexer(inputCol='Amphetamine',outputCol='amphetamineIndex')\n",
    "benzos_indexer = StringIndexer(inputCol='Benzos',outputCol='benzosIndex')\n",
    "cannabis_indexer = StringIndexer(inputCol='Cannabis',outputCol='cannabisIndex')\n",
    "cocaine_indexer = StringIndexer(inputCol='Cocaine',outputCol='label')\n",
    "crack_indexer = StringIndexer(inputCol='Crack',outputCol='crackIndex')\n",
    "ecstacy_indexer = StringIndexer(inputCol='Ecstacy',outputCol='ecstacyIndex')\n",
    "heroin_indexer = StringIndexer(inputCol='Heroin',outputCol='heroinIndex')\n",
    "meth_indexer = StringIndexer(inputCol='Meth',outputCol='methIndex')\n",
    "nicotine_indexer = StringIndexer(inputCol='Nicotine',outputCol='nicotineIndex')\n",
    "\n",
    "\n",
    "age_encoder = OneHotEncoder(inputCol='ageIndex',outputCol='ageVec')\n",
    "gender_encoder = OneHotEncoder(inputCol='genderIndex',outputCol='genderVec')\n",
    "education_encoder = OneHotEncoder(inputCol='educationIndex',outputCol='educationVec')\n",
    "alcohol_encoder = OneHotEncoder(inputCol='alcoholIndex',outputCol='alcoholVec')\n",
    "amphetamine_encoder = OneHotEncoder(inputCol='amphetamineIndex',outputCol='amphetamineVec')\n",
    "benzos_encoder = OneHotEncoder(inputCol='benzosIndex',outputCol='benzosVec')\n",
    "cannabis_encoder = OneHotEncoder(inputCol='cannabisIndex',outputCol='cannabisVec')\n",
    "crack_encoder = OneHotEncoder(inputCol='crackIndex',outputCol='crackVec')\n",
    "ecstacy_encoder = OneHotEncoder(inputCol='ecstacyIndex',outputCol='ecstacyVec')\n",
    "heroin_encoder = OneHotEncoder(inputCol='heroinIndex',outputCol='heroinVec')\n",
    "meth_encoder = OneHotEncoder(inputCol='methIndex',outputCol='methVec')\n",
    "nicotine_encoder = OneHotEncoder(inputCol='nicotineIndex',outputCol='nicotineVec')\n",
    "\n",
    "assembler = VectorAssembler(inputCols=['ageVec','genderVec','educationVec','alcoholVec','amphetamineVec','benzosVec',\n",
    "                                      'cannabisVec','crackVec','ecstacyVec','heroinVec','methVec','nicotineVec','Neuroticism',\n",
    "                                      'Extraversion','Openness to experience','Agreeableness','Conscientiousness',\n",
    "                                      'Impulsiveness','Sensation seeking'], outputCol=\"features\")\n",
    "pipeline = Pipeline(stages=[age_indexer, gender_indexer, education_indexer, alcohol_indexer, amphetamine_indexer,\n",
    "                            benzos_indexer, cannabis_indexer, cocaine_indexer, crack_indexer, ecstacy_indexer,\n",
    "                            heroin_indexer, meth_indexer, nicotine_indexer, age_encoder, gender_encoder, education_encoder,\n",
    "                            alcohol_encoder, amphetamine_encoder, benzos_encoder, cannabis_encoder, crack_encoder,\n",
    "                            ecstacy_encoder, heroin_encoder, meth_encoder, nicotine_encoder, assembler])\n",
    "\n",
    "pipeline_model = pipeline.fit(cocaine_dataset)\n",
    "\n",
    "# Incorporate results into a new DataFrame.\n",
    "pipe_df = pipeline_model.transform(cocaine_dataset)\n",
    "\n",
    "# Remove all variables other than features and label. \n",
    "pipe_df = pipe_df.select('label', 'features')"
   ]
  },
  {
   "cell_type": "code",
   "execution_count": 63,
   "metadata": {},
   "outputs": [
    {
     "name": "stdout",
     "output_type": "stream",
     "text": [
      "+----------+-----+--------------------+\n",
      "|prediction|label|            features|\n",
      "+----------+-----+--------------------+\n",
      "|       0.0|  0.0|(77,[0,6,8,16,22,...|\n",
      "|       0.0|  0.0|(77,[0,6,8,16,22,...|\n",
      "|       0.0|  0.0|(77,[0,6,8,16,22,...|\n",
      "|       0.0|  0.0|(77,[0,6,8,16,22,...|\n",
      "|       0.0|  0.0|(77,[0,6,8,16,22,...|\n",
      "+----------+-----+--------------------+\n",
      "only showing top 5 rows\n",
      "\n",
      "Test Error = 0.162791 \n",
      "DecisionTreeClassificationModel (uid=DecisionTreeClassifier_494786b9a7089da9523f) of depth 5 with 53 nodes\n"
     ]
    }
   ],
   "source": [
    "# Run decision tree and evaluate the model.\n",
    "# Code adapted from examples in the Spark documentation.\n",
    "\n",
    "from pyspark.ml.classification import DecisionTreeClassifier\n",
    "from pyspark.ml.feature import StringIndexer, VectorIndexer\n",
    "from pyspark.ml.evaluation import MulticlassClassificationEvaluator\n",
    "\n",
    "\n",
    "(trainingData, testData) = pipe_df.randomSplit([0.7, 0.3])\n",
    "\n",
    "dt = DecisionTreeClassifier(labelCol=\"label\", featuresCol=\"features\")\n",
    "\n",
    "pipeline = Pipeline(stages=[dt])\n",
    "\n",
    "model = pipeline.fit(trainingData)\n",
    "\n",
    "results = model.transform(testData)\n",
    "\n",
    "results.select(\"prediction\", \"label\", \"features\").show(5)\n",
    "\n",
    "evaluator = MulticlassClassificationEvaluator(\n",
    "    labelCol=\"label\", predictionCol=\"prediction\", metricName=\"accuracy\")\n",
    "accuracy = evaluator.evaluate(results)\n",
    "print(\"Test Error = %g \" % (1.0 - accuracy))\n",
    "\n",
    "treeModel = model.stages[0]\n",
    "# summary only\n",
    "print(treeModel)"
   ]
  },
  {
   "cell_type": "code",
   "execution_count": 64,
   "metadata": {},
   "outputs": [
    {
     "name": "stdout",
     "output_type": "stream",
     "text": [
      "True Positives: 81\n",
      "True Negatives: 387\n",
      "False Positives: 50\n",
      "False Negatives: 41\n",
      "Total: 559\n",
      "Recall: 0.6639344262295082\n",
      "Precision: 0.6183206106870229\n"
     ]
    }
   ],
   "source": [
    "tp = results[(results.label == 1.0) & (results.prediction == 1.0)].count()\n",
    "tn = results[(results.label == 0.0) & (results.prediction == 0.0)].count()\n",
    "fp = results[(results.label == 0.0) & (results.prediction == 1.0)].count()\n",
    "fn = results[(results.label == 1.0) & (results.prediction == 0.0)].count()\n",
    "print(\"True Positives:\", tp)\n",
    "print(\"True Negatives:\", tn)\n",
    "print(\"False Positives:\", fp)\n",
    "print(\"False Negatives:\", fn)\n",
    "print(\"Total: \" + str(results.count()))\n",
    "\n",
    "# Show precision & recall.\n",
    "r = float(tp)/(tp + fn)\n",
    "print(\"Recall:\", r)\n",
    "\n",
    "p = float(tp) / (tp + fp)\n",
    "print(\"Precision:\", p)"
   ]
  },
  {
   "cell_type": "code",
   "execution_count": 65,
   "metadata": {},
   "outputs": [],
   "source": [
    "# I go through the process of preparing the dataset again, this time using cannabis as my target variable.\n",
    "age_indexer = StringIndexer(inputCol='Age',outputCol='ageIndex')\n",
    "gender_indexer = StringIndexer(inputCol='Gender',outputCol='genderIndex')\n",
    "education_indexer = StringIndexer(inputCol='Education',outputCol='educationIndex')\n",
    "alcohol_indexer = StringIndexer(inputCol='Alcohol',outputCol='alcoholIndex')\n",
    "amphetamine_indexer = StringIndexer(inputCol='Amphetamine',outputCol='amphetamineIndex')\n",
    "benzos_indexer = StringIndexer(inputCol='Benzos',outputCol='benzosIndex')\n",
    "cannabis_indexer = StringIndexer(inputCol='Cannabis',outputCol='label')\n",
    "cocaine_indexer = StringIndexer(inputCol='Cocaine',outputCol='cocaineIndex')\n",
    "crack_indexer = StringIndexer(inputCol='Crack',outputCol='crackIndex')\n",
    "ecstacy_indexer = StringIndexer(inputCol='Ecstacy',outputCol='ecstacyIndex')\n",
    "heroin_indexer = StringIndexer(inputCol='Heroin',outputCol='heroinIndex')\n",
    "meth_indexer = StringIndexer(inputCol='Meth',outputCol='methIndex')\n",
    "nicotine_indexer = StringIndexer(inputCol='Nicotine',outputCol='nicotineIndex')\n",
    "\n",
    "\n",
    "age_encoder = OneHotEncoder(inputCol='ageIndex',outputCol='ageVec')\n",
    "gender_encoder = OneHotEncoder(inputCol='genderIndex',outputCol='genderVec')\n",
    "education_encoder = OneHotEncoder(inputCol='educationIndex',outputCol='educationVec')\n",
    "alcohol_encoder = OneHotEncoder(inputCol='alcoholIndex',outputCol='alcoholVec')\n",
    "amphetamine_encoder = OneHotEncoder(inputCol='amphetamineIndex',outputCol='amphetamineVec')\n",
    "benzos_encoder = OneHotEncoder(inputCol='benzosIndex',outputCol='benzosVec')\n",
    "cocaine_encoder = OneHotEncoder(inputCol='cocaineIndex',outputCol='cocaineVec')\n",
    "crack_encoder = OneHotEncoder(inputCol='crackIndex',outputCol='crackVec')\n",
    "ecstacy_encoder = OneHotEncoder(inputCol='ecstacyIndex',outputCol='ecstacyVec')\n",
    "heroin_encoder = OneHotEncoder(inputCol='heroinIndex',outputCol='heroinVec')\n",
    "meth_encoder = OneHotEncoder(inputCol='methIndex',outputCol='methVec')\n",
    "nicotine_encoder = OneHotEncoder(inputCol='nicotineIndex',outputCol='nicotineVec')\n",
    "\n",
    "assembler = VectorAssembler(inputCols=['ageVec','genderVec','educationVec','alcoholVec','amphetamineVec','benzosVec',\n",
    "                                      'cocaineVec','crackVec','ecstacyVec','heroinVec','methVec','nicotineVec','Neuroticism',\n",
    "                                      'Extraversion','Openness to experience','Agreeableness','Conscientiousness',\n",
    "                                      'Impulsiveness','Sensation seeking'], outputCol=\"features\")\n",
    "\n",
    "pipeline = Pipeline(stages=[age_indexer, gender_indexer, education_indexer, alcohol_indexer, amphetamine_indexer,\n",
    "                            benzos_indexer, cannabis_indexer, cocaine_indexer, crack_indexer, ecstacy_indexer,\n",
    "                            heroin_indexer, meth_indexer, nicotine_indexer, age_encoder, gender_encoder, education_encoder,\n",
    "                            alcohol_encoder, amphetamine_encoder, benzos_encoder, cocaine_encoder, crack_encoder,\n",
    "                            ecstacy_encoder, heroin_encoder, meth_encoder, nicotine_encoder, assembler])\n",
    "\n",
    "pipeline_model = pipeline.fit(cannabis_dataset)\n",
    "\n",
    "# Incorporate results into a new DataFrame.\n",
    "pipe_df = pipeline_model.transform(cannabis_dataset)\n",
    "\n",
    "# Remove all variables other than features and label. \n",
    "pipe_df = pipe_df.select('label', 'features')"
   ]
  },
  {
   "cell_type": "code",
   "execution_count": 66,
   "metadata": {},
   "outputs": [
    {
     "name": "stdout",
     "output_type": "stream",
     "text": [
      "+----------+-----+--------------------+\n",
      "|prediction|label|            features|\n",
      "+----------+-----+--------------------+\n",
      "|       0.0|  0.0|(77,[0,6,8,16,22,...|\n",
      "|       0.0|  0.0|(77,[0,6,8,16,22,...|\n",
      "|       0.0|  0.0|(77,[0,6,8,16,22,...|\n",
      "|       0.0|  0.0|(77,[0,6,8,16,22,...|\n",
      "|       0.0|  0.0|(77,[0,6,8,16,22,...|\n",
      "+----------+-----+--------------------+\n",
      "only showing top 5 rows\n",
      "\n",
      "Test Error = 0.182482 \n",
      "DecisionTreeClassificationModel (uid=DecisionTreeClassifier_47268806353cb4458e2e) of depth 5 with 61 nodes\n",
      "True Positives: 192\n",
      "True Negatives: 256\n",
      "False Positives: 51\n",
      "False Negatives: 49\n",
      "Total: 548\n",
      "Recall: 0.7966804979253111\n",
      "Precision: 0.7901234567901234\n"
     ]
    }
   ],
   "source": [
    "# Run decision tree and evaluate the model.\n",
    "# Code adapted from examples in the Spark documentation.\n",
    "\n",
    "(trainingData, testData) = pipe_df.randomSplit([0.7, 0.3])\n",
    "\n",
    "dt = DecisionTreeClassifier(labelCol=\"label\", featuresCol=\"features\")\n",
    "\n",
    "pipeline = Pipeline(stages=[dt])\n",
    "\n",
    "model = pipeline.fit(trainingData)\n",
    "\n",
    "results = model.transform(testData)\n",
    "\n",
    "results.select(\"prediction\", \"label\", \"features\").show(5)\n",
    "\n",
    "evaluator = MulticlassClassificationEvaluator(\n",
    "    labelCol=\"label\", predictionCol=\"prediction\", metricName=\"accuracy\")\n",
    "accuracy = evaluator.evaluate(results)\n",
    "print(\"Test Error = %g \" % (1.0 - accuracy))\n",
    "\n",
    "treeModel = model.stages[0]\n",
    "\n",
    "# summary only\n",
    "print(treeModel)\n",
    "\n",
    "tp = results[(results.label == 1.0) & (results.prediction == 1.0)].count()\n",
    "tn = results[(results.label == 0.0) & (results.prediction == 0.0)].count()\n",
    "fp = results[(results.label == 0.0) & (results.prediction == 1.0)].count()\n",
    "fn = results[(results.label == 1.0) & (results.prediction == 0.0)].count()\n",
    "print(\"True Positives:\", tp)\n",
    "print(\"True Negatives:\", tn)\n",
    "print(\"False Positives:\", fp)\n",
    "print(\"False Negatives:\", fn)\n",
    "print(\"Total: \" + str(results.count()))\n",
    "\n",
    "# Show precision & recall.\n",
    "r = float(tp)/(tp + fn)\n",
    "print(\"Recall:\", r)\n",
    "\n",
    "p = float(tp) / (tp + fp)\n",
    "print(\"Precision:\", p)"
   ]
  },
  {
   "cell_type": "code",
   "execution_count": 67,
   "metadata": {},
   "outputs": [],
   "source": [
    "# I go through the process of preparing the dataset again, this time using nicotine as my target variable.\n",
    "age_indexer = StringIndexer(inputCol='Age',outputCol='ageIndex')\n",
    "gender_indexer = StringIndexer(inputCol='Gender',outputCol='genderIndex')\n",
    "education_indexer = StringIndexer(inputCol='Education',outputCol='educationIndex')\n",
    "alcohol_indexer = StringIndexer(inputCol='Alcohol',outputCol='alcoholIndex')\n",
    "amphetamine_indexer = StringIndexer(inputCol='Amphetamine',outputCol='amphetamineIndex')\n",
    "benzos_indexer = StringIndexer(inputCol='Benzos',outputCol='benzosIndex')\n",
    "cannabis_indexer = StringIndexer(inputCol='Cannabis',outputCol='cannabisIndex')\n",
    "cocaine_indexer = StringIndexer(inputCol='Cocaine',outputCol='cocaineIndex')\n",
    "crack_indexer = StringIndexer(inputCol='Crack',outputCol='crackIndex')\n",
    "ecstacy_indexer = StringIndexer(inputCol='Ecstacy',outputCol='ecstacyIndex')\n",
    "heroin_indexer = StringIndexer(inputCol='Heroin',outputCol='heroinIndex')\n",
    "meth_indexer = StringIndexer(inputCol='Meth',outputCol='methIndex')\n",
    "nicotine_indexer = StringIndexer(inputCol='Nicotine',outputCol='label')\n",
    "\n",
    "\n",
    "age_encoder = OneHotEncoder(inputCol='ageIndex',outputCol='ageVec')\n",
    "gender_encoder = OneHotEncoder(inputCol='genderIndex',outputCol='genderVec')\n",
    "education_encoder = OneHotEncoder(inputCol='educationIndex',outputCol='educationVec')\n",
    "alcohol_encoder = OneHotEncoder(inputCol='alcoholIndex',outputCol='alcoholVec')\n",
    "amphetamine_encoder = OneHotEncoder(inputCol='amphetamineIndex',outputCol='amphetamineVec')\n",
    "benzos_encoder = OneHotEncoder(inputCol='benzosIndex',outputCol='benzosVec')\n",
    "cannabis_encoder = OneHotEncoder(inputCol='cannabisIndex',outputCol='cannabisVec')\n",
    "cocaine_encoder = OneHotEncoder(inputCol='cocaineIndex',outputCol='cocaineVec')\n",
    "crack_encoder = OneHotEncoder(inputCol='crackIndex',outputCol='crackVec')\n",
    "ecstacy_encoder = OneHotEncoder(inputCol='ecstacyIndex',outputCol='ecstacyVec')\n",
    "heroin_encoder = OneHotEncoder(inputCol='heroinIndex',outputCol='heroinVec')\n",
    "meth_encoder = OneHotEncoder(inputCol='methIndex',outputCol='methVec')\n",
    "\n",
    "assembler = VectorAssembler(inputCols=['ageVec','genderVec','educationVec','alcoholVec','amphetamineVec','benzosVec',\n",
    "                                       'cannabisVec','cocaineVec','crackVec','ecstacyVec','heroinVec','methVec',\n",
    "                                       'Neuroticism','Extraversion','Openness to experience','Agreeableness',\n",
    "                                       'Conscientiousness','Impulsiveness','Sensation seeking'], outputCol=\"features\")\n",
    "\n",
    "pipeline = Pipeline(stages=[age_indexer, gender_indexer, education_indexer, alcohol_indexer, amphetamine_indexer,\n",
    "                            benzos_indexer, cannabis_indexer, cocaine_indexer, crack_indexer, ecstacy_indexer,\n",
    "                            heroin_indexer, meth_indexer, nicotine_indexer, age_encoder, gender_encoder, education_encoder,\n",
    "                            alcohol_encoder, amphetamine_encoder, benzos_encoder, cannabis_encoder, cocaine_encoder, crack_encoder,\n",
    "                            ecstacy_encoder, heroin_encoder, meth_encoder, assembler])\n",
    "\n",
    "pipeline_model = pipeline.fit(nicotine_dataset)\n",
    "\n",
    "# Incorporate results into a new DataFrame.\n",
    "pipe_df = pipeline_model.transform(nicotine_dataset)\n",
    "\n",
    "# Remove all variables other than features and label. \n",
    "pipe_df = pipe_df.select('label', 'features')"
   ]
  },
  {
   "cell_type": "code",
   "execution_count": 68,
   "metadata": {},
   "outputs": [
    {
     "name": "stdout",
     "output_type": "stream",
     "text": [
      "+----------+-----+--------------------+\n",
      "|prediction|label|            features|\n",
      "+----------+-----+--------------------+\n",
      "|       0.0|  0.0|(77,[0,6,8,16,22,...|\n",
      "|       0.0|  0.0|(77,[0,6,8,16,22,...|\n",
      "|       0.0|  0.0|(77,[0,6,8,16,22,...|\n",
      "|       0.0|  0.0|(77,[0,6,8,16,22,...|\n",
      "|       0.0|  0.0|(77,[0,6,8,16,22,...|\n",
      "+----------+-----+--------------------+\n",
      "only showing top 5 rows\n",
      "\n",
      "Test Error = 0.242026 \n",
      "DecisionTreeClassificationModel (uid=DecisionTreeClassifier_4d999132a5ddce505137) of depth 5 with 57 nodes\n",
      "True Positives: 151\n",
      "True Negatives: 253\n",
      "False Positives: 55\n",
      "False Negatives: 74\n",
      "Total: 533\n",
      "Recall: 0.6711111111111111\n",
      "Precision: 0.7330097087378641\n"
     ]
    }
   ],
   "source": [
    "# Run decision tree and evaluate the model.\n",
    "# Code adapted from examples in the Spark documentation.\n",
    "\n",
    "(trainingData, testData) = pipe_df.randomSplit([0.7, 0.3])\n",
    "\n",
    "dt = DecisionTreeClassifier(labelCol=\"label\", featuresCol=\"features\")\n",
    "\n",
    "pipeline = Pipeline(stages=[dt])\n",
    "\n",
    "model = pipeline.fit(trainingData)\n",
    "\n",
    "results = model.transform(testData)\n",
    "\n",
    "results.select(\"prediction\", \"label\", \"features\").show(5)\n",
    "\n",
    "evaluator = MulticlassClassificationEvaluator(\n",
    "    labelCol=\"label\", predictionCol=\"prediction\", metricName=\"accuracy\")\n",
    "accuracy = evaluator.evaluate(results)\n",
    "print(\"Test Error = %g \" % (1.0 - accuracy))\n",
    "\n",
    "treeModel = model.stages[0]\n",
    "\n",
    "# summary only\n",
    "print(treeModel)\n",
    "\n",
    "tp = results[(results.label == 1.0) & (results.prediction == 1.0)].count()\n",
    "tn = results[(results.label == 0.0) & (results.prediction == 0.0)].count()\n",
    "fp = results[(results.label == 0.0) & (results.prediction == 1.0)].count()\n",
    "fn = results[(results.label == 1.0) & (results.prediction == 0.0)].count()\n",
    "print(\"True Positives:\", tp)\n",
    "print(\"True Negatives:\", tn)\n",
    "print(\"False Positives:\", fp)\n",
    "print(\"False Negatives:\", fn)\n",
    "print(\"Total: \" + str(results.count()))\n",
    "\n",
    "# Show precision & recall.\n",
    "r = float(tp)/(tp + fn)\n",
    "print(\"Recall:\", r)\n",
    "\n",
    "p = float(tp) / (tp + fp)\n",
    "print(\"Precision:\", p)"
   ]
  },
  {
   "cell_type": "code",
   "execution_count": 69,
   "metadata": {},
   "outputs": [],
   "source": [
    "age_indexer = StringIndexer(inputCol='Age',outputCol='ageIndex')\n",
    "gender_indexer = StringIndexer(inputCol='Gender',outputCol='genderIndex')\n",
    "education_indexer = StringIndexer(inputCol='Education',outputCol='educationIndex')\n",
    "alcohol_indexer = StringIndexer(inputCol='Alcohol',outputCol='alcoholIndex')\n",
    "amphetamine_indexer = StringIndexer(inputCol='Amphetamine',outputCol='amphetamineIndex')\n",
    "benzos_indexer = StringIndexer(inputCol='Benzos',outputCol='benzosIndex')\n",
    "cannabis_indexer = StringIndexer(inputCol='Cannabis',outputCol='cannabisIndex')\n",
    "cocaine_indexer = StringIndexer(inputCol='Cocaine',outputCol='cocaineIndex')\n",
    "crack_indexer = StringIndexer(inputCol='Crack',outputCol='crackIndex')\n",
    "ecstacy_indexer = StringIndexer(inputCol='Ecstacy',outputCol='ecstacyIndex')\n",
    "heroin_indexer = StringIndexer(inputCol='Heroin',outputCol='label')\n",
    "meth_indexer = StringIndexer(inputCol='Meth',outputCol='methIndex')\n",
    "nicotine_indexer = StringIndexer(inputCol='Nicotine',outputCol='nicotineIndex')\n",
    "\n",
    "\n",
    "age_encoder = OneHotEncoder(inputCol='ageIndex',outputCol='ageVec')\n",
    "gender_encoder = OneHotEncoder(inputCol='genderIndex',outputCol='genderVec')\n",
    "education_encoder = OneHotEncoder(inputCol='educationIndex',outputCol='educationVec')\n",
    "alcohol_encoder = OneHotEncoder(inputCol='alcoholIndex',outputCol='alcoholVec')\n",
    "amphetamine_encoder = OneHotEncoder(inputCol='amphetamineIndex',outputCol='amphetamineVec')\n",
    "benzos_encoder = OneHotEncoder(inputCol='benzosIndex',outputCol='benzosVec')\n",
    "cannabis_encoder = OneHotEncoder(inputCol='cannabisIndex',outputCol='cannabisVec')\n",
    "cocaine_encoder = OneHotEncoder(inputCol='cocaineIndex',outputCol='cocaineVec')\n",
    "crack_encoder = OneHotEncoder(inputCol='crackIndex',outputCol='crackVec')\n",
    "ecstacy_encoder = OneHotEncoder(inputCol='ecstacyIndex',outputCol='ecstacyVec')\n",
    "meth_encoder = OneHotEncoder(inputCol='methIndex',outputCol='methVec')\n",
    "nicotine_encoder = OneHotEncoder(inputCol='nicotineIndex',outputCol='nicotineVec')\n",
    "\n",
    "assembler = VectorAssembler(inputCols=['ageVec','genderVec','educationVec','alcoholVec','amphetamineVec','benzosVec',\n",
    "                                       'cannabisVec','cocaineVec','crackVec','ecstacyVec','methVec','nicotineVec',\n",
    "                                       'Neuroticism','Extraversion','Openness to experience','Agreeableness',\n",
    "                                       'Conscientiousness','Impulsiveness','Sensation seeking'], outputCol=\"features\")\n",
    "\n",
    "pipeline = Pipeline(stages=[age_indexer, gender_indexer, education_indexer, alcohol_indexer, amphetamine_indexer,\n",
    "                            benzos_indexer, cannabis_indexer, cocaine_indexer, crack_indexer, ecstacy_indexer,\n",
    "                            heroin_indexer, meth_indexer, nicotine_indexer, age_encoder, gender_encoder, education_encoder,\n",
    "                            alcohol_encoder, amphetamine_encoder, benzos_encoder, cannabis_encoder, cocaine_encoder, crack_encoder,\n",
    "                            ecstacy_encoder, meth_encoder, nicotine_encoder, assembler])\n",
    "\n",
    "pipeline_model = pipeline.fit(heroin_dataset)\n",
    "\n",
    "# Incorporate results into a new DataFrame.\n",
    "pipe_df = pipeline_model.transform(heroin_dataset)\n",
    "\n",
    "# Remove all variables other than features and label. \n",
    "pipe_df = pipe_df.select('label', 'features')"
   ]
  },
  {
   "cell_type": "code",
   "execution_count": 70,
   "metadata": {},
   "outputs": [
    {
     "name": "stdout",
     "output_type": "stream",
     "text": [
      "+----------+-----+--------------------+\n",
      "|prediction|label|            features|\n",
      "+----------+-----+--------------------+\n",
      "|       0.0|  0.0|(77,[0,6,8,16,22,...|\n",
      "|       0.0|  0.0|(77,[0,6,8,16,22,...|\n",
      "|       0.0|  0.0|(77,[0,6,8,16,22,...|\n",
      "|       0.0|  0.0|(77,[0,6,8,16,22,...|\n",
      "|       0.0|  0.0|(77,[0,6,8,16,22,...|\n",
      "+----------+-----+--------------------+\n",
      "only showing top 5 rows\n",
      "\n",
      "Test Error = 0.0818505 \n",
      "DecisionTreeClassificationModel (uid=DecisionTreeClassifier_438e9ae3e96a1c8535ca) of depth 5 with 37 nodes\n",
      "True Positives: 3\n",
      "True Negatives: 513\n",
      "False Positives: 16\n",
      "False Negatives: 30\n",
      "Total: 562\n",
      "Recall: 0.09090909090909091\n",
      "Precision: 0.15789473684210525\n"
     ]
    }
   ],
   "source": [
    "# Run decision tree and evaluate the model.\n",
    "# Code adapted from examples in the Spark documentation.\n",
    "\n",
    "(trainingData, testData) = pipe_df.randomSplit([0.7, 0.3])\n",
    "\n",
    "dt = DecisionTreeClassifier(labelCol=\"label\", featuresCol=\"features\")\n",
    "\n",
    "pipeline = Pipeline(stages=[dt])\n",
    "\n",
    "model = pipeline.fit(trainingData)\n",
    "\n",
    "results = model.transform(testData)\n",
    "\n",
    "results.select(\"prediction\", \"label\", \"features\").show(5)\n",
    "\n",
    "evaluator = MulticlassClassificationEvaluator(\n",
    "    labelCol=\"label\", predictionCol=\"prediction\", metricName=\"accuracy\")\n",
    "accuracy = evaluator.evaluate(results)\n",
    "print(\"Test Error = %g \" % (1.0 - accuracy))\n",
    "\n",
    "treeModel = model.stages[0]\n",
    "\n",
    "# summary only\n",
    "print(treeModel)\n",
    "\n",
    "tp = results[(results.label == 1.0) & (results.prediction == 1.0)].count()\n",
    "tn = results[(results.label == 0.0) & (results.prediction == 0.0)].count()\n",
    "fp = results[(results.label == 0.0) & (results.prediction == 1.0)].count()\n",
    "fn = results[(results.label == 1.0) & (results.prediction == 0.0)].count()\n",
    "print(\"True Positives:\", tp)\n",
    "print(\"True Negatives:\", tn)\n",
    "print(\"False Positives:\", fp)\n",
    "print(\"False Negatives:\", fn)\n",
    "print(\"Total: \" + str(results.count()))\n",
    "\n",
    "# Show precision & recall.\n",
    "r = float(tp)/(tp + fn)\n",
    "print(\"Recall:\", r)\n",
    "\n",
    "p = float(tp) / (tp + fp)\n",
    "print(\"Precision:\", p)"
   ]
  },
  {
   "cell_type": "code",
   "execution_count": 71,
   "metadata": {},
   "outputs": [],
   "source": [
    "age_indexer = StringIndexer(inputCol='Age',outputCol='ageIndex')\n",
    "gender_indexer = StringIndexer(inputCol='Gender',outputCol='genderIndex')\n",
    "education_indexer = StringIndexer(inputCol='Education',outputCol='educationIndex')\n",
    "alcohol_indexer = StringIndexer(inputCol='Alcohol',outputCol='alcoholIndex')\n",
    "amphetamine_indexer = StringIndexer(inputCol='Amphetamine',outputCol='label')\n",
    "benzos_indexer = StringIndexer(inputCol='Benzos',outputCol='benzosIndex')\n",
    "cannabis_indexer = StringIndexer(inputCol='Cannabis',outputCol='cannabisIndex')\n",
    "cocaine_indexer = StringIndexer(inputCol='Cocaine',outputCol='cocaineIndex')\n",
    "crack_indexer = StringIndexer(inputCol='Crack',outputCol='crackIndex')\n",
    "ecstacy_indexer = StringIndexer(inputCol='Ecstacy',outputCol='ecstacyIndex')\n",
    "heroin_indexer = StringIndexer(inputCol='Heroin',outputCol='heroinIndex')\n",
    "meth_indexer = StringIndexer(inputCol='Meth',outputCol='methIndex')\n",
    "nicotine_indexer = StringIndexer(inputCol='Nicotine',outputCol='nicotineIndex')\n",
    "\n",
    "\n",
    "age_encoder = OneHotEncoder(inputCol='ageIndex',outputCol='ageVec')\n",
    "gender_encoder = OneHotEncoder(inputCol='genderIndex',outputCol='genderVec')\n",
    "education_encoder = OneHotEncoder(inputCol='educationIndex',outputCol='educationVec')\n",
    "alcohol_encoder = OneHotEncoder(inputCol='alcoholIndex',outputCol='alcoholVec')\n",
    "benzos_encoder = OneHotEncoder(inputCol='benzosIndex',outputCol='benzosVec')\n",
    "cannabis_encoder = OneHotEncoder(inputCol='cannabisIndex',outputCol='cannabisVec')\n",
    "cocaine_encoder = OneHotEncoder(inputCol='cocaineIndex',outputCol='cocaineVec')\n",
    "crack_encoder = OneHotEncoder(inputCol='crackIndex',outputCol='crackVec')\n",
    "ecstacy_encoder = OneHotEncoder(inputCol='ecstacyIndex',outputCol='ecstacyVec')\n",
    "heroin_encoder = OneHotEncoder(inputCol='heroinIndex',outputCol='heroinVec')\n",
    "meth_encoder = OneHotEncoder(inputCol='methIndex',outputCol='methVec')\n",
    "nicotine_encoder = OneHotEncoder(inputCol='nicotineIndex',outputCol='nicotineVec')\n",
    "\n",
    "assembler = VectorAssembler(inputCols=['ageVec','genderVec','educationVec','alcoholVec','benzosVec',\n",
    "                                       'cannabisVec','cocaineVec','crackVec','ecstacyVec','heroinVec','methVec','nicotineVec',\n",
    "                                       'Neuroticism','Extraversion','Openness to experience','Agreeableness',\n",
    "                                       'Conscientiousness','Impulsiveness','Sensation seeking'], outputCol=\"features\")\n",
    "\n",
    "pipeline = Pipeline(stages=[age_indexer, gender_indexer, education_indexer, alcohol_indexer, amphetamine_indexer,\n",
    "                            benzos_indexer, cannabis_indexer, cocaine_indexer, crack_indexer, ecstacy_indexer,\n",
    "                            heroin_indexer, meth_indexer, nicotine_indexer, age_encoder, gender_encoder, education_encoder,\n",
    "                            alcohol_encoder, benzos_encoder, cannabis_encoder, cocaine_encoder, crack_encoder,\n",
    "                            ecstacy_encoder, heroin_encoder, meth_encoder, nicotine_encoder, assembler])\n",
    "\n",
    "pipeline_model = pipeline.fit(amphetamine_dataset)\n",
    "\n",
    "# Incorporate results into a new DataFrame.\n",
    "pipe_df = pipeline_model.transform(amphetamine_dataset)\n",
    "\n",
    "# Remove all variables other than features and label. \n",
    "pipe_df = pipe_df.select('label', 'features')"
   ]
  },
  {
   "cell_type": "code",
   "execution_count": 72,
   "metadata": {},
   "outputs": [
    {
     "name": "stdout",
     "output_type": "stream",
     "text": [
      "+----------+-----+--------------------+\n",
      "|prediction|label|            features|\n",
      "+----------+-----+--------------------+\n",
      "|       1.0|  0.0|(77,[0,6,8,16,22,...|\n",
      "|       0.0|  0.0|(77,[0,6,8,16,22,...|\n",
      "|       0.0|  0.0|(77,[0,6,8,16,22,...|\n",
      "|       0.0|  0.0|(77,[0,6,8,16,22,...|\n",
      "|       0.0|  0.0|(77,[0,6,8,16,22,...|\n",
      "+----------+-----+--------------------+\n",
      "only showing top 5 rows\n",
      "\n",
      "Test Error = 0.206522 \n",
      "DecisionTreeClassificationModel (uid=DecisionTreeClassifier_4bb1a5f0fe2bdf94b4b8) of depth 5 with 51 nodes\n",
      "True Positives: 42\n",
      "True Negatives: 396\n",
      "False Positives: 34\n",
      "False Negatives: 80\n",
      "Total: 552\n",
      "Recall: 0.3442622950819672\n",
      "Precision: 0.5526315789473685\n"
     ]
    }
   ],
   "source": [
    "# Run decision tree and evaluate the model.\n",
    "# Code adapted from examples in the Spark documentation.\n",
    "\n",
    "(trainingData, testData) = pipe_df.randomSplit([0.7, 0.3])\n",
    "\n",
    "dt = DecisionTreeClassifier(labelCol=\"label\", featuresCol=\"features\")\n",
    "\n",
    "pipeline = Pipeline(stages=[dt])\n",
    "\n",
    "model = pipeline.fit(trainingData)\n",
    "\n",
    "results = model.transform(testData)\n",
    "\n",
    "results.select(\"prediction\", \"label\", \"features\").show(5)\n",
    "\n",
    "evaluator = MulticlassClassificationEvaluator(\n",
    "    labelCol=\"label\", predictionCol=\"prediction\", metricName=\"accuracy\")\n",
    "accuracy = evaluator.evaluate(results)\n",
    "print(\"Test Error = %g \" % (1.0 - accuracy))\n",
    "\n",
    "treeModel = model.stages[0]\n",
    "\n",
    "# summary only\n",
    "print(treeModel)\n",
    "\n",
    "tp = results[(results.label == 1.0) & (results.prediction == 1.0)].count()\n",
    "tn = results[(results.label == 0.0) & (results.prediction == 0.0)].count()\n",
    "fp = results[(results.label == 0.0) & (results.prediction == 1.0)].count()\n",
    "fn = results[(results.label == 1.0) & (results.prediction == 0.0)].count()\n",
    "print(\"True Positives:\", tp)\n",
    "print(\"True Negatives:\", tn)\n",
    "print(\"False Positives:\", fp)\n",
    "print(\"False Negatives:\", fn)\n",
    "print(\"Total: \" + str(results.count()))\n",
    "\n",
    "# Show precision & recall.\n",
    "r = float(tp)/(tp + fn)\n",
    "print(\"Recall:\", r)\n",
    "\n",
    "p = float(tp) / (tp + fp)\n",
    "print(\"Precision:\", p)"
   ]
  },
  {
   "cell_type": "code",
   "execution_count": 73,
   "metadata": {},
   "outputs": [],
   "source": [
    "age_indexer = StringIndexer(inputCol='Age',outputCol='ageIndex')\n",
    "gender_indexer = StringIndexer(inputCol='Gender',outputCol='genderIndex')\n",
    "education_indexer = StringIndexer(inputCol='Education',outputCol='educationIndex')\n",
    "alcohol_indexer = StringIndexer(inputCol='Alcohol',outputCol='alcoholIndex')\n",
    "amphetamine_indexer = StringIndexer(inputCol='Amphetamine',outputCol='amphetamineIndex')\n",
    "benzos_indexer = StringIndexer(inputCol='Benzos',outputCol='label')\n",
    "cannabis_indexer = StringIndexer(inputCol='Cannabis',outputCol='cannabisIndex')\n",
    "cocaine_indexer = StringIndexer(inputCol='Cocaine',outputCol='cocaineIndex')\n",
    "crack_indexer = StringIndexer(inputCol='Crack',outputCol='crackIndex')\n",
    "ecstacy_indexer = StringIndexer(inputCol='Ecstacy',outputCol='ecstacyIndex')\n",
    "heroin_indexer = StringIndexer(inputCol='Heroin',outputCol='heroinIndex')\n",
    "meth_indexer = StringIndexer(inputCol='Meth',outputCol='methIndex')\n",
    "nicotine_indexer = StringIndexer(inputCol='Nicotine',outputCol='nicotineIndex')\n",
    "\n",
    "\n",
    "age_encoder = OneHotEncoder(inputCol='ageIndex',outputCol='ageVec')\n",
    "gender_encoder = OneHotEncoder(inputCol='genderIndex',outputCol='genderVec')\n",
    "education_encoder = OneHotEncoder(inputCol='educationIndex',outputCol='educationVec')\n",
    "alcohol_encoder = OneHotEncoder(inputCol='alcoholIndex',outputCol='alcoholVec')\n",
    "amphetamine_encoder = OneHotEncoder(inputCol='amphetamineIndex',outputCol='amphetamineVec')\n",
    "cannabis_encoder = OneHotEncoder(inputCol='cannabisIndex',outputCol='cannabisVec')\n",
    "cocaine_encoder = OneHotEncoder(inputCol='cocaineIndex',outputCol='cocaineVec')\n",
    "crack_encoder = OneHotEncoder(inputCol='crackIndex',outputCol='crackVec')\n",
    "ecstacy_encoder = OneHotEncoder(inputCol='ecstacyIndex',outputCol='ecstacyVec')\n",
    "heroin_encoder = OneHotEncoder(inputCol='heroinIndex',outputCol='heroinVec')\n",
    "meth_encoder = OneHotEncoder(inputCol='methIndex',outputCol='methVec')\n",
    "nicotine_encoder = OneHotEncoder(inputCol='nicotineIndex',outputCol='nicotineVec')\n",
    "\n",
    "assembler = VectorAssembler(inputCols=['ageVec','genderVec','educationVec','alcoholVec','amphetamineVec',\n",
    "                                       'cannabisVec','cocaineVec','crackVec','ecstacyVec','heroinVec','methVec','nicotineVec',\n",
    "                                       'Neuroticism','Extraversion','Openness to experience','Agreeableness',\n",
    "                                       'Conscientiousness','Impulsiveness','Sensation seeking'], outputCol=\"features\")\n",
    "\n",
    "pipeline = Pipeline(stages=[age_indexer, gender_indexer, education_indexer, alcohol_indexer, amphetamine_indexer,\n",
    "                            benzos_indexer, cannabis_indexer, cocaine_indexer, crack_indexer, ecstacy_indexer,\n",
    "                            heroin_indexer, meth_indexer, nicotine_indexer, age_encoder, gender_encoder, education_encoder,\n",
    "                            alcohol_encoder, amphetamine_encoder, cannabis_encoder, cocaine_encoder, crack_encoder,\n",
    "                            ecstacy_encoder, heroin_encoder, meth_encoder, nicotine_encoder, assembler])\n",
    "\n",
    "pipeline_model = pipeline.fit(benzos_dataset)\n",
    "\n",
    "# Incorporate results into a new DataFrame.\n",
    "pipe_df = pipeline_model.transform(benzos_dataset)\n",
    "\n",
    "# Remove all variables other than features and label. \n",
    "pipe_df = pipe_df.select('label', 'features')"
   ]
  },
  {
   "cell_type": "code",
   "execution_count": 74,
   "metadata": {},
   "outputs": [
    {
     "name": "stdout",
     "output_type": "stream",
     "text": [
      "+----------+-----+--------------------+\n",
      "|prediction|label|            features|\n",
      "+----------+-----+--------------------+\n",
      "|       0.0|  0.0|(77,[0,6,8,16,22,...|\n",
      "|       0.0|  0.0|(77,[0,6,8,16,22,...|\n",
      "|       0.0|  0.0|(77,[0,6,8,16,22,...|\n",
      "|       0.0|  0.0|(77,[0,6,8,16,22,...|\n",
      "|       0.0|  0.0|(77,[0,6,8,16,25,...|\n",
      "+----------+-----+--------------------+\n",
      "only showing top 5 rows\n",
      "\n",
      "Test Error = 0.204225 \n",
      "DecisionTreeClassificationModel (uid=DecisionTreeClassifier_4b98b151054bf42724a6) of depth 5 with 55 nodes\n",
      "True Positives: 88\n",
      "True Negatives: 364\n",
      "False Positives: 44\n",
      "False Negatives: 72\n",
      "Total: 568\n",
      "Recall: 0.55\n",
      "Precision: 0.6666666666666666\n"
     ]
    }
   ],
   "source": [
    "# Run decision tree and evaluate the model.\n",
    "# Code adapted from examples in the Spark documentation.\n",
    "\n",
    "(trainingData, testData) = pipe_df.randomSplit([0.7, 0.3])\n",
    "\n",
    "dt = DecisionTreeClassifier(labelCol=\"label\", featuresCol=\"features\")\n",
    "\n",
    "pipeline = Pipeline(stages=[dt])\n",
    "\n",
    "model = pipeline.fit(trainingData)\n",
    "\n",
    "results = model.transform(testData)\n",
    "\n",
    "results.select(\"prediction\", \"label\", \"features\").show(5)\n",
    "\n",
    "evaluator = MulticlassClassificationEvaluator(\n",
    "    labelCol=\"label\", predictionCol=\"prediction\", metricName=\"accuracy\")\n",
    "accuracy = evaluator.evaluate(results)\n",
    "print(\"Test Error = %g \" % (1.0 - accuracy))\n",
    "\n",
    "treeModel = model.stages[0]\n",
    "\n",
    "# summary only\n",
    "print(treeModel)\n",
    "\n",
    "tp = results[(results.label == 1.0) & (results.prediction == 1.0)].count()\n",
    "tn = results[(results.label == 0.0) & (results.prediction == 0.0)].count()\n",
    "fp = results[(results.label == 0.0) & (results.prediction == 1.0)].count()\n",
    "fn = results[(results.label == 1.0) & (results.prediction == 0.0)].count()\n",
    "print(\"True Positives:\", tp)\n",
    "print(\"True Negatives:\", tn)\n",
    "print(\"False Positives:\", fp)\n",
    "print(\"False Negatives:\", fn)\n",
    "print(\"Total: \" + str(results.count()))\n",
    "\n",
    "# Show precision & recall.\n",
    "r = float(tp)/(tp + fn)\n",
    "print(\"Recall:\", r)\n",
    "\n",
    "p = float(tp) / (tp + fp)\n",
    "print(\"Precision:\", p)"
   ]
  },
  {
   "cell_type": "code",
   "execution_count": 75,
   "metadata": {},
   "outputs": [],
   "source": [
    "age_indexer = StringIndexer(inputCol='Age',outputCol='ageIndex')\n",
    "gender_indexer = StringIndexer(inputCol='Gender',outputCol='genderIndex')\n",
    "education_indexer = StringIndexer(inputCol='Education',outputCol='educationIndex')\n",
    "alcohol_indexer = StringIndexer(inputCol='Alcohol',outputCol='alcoholIndex')\n",
    "amphetamine_indexer = StringIndexer(inputCol='Amphetamine',outputCol='amphetamineIndex')\n",
    "benzos_indexer = StringIndexer(inputCol='Benzos',outputCol='benzosIndex')\n",
    "cannabis_indexer = StringIndexer(inputCol='Cannabis',outputCol='cannabisIndex')\n",
    "cocaine_indexer = StringIndexer(inputCol='Cocaine',outputCol='cocaineIndex')\n",
    "crack_indexer = StringIndexer(inputCol='Crack',outputCol='crackIndex')\n",
    "ecstacy_indexer = StringIndexer(inputCol='Ecstacy',outputCol='ecstacyIndex')\n",
    "heroin_indexer = StringIndexer(inputCol='Heroin',outputCol='heroinIndex')\n",
    "meth_indexer = StringIndexer(inputCol='Meth',outputCol='label')\n",
    "nicotine_indexer = StringIndexer(inputCol='Nicotine',outputCol='nicotineIndex')\n",
    "\n",
    "\n",
    "age_encoder = OneHotEncoder(inputCol='ageIndex',outputCol='ageVec')\n",
    "gender_encoder = OneHotEncoder(inputCol='genderIndex',outputCol='genderVec')\n",
    "education_encoder = OneHotEncoder(inputCol='educationIndex',outputCol='educationVec')\n",
    "alcohol_encoder = OneHotEncoder(inputCol='alcoholIndex',outputCol='alcoholVec')\n",
    "amphetamine_encoder = OneHotEncoder(inputCol='amphetamineIndex',outputCol='amphetamineVec')\n",
    "benzos_encoder = OneHotEncoder(inputCol='benzosIndex',outputCol='benzosVec')\n",
    "cannabis_encoder = OneHotEncoder(inputCol='cannabisIndex',outputCol='cannabisVec')\n",
    "cocaine_encoder = OneHotEncoder(inputCol='cocaineIndex',outputCol='cocaineVec')\n",
    "crack_encoder = OneHotEncoder(inputCol='crackIndex',outputCol='crackVec')\n",
    "ecstacy_encoder = OneHotEncoder(inputCol='ecstacyIndex',outputCol='ecstacyVec')\n",
    "heroin_encoder = OneHotEncoder(inputCol='heroinIndex',outputCol='heroinVec')\n",
    "nicotine_encoder = OneHotEncoder(inputCol='nicotineIndex',outputCol='nicotineVec')\n",
    "\n",
    "assembler = VectorAssembler(inputCols=['ageVec','genderVec','educationVec','alcoholVec','amphetamineVec','benzosVec',\n",
    "                                       'cannabisVec','cocaineVec','crackVec','ecstacyVec','heroinVec','nicotineVec',\n",
    "                                       'Neuroticism','Extraversion','Openness to experience','Agreeableness',\n",
    "                                       'Conscientiousness','Impulsiveness','Sensation seeking'], outputCol=\"features\")\n",
    "\n",
    "pipeline = Pipeline(stages=[age_indexer, gender_indexer, education_indexer, alcohol_indexer, amphetamine_indexer,\n",
    "                            benzos_indexer, cannabis_indexer, cocaine_indexer, crack_indexer, ecstacy_indexer,\n",
    "                            heroin_indexer, meth_indexer, nicotine_indexer, age_encoder, gender_encoder, education_encoder,\n",
    "                            alcohol_encoder, amphetamine_encoder, benzos_encoder, cannabis_encoder, cocaine_encoder, crack_encoder,\n",
    "                            ecstacy_encoder, heroin_encoder, nicotine_encoder, assembler])\n",
    "\n",
    "pipeline_model = pipeline.fit(meth_dataset)\n",
    "\n",
    "# Incorporate results into a new DataFrame.\n",
    "pipe_df = pipeline_model.transform(meth_dataset)\n",
    "\n",
    "# Remove all variables other than features and label. \n",
    "pipe_df = pipe_df.select('label', 'features')"
   ]
  },
  {
   "cell_type": "code",
   "execution_count": 76,
   "metadata": {},
   "outputs": [
    {
     "name": "stdout",
     "output_type": "stream",
     "text": [
      "+----------+-----+--------------------+\n",
      "|prediction|label|            features|\n",
      "+----------+-----+--------------------+\n",
      "|       0.0|  0.0|(77,[0,6,8,16,22,...|\n",
      "|       0.0|  0.0|(77,[0,6,8,16,22,...|\n",
      "|       0.0|  0.0|(77,[0,6,8,16,22,...|\n",
      "|       0.0|  0.0|(77,[0,6,8,16,22,...|\n",
      "|       0.0|  0.0|(77,[0,6,8,16,22,...|\n",
      "+----------+-----+--------------------+\n",
      "only showing top 5 rows\n",
      "\n",
      "Test Error = 0.153409 \n",
      "DecisionTreeClassificationModel (uid=DecisionTreeClassifier_4d8ebf27bf8f784441c7) of depth 5 with 49 nodes\n",
      "True Positives: 47\n",
      "True Negatives: 400\n",
      "False Positives: 23\n",
      "False Negatives: 58\n",
      "Total: 528\n",
      "Recall: 0.44761904761904764\n",
      "Precision: 0.6714285714285714\n"
     ]
    }
   ],
   "source": [
    "# Run decision tree and evaluate the model.\n",
    "# Code adapted from examples in the Spark documentation.\n",
    "\n",
    "(trainingData, testData) = pipe_df.randomSplit([0.7, 0.3])\n",
    "\n",
    "dt = DecisionTreeClassifier(labelCol=\"label\", featuresCol=\"features\")\n",
    "\n",
    "pipeline = Pipeline(stages=[dt])\n",
    "\n",
    "model = pipeline.fit(trainingData)\n",
    "\n",
    "results = model.transform(testData)\n",
    "\n",
    "results.select(\"prediction\", \"label\", \"features\").show(5)\n",
    "\n",
    "evaluator = MulticlassClassificationEvaluator(\n",
    "    labelCol=\"label\", predictionCol=\"prediction\", metricName=\"accuracy\")\n",
    "accuracy = evaluator.evaluate(results)\n",
    "print(\"Test Error = %g \" % (1.0 - accuracy))\n",
    "\n",
    "treeModel = model.stages[0]\n",
    "\n",
    "# summary only\n",
    "print(treeModel)\n",
    "\n",
    "tp = results[(results.label == 1.0) & (results.prediction == 1.0)].count()\n",
    "tn = results[(results.label == 0.0) & (results.prediction == 0.0)].count()\n",
    "fp = results[(results.label == 0.0) & (results.prediction == 1.0)].count()\n",
    "fn = results[(results.label == 1.0) & (results.prediction == 0.0)].count()\n",
    "print(\"True Positives:\", tp)\n",
    "print(\"True Negatives:\", tn)\n",
    "print(\"False Positives:\", fp)\n",
    "print(\"False Negatives:\", fn)\n",
    "print(\"Total: \" + str(results.count()))\n",
    "\n",
    "# Show precision & recall.\n",
    "r = float(tp)/(tp + fn)\n",
    "print(\"Recall:\", r)\n",
    "\n",
    "p = float(tp) / (tp + fp)\n",
    "print(\"Precision:\", p)"
   ]
  },
  {
   "cell_type": "code",
   "execution_count": 77,
   "metadata": {},
   "outputs": [
    {
     "data": {
      "text/plain": [
       "<matplotlib.axes._subplots.AxesSubplot at 0x7fe2d8204358>"
      ]
     },
     "execution_count": 77,
     "metadata": {},
     "output_type": "execute_result"
    },
    {
     "data": {
      "image/png": "[encoded data removed]",
      "text/plain": [
       "<Figure size 432x288 with 1 Axes>"
      ]
     },
     "metadata": {},
     "output_type": "display_data"
    }
   ],
   "source": [
    "drugdata.filter(\"Gender = 'Female'\").toPandas().groupby('Amphetamine').size().plot(kind='bar')"
   ]
  },
  {
   "cell_type": "code",
   "execution_count": 78,
   "metadata": {},
   "outputs": [
    {
     "data": {
      "text/plain": [
       "<matplotlib.axes._subplots.AxesSubplot at 0x7fe2d809f128>"
      ]
     },
     "execution_count": 78,
     "metadata": {},
     "output_type": "execute_result"
    },
    {
     "data": {
      "image/png": "[encoded data removed]",
      "text/plain": [
       "<Figure size 432x288 with 1 Axes>"
      ]
     },
     "metadata": {},
     "output_type": "display_data"
    }
   ],
   "source": [
    "drugdata.filter(\"Gender = 'Male'\").toPandas().groupby('Amphetamine').size().plot(kind='bar')"
   ]
  },
  {
   "cell_type": "code",
   "execution_count": 79,
   "metadata": {},
   "outputs": [
    {
     "data": {
      "text/plain": [
       "<matplotlib.axes._subplots.AxesSubplot at 0x7fe2d80dc4a8>"
      ]
     },
     "execution_count": 79,
     "metadata": {},
     "output_type": "execute_result"
    },
    {
     "data": {
      "image/png": "[encoded data removed]",
      "text/plain": [
       "<Figure size 432x288 with 1 Axes>"
      ]
     },
     "metadata": {},
     "output_type": "display_data"
    }
   ],
   "source": [
    "drugdata.filter(\"Gender = 'Female'\").toPandas().groupby('Benzos').size().plot(kind='bar')"
   ]
  },
  {
   "cell_type": "code",
   "execution_count": 80,
   "metadata": {},
   "outputs": [
    {
     "data": {
      "text/plain": [
       "<matplotlib.axes._subplots.AxesSubplot at 0x7fe2d7de3860>"
      ]
     },
     "execution_count": 80,
     "metadata": {},
     "output_type": "execute_result"
    },
    {
     "data": {
      "image/png": "[encoded data removed]",
      "text/plain": [
       "<Figure size 432x288 with 1 Axes>"
      ]
     },
     "metadata": {},
     "output_type": "display_data"
    }
   ],
   "source": [
    "drugdata.filter(\"Gender = 'Male'\").toPandas().groupby('Benzos').size().plot(kind='bar')"
   ]
  },
  {
   "cell_type": "code",
   "execution_count": 81,
   "metadata": {},
   "outputs": [
    {
     "data": {
      "text/plain": [
       "<matplotlib.axes._subplots.AxesSubplot at 0x7fe2d7f38198>"
      ]
     },
     "execution_count": 81,
     "metadata": {},
     "output_type": "execute_result"
    },
    {
     "data": {
      "image/png": "[encoded data removed]",
      "text/plain": [
       "<Figure size 432x288 with 1 Axes>"
      ]
     },
     "metadata": {},
     "output_type": "display_data"
    }
   ],
   "source": [
    "drugdata.filter(\"Gender = 'Female'\").toPandas().groupby('Cannabis').size().plot(kind='bar')"
   ]
  },
  {
   "cell_type": "code",
   "execution_count": 82,
   "metadata": {},
   "outputs": [
    {
     "data": {
      "text/plain": [
       "<matplotlib.axes._subplots.AxesSubplot at 0x7fe3090ae7f0>"
      ]
     },
     "execution_count": 82,
     "metadata": {},
     "output_type": "execute_result"
    },
    {
     "data": {
      "image/png": "[encoded data removed]",
      "text/plain": [
       "<Figure size 432x288 with 1 Axes>"
      ]
     },
     "metadata": {},
     "output_type": "display_data"
    }
   ],
   "source": [
    "drugdata.filter(\"Gender = 'Male'\").toPandas().groupby('Cannabis').size().plot(kind='bar')"
   ]
  },
  {
   "cell_type": "code",
   "execution_count": 83,
   "metadata": {},
   "outputs": [
    {
     "data": {
      "text/plain": [
       "<matplotlib.axes._subplots.AxesSubplot at 0x7fe2db056d68>"
      ]
     },
     "execution_count": 83,
     "metadata": {},
     "output_type": "execute_result"
    },
    {
     "data": {
      "image/png": "[encoded data removed]",
      "text/plain": [
       "<Figure size 432x288 with 1 Axes>"
      ]
     },
     "metadata": {},
     "output_type": "display_data"
    }
   ],
   "source": [
    "drugdata.filter(\"Gender = 'Female'\").toPandas().groupby('Cocaine').size().plot(kind='bar')"
   ]
  },
  {
   "cell_type": "code",
   "execution_count": 84,
   "metadata": {},
   "outputs": [
    {
     "data": {
      "text/plain": [
       "<matplotlib.axes._subplots.AxesSubplot at 0x7fe2d7fcde10>"
      ]
     },
     "execution_count": 84,
     "metadata": {},
     "output_type": "execute_result"
    },
    {
     "data": {
      "image/png": "[encoded data removed]",
      "text/plain": [
       "<Figure size 432x288 with 1 Axes>"
      ]
     },
     "metadata": {},
     "output_type": "display_data"
    }
   ],
   "source": [
    "drugdata.filter(\"Gender = 'Male'\").toPandas().groupby('Cocaine').size().plot(kind='bar')"
   ]
  },
  {
   "cell_type": "code",
   "execution_count": 85,
   "metadata": {},
   "outputs": [
    {
     "data": {
      "text/plain": [
       "<matplotlib.axes._subplots.AxesSubplot at 0x7fe2d7cc1390>"
      ]
     },
     "execution_count": 85,
     "metadata": {},
     "output_type": "execute_result"
    },
    {
     "data": {
      "image/png": "[encoded data removed]",
      "text/plain": [
       "<Figure size 432x288 with 1 Axes>"
      ]
     },
     "metadata": {},
     "output_type": "display_data"
    }
   ],
   "source": [
    "drugdata.filter(\"Gender = 'Female'\").toPandas().groupby('Heroin').size().plot(kind='bar')"
   ]
  },
  {
   "cell_type": "code",
   "execution_count": 86,
   "metadata": {},
   "outputs": [
    {
     "data": {
      "text/plain": [
       "<matplotlib.axes._subplots.AxesSubplot at 0x7fe2dafa2630>"
      ]
     },
     "execution_count": 86,
     "metadata": {},
     "output_type": "execute_result"
    },
    {
     "data": {
      "image/png": "[encoded data removed]",
      "text/plain": [
       "<Figure size 432x288 with 1 Axes>"
      ]
     },
     "metadata": {},
     "output_type": "display_data"
    }
   ],
   "source": [
    "drugdata.filter(\"Gender = 'Female'\").toPandas().groupby('Heroin').size().plot(kind='bar')"
   ]
  },
  {
   "cell_type": "code",
   "execution_count": 87,
   "metadata": {},
   "outputs": [
    {
     "data": {
      "text/plain": [
       "<matplotlib.axes._subplots.AxesSubplot at 0x7fe2d7ada390>"
      ]
     },
     "execution_count": 87,
     "metadata": {},
     "output_type": "execute_result"
    },
    {
     "data": {
      "image/png": "[encoded data removed]",
      "text/plain": [
       "<Figure size 432x288 with 1 Axes>"
      ]
     },
     "metadata": {},
     "output_type": "display_data"
    }
   ],
   "source": [
    "drugdata.filter(\"Gender = 'Female'\").toPandas().groupby('Meth').size().plot(kind='bar')"
   ]
  },
  {
   "cell_type": "code",
   "execution_count": 88,
   "metadata": {},
   "outputs": [
    {
     "data": {
      "text/plain": [
       "<matplotlib.axes._subplots.AxesSubplot at 0x7fe2d7aeed68>"
      ]
     },
     "execution_count": 88,
     "metadata": {},
     "output_type": "execute_result"
    },
    {
     "data": {
      "image/png": "[encoded data removed]",
      "text/plain": [
       "<Figure size 432x288 with 1 Axes>"
      ]
     },
     "metadata": {},
     "output_type": "display_data"
    }
   ],
   "source": [
    "drugdata.filter(\"Gender = 'Male'\").toPandas().groupby('Meth').size().plot(kind='bar')"
   ]
  },
  {
   "cell_type": "code",
   "execution_count": 89,
   "metadata": {},
   "outputs": [
    {
     "data": {
      "text/plain": [
       "<matplotlib.axes._subplots.AxesSubplot at 0x7fe2d79faa20>"
      ]
     },
     "execution_count": 89,
     "metadata": {},
     "output_type": "execute_result"
    },
    {
     "data": {
      "image/png": "[encoded data removed]",
      "text/plain": [
       "<Figure size 432x288 with 1 Axes>"
      ]
     },
     "metadata": {},
     "output_type": "display_data"
    }
   ],
   "source": [
    "drugdata.filter(\"Gender = 'Female'\").toPandas().groupby('Nicotine').size().plot(kind='bar')"
   ]
  },
  {
   "cell_type": "code",
   "execution_count": 90,
   "metadata": {},
   "outputs": [
    {
     "data": {
      "text/plain": [
       "<matplotlib.axes._subplots.AxesSubplot at 0x7fe2d79a6d30>"
      ]
     },
     "execution_count": 90,
     "metadata": {},
     "output_type": "execute_result"
    },
    {
     "data": {
      "image/png": "[encoded data removed]",
      "text/plain": [
       "<Figure size 432x288 with 1 Axes>"
      ]
     },
     "metadata": {},
     "output_type": "display_data"
    }
   ],
   "source": [
    "drugdata.filter(\"Gender = 'Male'\").toPandas().groupby('Nicotine').size().plot(kind='bar')"
   ]
  },
  {
   "cell_type": "code",
   "execution_count": 91,
   "metadata": {},
   "outputs": [
    {
     "name": "stdout",
     "output_type": "stream",
     "text": [
      "+-------+-----------+------------+-----------+-------------+-----------------+-------------+-----------------+\n",
      "| Gender|Neuroticism|Extraversion|Openness...|Agreeableness|Conscientiousness|Impulsiveness|Sensation seeking|\n",
      "+-------+-----------+------------+-----------+-------------+-----------------+-------------+-----------------+\n",
      "| Female|      36.53|       39.99|      44.83|        44.29|            42.72|        -0.16|            -0.25|\n",
      "|   Male|      35.30|       39.15|      46.66|        41.45|            40.17|         0.17|             0.23|\n",
      "|Unknown|      32.50|       37.00|      46.50|        44.00|            38.00|        -0.80|            -0.53|\n",
      "+-------+-----------+------------+-----------+-------------+-----------------+-------------+-----------------+\n",
      "\n"
     ]
    }
   ],
   "source": [
    "# Personality data by gender.\n",
    "gender_stats = drugdata.groupBy('Gender').mean()\n",
    "gender_stats = gender_stats.select('Gender',\n",
    "                                   format_number('avg(Neuroticism)',2),\n",
    "                                   format_number('avg(Extraversion)',2),\n",
    "                                   format_number('avg(Openness to experience)',2),\n",
    "                                   format_number('avg(Agreeableness)',2),\n",
    "                                   format_number('avg(Conscientiousness)',2),\n",
    "                                   format_number('avg(Impulsiveness)',2),\n",
    "                                   format_number('avg(Sensation seeking)',2))\n",
    "gender_stats = gender_stats.select('Gender',\n",
    "                                   col('format_number(avg(Neuroticism), 2)').alias('Neuroticism'),\n",
    "                                   col('format_number(avg(Extraversion), 2)').alias('Extraversion'),\n",
    "                                   col('format_number(avg(Openness to experience), 2)').alias('Openness...'),\n",
    "                                   col('format_number(avg(Agreeableness), 2)').alias('Agreeableness'),\n",
    "                                   col('format_number(avg(Conscientiousness), 2)').alias('Conscientiousness'),\n",
    "                                   col('format_number(avg(Impulsiveness), 2)').alias('Impulsiveness'),\n",
    "                                   col('format_number(avg(Sensation seeking), 2)').alias('Sensation seeking'))\n",
    "gender_stats.orderBy('Gender').show()"
   ]
  },
  {
   "cell_type": "code",
   "execution_count": null,
   "metadata": {},
   "outputs": [],
   "source": []
  }
 ],
 "metadata": {
  "kernelspec": {
   "display_name": "Python 3",
   "language": "python",
   "name": "python3"
  },
  "language_info": {
   "codemirror_mode": {
    "name": "ipython",
    "version": 3
   },
   "file_extension": ".py",
   "mimetype": "text/x-python",
   "name": "python",
   "nbconvert_exporter": "python",
   "pygments_lexer": "ipython3",
   "version": "3.6.5"
  }
 },
 "nbformat": 4,
 "nbformat_minor": 2
}
